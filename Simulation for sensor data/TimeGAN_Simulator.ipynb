{
 "cells": [
  {
   "cell_type": "markdown",
   "metadata": {},
   "source": [
    "# **TimeGan Based Simulator**\n",
    "***"
   ]
  },
  {
   "cell_type": "markdown",
   "metadata": {},
   "source": [
    "### Overview \n",
    "\n",
    "1. **Load Data**: Reads the consolidated sensor data from a CSV file.  \n",
    "2. **Preprocess Data**: Handles missing values, normalizes data, and ensures consistent 30-second intervals.  \n",
    "3. **Visualize Trends**: Plots time-series data for cooling, maxigauge, and temperature to identify patterns and anomalies.  \n",
    "4. **Feature Extraction**: Computes statistical metrics (mean, std, min, max) and checks data stationarity using the ADF test.  \n",
    "5. **Prepare Training Data**: Constructs time-series sequences with a chosen window size (e.g., 60 timestamps).  \n",
    "6. **Build TimeGAN**: Implements an LSTM-based generator and an RNN-based discriminator to learn temporal dependencies.  \n",
    "7. **Train Model**: Optimizes the TimeGAN framework using adversarial learning to generate realistic synthetic time-series data.  \n",
    "8. **Evaluate Results**: Assesses the quality of generated sequences by comparing them with real sensor data using statistical and visual methods.  \n",
    "9. **Generate Synthetic Data**: Uses the trained TimeGAN model to produce new sensor readings that maintain the original data's statistical properties.  \n",
    "10. **Visualization**: Plots real vs. synthetic data to validate the effectiveness of the model.  \n",
    "---"
   ]
  },
  {
   "cell_type": "markdown",
   "metadata": {},
   "source": [
    "### Step 1: Import Required Libraries"
   ]
  },
  {
   "cell_type": "code",
   "execution_count": 1,
   "metadata": {},
   "outputs": [
    {
     "name": "stdout",
     "output_type": "stream",
     "text": [
      "Requirement already satisfied: numpy in c:\\gerry\\envs\\gerrycapstone\\lib\\site-packages (2.2.2)\n",
      "Requirement already satisfied: pandas in c:\\gerry\\envs\\gerrycapstone\\lib\\site-packages (2.2.3)\n",
      "Requirement already satisfied: matplotlib in c:\\gerry\\envs\\gerrycapstone\\lib\\site-packages (3.10.0)\n",
      "Requirement already satisfied: seaborn in c:\\gerry\\envs\\gerrycapstone\\lib\\site-packages (0.13.2)\n",
      "Collecting tensorflow\n",
      "  Downloading tensorflow-2.19.0-cp312-cp312-win_amd64.whl.metadata (4.1 kB)\n",
      "Requirement already satisfied: scikit-learn in c:\\gerry\\envs\\gerrycapstone\\lib\\site-packages (1.6.1)\n",
      "Requirement already satisfied: statsmodels in c:\\gerry\\envs\\gerrycapstone\\lib\\site-packages (0.14.4)\n",
      "Requirement already satisfied: python-dateutil>=2.8.2 in c:\\gerry\\envs\\gerrycapstone\\lib\\site-packages (from pandas) (2.9.0.post0)\n",
      "Requirement already satisfied: pytz>=2020.1 in c:\\gerry\\envs\\gerrycapstone\\lib\\site-packages (from pandas) (2024.1)\n",
      "Requirement already satisfied: tzdata>=2022.7 in c:\\gerry\\envs\\gerrycapstone\\lib\\site-packages (from pandas) (2023.3)\n",
      "Requirement already satisfied: contourpy>=1.0.1 in c:\\gerry\\envs\\gerrycapstone\\lib\\site-packages (from matplotlib) (1.3.1)\n",
      "Requirement already satisfied: cycler>=0.10 in c:\\gerry\\envs\\gerrycapstone\\lib\\site-packages (from matplotlib) (0.11.0)\n",
      "Requirement already satisfied: fonttools>=4.22.0 in c:\\gerry\\envs\\gerrycapstone\\lib\\site-packages (from matplotlib) (4.55.3)\n",
      "Requirement already satisfied: kiwisolver>=1.3.1 in c:\\gerry\\envs\\gerrycapstone\\lib\\site-packages (from matplotlib) (1.4.8)\n",
      "Requirement already satisfied: packaging>=20.0 in c:\\gerry\\envs\\gerrycapstone\\lib\\site-packages (from matplotlib) (24.2)\n",
      "Requirement already satisfied: pillow>=8 in c:\\gerry\\envs\\gerrycapstone\\lib\\site-packages (from matplotlib) (11.1.0)\n",
      "Requirement already satisfied: pyparsing>=2.3.1 in c:\\gerry\\envs\\gerrycapstone\\lib\\site-packages (from matplotlib) (3.2.0)\n",
      "Collecting absl-py>=1.0.0 (from tensorflow)\n",
      "  Downloading absl_py-2.1.0-py3-none-any.whl.metadata (2.3 kB)\n",
      "Collecting astunparse>=1.6.0 (from tensorflow)\n",
      "  Downloading astunparse-1.6.3-py2.py3-none-any.whl.metadata (4.4 kB)\n",
      "Collecting flatbuffers>=24.3.25 (from tensorflow)\n",
      "  Downloading flatbuffers-25.2.10-py2.py3-none-any.whl.metadata (875 bytes)\n",
      "Collecting gast!=0.5.0,!=0.5.1,!=0.5.2,>=0.2.1 (from tensorflow)\n",
      "  Downloading gast-0.6.0-py3-none-any.whl.metadata (1.3 kB)\n",
      "Collecting google-pasta>=0.1.1 (from tensorflow)\n",
      "  Downloading google_pasta-0.2.0-py3-none-any.whl.metadata (814 bytes)\n",
      "Collecting libclang>=13.0.0 (from tensorflow)\n",
      "  Downloading libclang-18.1.1-py2.py3-none-win_amd64.whl.metadata (5.3 kB)\n",
      "Collecting opt-einsum>=2.3.2 (from tensorflow)\n",
      "  Downloading opt_einsum-3.4.0-py3-none-any.whl.metadata (6.3 kB)\n",
      "Collecting protobuf!=4.21.0,!=4.21.1,!=4.21.2,!=4.21.3,!=4.21.4,!=4.21.5,<6.0.0dev,>=3.20.3 (from tensorflow)\n",
      "  Downloading protobuf-5.29.3-cp310-abi3-win_amd64.whl.metadata (592 bytes)\n",
      "Requirement already satisfied: requests<3,>=2.21.0 in c:\\gerry\\envs\\gerrycapstone\\lib\\site-packages (from tensorflow) (2.32.3)\n",
      "Requirement already satisfied: setuptools in c:\\gerry\\envs\\gerrycapstone\\lib\\site-packages (from tensorflow) (72.1.0)\n",
      "Requirement already satisfied: six>=1.12.0 in c:\\gerry\\envs\\gerrycapstone\\lib\\site-packages (from tensorflow) (1.17.0)\n",
      "Collecting termcolor>=1.1.0 (from tensorflow)\n",
      "  Downloading termcolor-2.5.0-py3-none-any.whl.metadata (6.1 kB)\n",
      "Requirement already satisfied: typing-extensions>=3.6.6 in c:\\gerry\\envs\\gerrycapstone\\lib\\site-packages (from tensorflow) (4.12.2)\n",
      "Collecting wrapt>=1.11.0 (from tensorflow)\n",
      "  Downloading wrapt-1.17.2-cp312-cp312-win_amd64.whl.metadata (6.5 kB)\n",
      "Collecting grpcio<2.0,>=1.24.3 (from tensorflow)\n",
      "  Downloading grpcio-1.71.0-cp312-cp312-win_amd64.whl.metadata (4.0 kB)\n",
      "Collecting tensorboard~=2.19.0 (from tensorflow)\n",
      "  Downloading tensorboard-2.19.0-py3-none-any.whl.metadata (1.8 kB)\n",
      "Collecting keras>=3.5.0 (from tensorflow)\n",
      "  Downloading keras-3.9.0-py3-none-any.whl.metadata (6.1 kB)\n",
      "Collecting numpy\n",
      "  Downloading numpy-2.1.3-cp312-cp312-win_amd64.whl.metadata (60 kB)\n",
      "Collecting h5py>=3.11.0 (from tensorflow)\n",
      "  Downloading h5py-3.13.0-cp312-cp312-win_amd64.whl.metadata (2.5 kB)\n",
      "Collecting ml-dtypes<1.0.0,>=0.5.1 (from tensorflow)\n",
      "  Downloading ml_dtypes-0.5.1-cp312-cp312-win_amd64.whl.metadata (22 kB)\n",
      "Requirement already satisfied: scipy>=1.6.0 in c:\\gerry\\envs\\gerrycapstone\\lib\\site-packages (from scikit-learn) (1.15.1)\n",
      "Requirement already satisfied: joblib>=1.2.0 in c:\\gerry\\envs\\gerrycapstone\\lib\\site-packages (from scikit-learn) (1.4.2)\n",
      "Requirement already satisfied: threadpoolctl>=3.1.0 in c:\\gerry\\envs\\gerrycapstone\\lib\\site-packages (from scikit-learn) (3.5.0)\n",
      "Requirement already satisfied: patsy>=0.5.6 in c:\\gerry\\envs\\gerrycapstone\\lib\\site-packages (from statsmodels) (1.0.1)\n",
      "Requirement already satisfied: wheel<1.0,>=0.23.0 in c:\\gerry\\envs\\gerrycapstone\\lib\\site-packages (from astunparse>=1.6.0->tensorflow) (0.45.1)\n",
      "Collecting rich (from keras>=3.5.0->tensorflow)\n",
      "  Downloading rich-13.9.4-py3-none-any.whl.metadata (18 kB)\n",
      "Collecting namex (from keras>=3.5.0->tensorflow)\n",
      "  Downloading namex-0.0.8-py3-none-any.whl.metadata (246 bytes)\n",
      "Collecting optree (from keras>=3.5.0->tensorflow)\n",
      "  Downloading optree-0.14.1-cp312-cp312-win_amd64.whl.metadata (50 kB)\n",
      "Requirement already satisfied: charset-normalizer<4,>=2 in c:\\gerry\\envs\\gerrycapstone\\lib\\site-packages (from requests<3,>=2.21.0->tensorflow) (3.3.2)\n",
      "Requirement already satisfied: idna<4,>=2.5 in c:\\gerry\\envs\\gerrycapstone\\lib\\site-packages (from requests<3,>=2.21.0->tensorflow) (3.7)\n",
      "Requirement already satisfied: urllib3<3,>=1.21.1 in c:\\gerry\\envs\\gerrycapstone\\lib\\site-packages (from requests<3,>=2.21.0->tensorflow) (2.3.0)\n",
      "Requirement already satisfied: certifi>=2017.4.17 in c:\\gerry\\envs\\gerrycapstone\\lib\\site-packages (from requests<3,>=2.21.0->tensorflow) (2025.1.31)\n",
      "Collecting markdown>=2.6.8 (from tensorboard~=2.19.0->tensorflow)\n",
      "  Downloading Markdown-3.7-py3-none-any.whl.metadata (7.0 kB)\n",
      "Collecting tensorboard-data-server<0.8.0,>=0.7.0 (from tensorboard~=2.19.0->tensorflow)\n",
      "  Downloading tensorboard_data_server-0.7.2-py3-none-any.whl.metadata (1.1 kB)\n",
      "Collecting werkzeug>=1.0.1 (from tensorboard~=2.19.0->tensorflow)\n",
      "  Downloading werkzeug-3.1.3-py3-none-any.whl.metadata (3.7 kB)\n",
      "Requirement already satisfied: MarkupSafe>=2.1.1 in c:\\gerry\\envs\\gerrycapstone\\lib\\site-packages (from werkzeug>=1.0.1->tensorboard~=2.19.0->tensorflow) (3.0.2)\n",
      "Collecting markdown-it-py>=2.2.0 (from rich->keras>=3.5.0->tensorflow)\n",
      "  Downloading markdown_it_py-3.0.0-py3-none-any.whl.metadata (6.9 kB)\n",
      "Requirement already satisfied: pygments<3.0.0,>=2.13.0 in c:\\gerry\\envs\\gerrycapstone\\lib\\site-packages (from rich->keras>=3.5.0->tensorflow) (2.19.1)\n",
      "Collecting mdurl~=0.1 (from markdown-it-py>=2.2.0->rich->keras>=3.5.0->tensorflow)\n",
      "  Downloading mdurl-0.1.2-py3-none-any.whl.metadata (1.6 kB)\n",
      "Downloading tensorflow-2.19.0-cp312-cp312-win_amd64.whl (376.0 MB)\n",
      "   ---------------------------------------- 0.0/376.0 MB ? eta -:--:--\n",
      "    --------------------------------------- 5.8/376.0 MB 27.1 MB/s eta 0:00:14\n",
      "   - -------------------------------------- 12.6/376.0 MB 29.3 MB/s eta 0:00:13\n",
      "   - -------------------------------------- 16.8/376.0 MB 31.1 MB/s eta 0:00:12\n",
      "   - -------------------------------------- 18.1/376.0 MB 21.1 MB/s eta 0:00:17\n",
      "   -- ------------------------------------- 19.9/376.0 MB 22.1 MB/s eta 0:00:17\n",
      "   -- ------------------------------------- 25.2/376.0 MB 19.7 MB/s eta 0:00:18\n",
      "   --- ------------------------------------ 34.9/376.0 MB 23.6 MB/s eta 0:00:15\n",
      "   ---- ----------------------------------- 45.9/376.0 MB 27.0 MB/s eta 0:00:13\n",
      "   ------ --------------------------------- 58.2/376.0 MB 30.4 MB/s eta 0:00:11\n",
      "   ------- -------------------------------- 72.1/376.0 MB 34.1 MB/s eta 0:00:09\n",
      "   ------- -------------------------------- 74.4/376.0 MB 34.7 MB/s eta 0:00:09\n",
      "   -------- ------------------------------- 77.1/376.0 MB 30.3 MB/s eta 0:00:10\n",
      "   --------- ------------------------------ 92.3/376.0 MB 33.5 MB/s eta 0:00:09\n",
      "   ---------- ---------------------------- 103.3/376.0 MB 34.9 MB/s eta 0:00:08\n",
      "   ------------ -------------------------- 120.3/376.0 MB 37.9 MB/s eta 0:00:07\n",
      "   ------------ -------------------------- 123.7/376.0 MB 38.4 MB/s eta 0:00:07\n",
      "   ------------- ------------------------- 127.1/376.0 MB 35.5 MB/s eta 0:00:08\n",
      "   -------------- ------------------------ 138.7/376.0 MB 36.3 MB/s eta 0:00:07\n",
      "   ---------------- ---------------------- 156.0/376.0 MB 38.8 MB/s eta 0:00:06\n",
      "   ----------------- --------------------- 170.7/376.0 MB 40.4 MB/s eta 0:00:06\n",
      "   ------------------- ------------------- 191.4/376.0 MB 43.1 MB/s eta 0:00:05\n",
      "   -------------------- ------------------ 201.3/376.0 MB 44.4 MB/s eta 0:00:04\n",
      "   --------------------- ----------------- 207.1/376.0 MB 42.6 MB/s eta 0:00:04\n",
      "   ----------------------- --------------- 231.2/376.0 MB 45.6 MB/s eta 0:00:04\n",
      "   -------------------------- ------------ 252.7/376.0 MB 47.8 MB/s eta 0:00:03\n",
      "   --------------------------- ----------- 267.4/376.0 MB 49.3 MB/s eta 0:00:03\n",
      "   ------------------------------ -------- 292.0/376.0 MB 60.3 MB/s eta 0:00:02\n",
      "   ------------------------------ -------- 296.7/376.0 MB 61.2 MB/s eta 0:00:02\n",
      "   ------------------------------- ------- 302.0/376.0 MB 58.0 MB/s eta 0:00:02\n",
      "   --------------------------------- ----- 322.2/376.0 MB 59.4 MB/s eta 0:00:01\n",
      "   ----------------------------------- --- 343.1/376.0 MB 66.2 MB/s eta 0:00:01\n",
      "   --------------------------------------  368.1/376.0 MB 69.6 MB/s eta 0:00:01\n",
      "   --------------------------------------  375.9/376.0 MB 70.1 MB/s eta 0:00:01\n",
      "   --------------------------------------- 376.0/376.0 MB 65.2 MB/s eta 0:00:00\n",
      "Downloading numpy-2.1.3-cp312-cp312-win_amd64.whl (12.6 MB)\n",
      "   ---------------------------------------- 0.0/12.6 MB ? eta -:--:--\n",
      "   ---------------------------------- ----- 10.7/12.6 MB 51.7 MB/s eta 0:00:01\n",
      "   ---------------------------------------- 12.6/12.6 MB 52.4 MB/s eta 0:00:00\n",
      "Downloading absl_py-2.1.0-py3-none-any.whl (133 kB)\n",
      "Downloading astunparse-1.6.3-py2.py3-none-any.whl (12 kB)\n",
      "Downloading flatbuffers-25.2.10-py2.py3-none-any.whl (30 kB)\n",
      "Downloading gast-0.6.0-py3-none-any.whl (21 kB)\n",
      "Downloading google_pasta-0.2.0-py3-none-any.whl (57 kB)\n",
      "Downloading grpcio-1.71.0-cp312-cp312-win_amd64.whl (4.3 MB)\n",
      "   ---------------------------------------- 0.0/4.3 MB ? eta -:--:--\n",
      "   ---------------------------------------- 4.3/4.3 MB 32.1 MB/s eta 0:00:00\n",
      "Downloading h5py-3.13.0-cp312-cp312-win_amd64.whl (3.0 MB)\n",
      "   ---------------------------------------- 0.0/3.0 MB ? eta -:--:--\n",
      "   ---------------------------------------- 3.0/3.0 MB 86.8 MB/s eta 0:00:00\n",
      "Downloading keras-3.9.0-py3-none-any.whl (1.3 MB)\n",
      "   ---------------------------------------- 0.0/1.3 MB ? eta -:--:--\n",
      "   ---------------------------------------- 1.3/1.3 MB 72.0 MB/s eta 0:00:00\n",
      "Downloading libclang-18.1.1-py2.py3-none-win_amd64.whl (26.4 MB)\n",
      "   ---------------------------------------- 0.0/26.4 MB ? eta -:--:--\n",
      "   -------------------------- ------------- 17.8/26.4 MB 86.5 MB/s eta 0:00:01\n",
      "   ---------------------------------------- 26.4/26.4 MB 88.1 MB/s eta 0:00:00\n",
      "Downloading ml_dtypes-0.5.1-cp312-cp312-win_amd64.whl (210 kB)\n",
      "Downloading opt_einsum-3.4.0-py3-none-any.whl (71 kB)\n",
      "Downloading protobuf-5.29.3-cp310-abi3-win_amd64.whl (434 kB)\n",
      "Downloading tensorboard-2.19.0-py3-none-any.whl (5.5 MB)\n",
      "   ---------------------------------------- 0.0/5.5 MB ? eta -:--:--\n",
      "   ---------------------------------------- 5.5/5.5 MB 111.5 MB/s eta 0:00:00\n",
      "Downloading termcolor-2.5.0-py3-none-any.whl (7.8 kB)\n",
      "Downloading wrapt-1.17.2-cp312-cp312-win_amd64.whl (38 kB)\n",
      "Downloading Markdown-3.7-py3-none-any.whl (106 kB)\n",
      "Downloading tensorboard_data_server-0.7.2-py3-none-any.whl (2.4 kB)\n",
      "Downloading werkzeug-3.1.3-py3-none-any.whl (224 kB)\n",
      "Downloading namex-0.0.8-py3-none-any.whl (5.8 kB)\n",
      "Downloading optree-0.14.1-cp312-cp312-win_amd64.whl (306 kB)\n",
      "Downloading rich-13.9.4-py3-none-any.whl (242 kB)\n",
      "Downloading markdown_it_py-3.0.0-py3-none-any.whl (87 kB)\n",
      "Downloading mdurl-0.1.2-py3-none-any.whl (10.0 kB)\n",
      "Installing collected packages: namex, libclang, flatbuffers, wrapt, werkzeug, termcolor, tensorboard-data-server, protobuf, optree, opt-einsum, numpy, mdurl, markdown, grpcio, google-pasta, gast, astunparse, absl-py, tensorboard, ml-dtypes, markdown-it-py, h5py, rich, keras, tensorflow\n",
      "  Attempting uninstall: numpy\n",
      "    Found existing installation: numpy 2.2.2\n",
      "    Uninstalling numpy-2.2.2:\n",
      "      Successfully uninstalled numpy-2.2.2\n",
      "Successfully installed absl-py-2.1.0 astunparse-1.6.3 flatbuffers-25.2.10 gast-0.6.0 google-pasta-0.2.0 grpcio-1.71.0 h5py-3.13.0 keras-3.9.0 libclang-18.1.1 markdown-3.7 markdown-it-py-3.0.0 mdurl-0.1.2 ml-dtypes-0.5.1 namex-0.0.8 numpy-2.1.3 opt-einsum-3.4.0 optree-0.14.1 protobuf-5.29.3 rich-13.9.4 tensorboard-2.19.0 tensorboard-data-server-0.7.2 tensorflow-2.19.0 termcolor-2.5.0 werkzeug-3.1.3 wrapt-1.17.2\n",
      "Note: you may need to restart the kernel to use updated packages.\n"
     ]
    }
   ],
   "source": [
    "# Install dependencies\n",
    "%pip install numpy pandas matplotlib seaborn tensorflow scikit-learn statsmodels"
   ]
  },
  {
   "cell_type": "code",
   "execution_count": 2,
   "metadata": {},
   "outputs": [
    {
     "name": "stdout",
     "output_type": "stream",
     "text": [
      "Requirement already satisfied: keras in c:\\gerry\\envs\\gerrycapstone\\lib\\site-packages (3.9.0)\n",
      "Requirement already satisfied: absl-py in c:\\gerry\\envs\\gerrycapstone\\lib\\site-packages (from keras) (2.1.0)\n",
      "Requirement already satisfied: numpy in c:\\gerry\\envs\\gerrycapstone\\lib\\site-packages (from keras) (2.1.3)\n",
      "Requirement already satisfied: rich in c:\\gerry\\envs\\gerrycapstone\\lib\\site-packages (from keras) (13.9.4)\n",
      "Requirement already satisfied: namex in c:\\gerry\\envs\\gerrycapstone\\lib\\site-packages (from keras) (0.0.8)\n",
      "Requirement already satisfied: h5py in c:\\gerry\\envs\\gerrycapstone\\lib\\site-packages (from keras) (3.13.0)\n",
      "Requirement already satisfied: optree in c:\\gerry\\envs\\gerrycapstone\\lib\\site-packages (from keras) (0.14.1)\n",
      "Requirement already satisfied: ml-dtypes in c:\\gerry\\envs\\gerrycapstone\\lib\\site-packages (from keras) (0.5.1)\n",
      "Requirement already satisfied: packaging in c:\\gerry\\envs\\gerrycapstone\\lib\\site-packages (from keras) (24.2)\n",
      "Requirement already satisfied: typing-extensions>=4.5.0 in c:\\gerry\\envs\\gerrycapstone\\lib\\site-packages (from optree->keras) (4.12.2)\n",
      "Requirement already satisfied: markdown-it-py>=2.2.0 in c:\\gerry\\envs\\gerrycapstone\\lib\\site-packages (from rich->keras) (3.0.0)\n",
      "Requirement already satisfied: pygments<3.0.0,>=2.13.0 in c:\\gerry\\envs\\gerrycapstone\\lib\\site-packages (from rich->keras) (2.19.1)\n",
      "Requirement already satisfied: mdurl~=0.1 in c:\\gerry\\envs\\gerrycapstone\\lib\\site-packages (from markdown-it-py>=2.2.0->rich->keras) (0.1.2)\n",
      "Note: you may need to restart the kernel to use updated packages.\n"
     ]
    }
   ],
   "source": [
    "%pip install keras"
   ]
  },
  {
   "cell_type": "code",
   "execution_count": 1,
   "metadata": {},
   "outputs": [],
   "source": [
    "import numpy as np\n",
    "import pandas as pd\n",
    "import matplotlib.pyplot as plt\n",
    "import seaborn as sns\n",
    "import tensorflow as tf\n",
    "from tensorflow import keras\n",
    "from keras.models import Sequential\n",
    "from keras.layers import LSTM, GRU, Dense, Dropout\n",
    "from sklearn.preprocessing import StandardScaler\n",
    "from statsmodels.tsa.stattools import adfuller"
   ]
  },
  {
   "cell_type": "markdown",
   "metadata": {},
   "source": [
    "***\n",
    "### Step 2: Load and Preprocess Data\n",
    "- Loading the consolidated CSV file.\n",
    "- Handling missing values.\n",
    "- Normalizing the data for better model performance."
   ]
  },
  {
   "cell_type": "code",
   "execution_count": 2,
   "metadata": {},
   "outputs": [
    {
     "name": "stdout",
     "output_type": "stream",
     "text": [
      "First few rows of the dataset:\n",
      "             datetime  cooling_channel0  cooling_channel1  cooling_channel10  \\\n",
      "0 2023-08-31 00:00:30         15.596670         15.558330          15.542780   \n",
      "1 2023-08-31 00:01:00         15.594503         15.558330          15.538204   \n",
      "2 2023-08-31 00:01:30         15.592003         15.558330          15.532924   \n",
      "3 2023-08-31 00:02:00         15.590465         15.553758          15.537758   \n",
      "4 2023-08-31 00:02:30         15.589075         15.548483          15.544148   \n",
      "\n",
      "   cooling_channel11  maxigauge_channel1  maxigauge_channel2  \\\n",
      "0          15.555560                0.02            0.088700   \n",
      "1          15.546651                0.02            0.088713   \n",
      "2          15.536371                0.02            0.088762   \n",
      "3          15.549443                0.02            0.088800   \n",
      "4          15.566108                0.02            0.088800   \n",
      "\n",
      "   maxigauge_channel3  maxigauge_channel4  maxigauge_channel5  \\\n",
      "0           -1.480000               150.0               710.0   \n",
      "1           -1.474754               150.0               710.0   \n",
      "2           -1.455082               150.0               710.0   \n",
      "3           -1.440000               150.0               710.0   \n",
      "4           -1.440000               150.0               710.0   \n",
      "\n",
      "   maxigauge_channel6  temperature_channel1  temperature_channel2  \\\n",
      "0               998.0            293.079000            293.751000   \n",
      "1               998.0            293.079033            293.751017   \n",
      "2               998.0            293.080033            293.751517   \n",
      "3               998.0            293.080951            293.752148   \n",
      "4               998.0            293.079475            293.756574   \n",
      "\n",
      "   temperature_channel5  temperature_channel6  \n",
      "0            293.731000                   0.0  \n",
      "1            293.730633                   0.0  \n",
      "2            293.719633                   0.0  \n",
      "3            293.709721                   0.0  \n",
      "4            293.731361                   0.0  \n"
     ]
    }
   ],
   "source": [
    "# Load the dataset\n",
    "data = pd.read_csv(\"../databases/processed_data/cd230831.csv\")\n",
    "\n",
    "# Convert the datetime column to a proper datetime format if needed\n",
    "data['datetime'] = pd.to_datetime(data['datetime'])\n",
    "\n",
    "\n",
    "# Display the first few rows to inspect the structure\n",
    "print(\"First few rows of the dataset:\")\n",
    "print(data.head())"
   ]
  },
  {
   "cell_type": "code",
   "execution_count": 3,
   "metadata": {},
   "outputs": [
    {
     "name": "stdout",
     "output_type": "stream",
     "text": [
      "\n",
      "Summary Statistics after Standardization:\n",
      "                            datetime  cooling_channel0  cooling_channel1  \\\n",
      "count                          69112      6.911200e+04      6.911200e+04   \n",
      "mean   2023-09-11 23:58:15.000000256      8.159028e-16      1.158056e-15   \n",
      "min              2023-08-31 00:00:30     -3.214294e+00     -3.056965e+00   \n",
      "25%       2023-09-05 23:59:22.500000      2.029070e-02     -1.656629e-01   \n",
      "50%              2023-09-11 23:58:15      3.129120e-01      1.632958e-01   \n",
      "75%       2023-09-17 23:57:07.500000      4.129965e-01      5.470944e-01   \n",
      "max              2023-09-23 23:56:00      1.231259e+00      2.625233e+00   \n",
      "std                              NaN      1.000007e+00      1.000007e+00   \n",
      "\n",
      "       cooling_channel10  cooling_channel11  maxigauge_channel1  \\\n",
      "count       6.911200e+04       6.911200e+04        6.910900e+04   \n",
      "mean       -6.316667e-16      -3.053055e-15        2.673185e-18   \n",
      "min        -3.228404e+00      -3.096646e+00       -1.827294e-02   \n",
      "25%         4.953195e-02      -1.524480e-01       -1.827290e-02   \n",
      "50%         2.975924e-01       1.757423e-01       -1.827287e-02   \n",
      "75%         4.147461e-01       5.348474e-01       -1.827274e-02   \n",
      "max         1.225700e+00       2.565884e+00        6.798561e+01   \n",
      "std         1.000007e+00       1.000007e+00        1.000007e+00   \n",
      "\n",
      "       maxigauge_channel2  maxigauge_channel3  maxigauge_channel4  \\\n",
      "count        6.910900e+04        6.910900e+04        6.910900e+04   \n",
      "mean         1.316029e-17        1.974044e-16       -7.303963e-16   \n",
      "min         -5.083236e-02       -2.160196e+00       -3.484767e+00   \n",
      "25%         -4.940251e-02        3.835605e-01        3.024938e-01   \n",
      "50%         -4.938967e-02        4.221522e-01        3.512333e-01   \n",
      "75%         -4.937639e-02        4.512442e-01        3.952477e-01   \n",
      "max          3.389513e+01        4.805918e+00        3.717449e+00   \n",
      "std          1.000007e+00        1.000007e+00        1.000007e+00   \n",
      "\n",
      "       maxigauge_channel5  maxigauge_channel6  temperature_channel1  \\\n",
      "count        6.910900e+04        6.910900e+04          6.863900e+04   \n",
      "mean        -5.264117e-17        4.935110e-17          2.650081e-16   \n",
      "min         -4.589338e-01       -1.857450e-01         -3.399396e-01   \n",
      "25%         -4.587494e-01       -1.813242e-01         -3.358922e-01   \n",
      "50%         -4.586757e-01       -1.655594e-01         -3.282294e-01   \n",
      "75%         -4.585739e-01       -1.493681e-01         -3.219131e-01   \n",
      "max          2.240609e+00        6.126256e+00          3.608791e+00   \n",
      "std          1.000007e+00        1.000007e+00          1.000007e+00   \n",
      "\n",
      "       temperature_channel2  temperature_channel5  temperature_channel6  \n",
      "count          6.862600e+04          6.861100e+04          6.863000e+04  \n",
      "mean          -2.650583e-17         -2.651163e-17         -6.626072e-18  \n",
      "min           -3.335040e-01         -3.595782e-01         -1.873811e-01  \n",
      "25%           -3.328181e-01         -3.572178e-01         -1.866352e-01  \n",
      "50%           -3.327072e-01         -3.572137e-01         -1.865769e-01  \n",
      "75%           -3.323081e-01         -3.572084e-01         -1.864302e-01  \n",
      "max            3.889951e+00          3.760841e+00          8.145608e+00  \n",
      "std            1.000007e+00          1.000007e+00          1.000007e+00  \n",
      "\n",
      "Data standardization completed successfully. Saved as 'TimeGAN_data.csv'.\n"
     ]
    }
   ],
   "source": [
    "# Initialize StandardScaler\n",
    "scaler = StandardScaler()\n",
    "\n",
    "# Apply Z-score normalization (excluding the datetime column)\n",
    "scaled_data = scaler.fit_transform(data.iloc[:, 1:])\n",
    "\n",
    "# Convert back to DataFrame\n",
    "scaled_df = pd.DataFrame(scaled_data, columns=data.columns[1:])\n",
    "scaled_df.insert(0, 'datetime', data['datetime'])  # Reinsert datetime column\n",
    "\n",
    "# Display summary statistics after standardization\n",
    "print(\"\\nSummary Statistics after Standardization:\")\n",
    "print(scaled_df.describe())\n",
    "\n",
    "# Save the preprocessed data for future use\n",
    "# scaled_df.to_csv(\"../databases/processed_data/TimeGAN_data.csv\", index=False)\n",
    "print(\"\\nData standardization completed successfully. Saved as 'TimeGAN_data.csv'.\")"
   ]
  },
  {
   "cell_type": "code",
   "execution_count": 4,
   "metadata": {},
   "outputs": [
    {
     "data": {
      "text/html": [
       "<div>\n",
       "<style scoped>\n",
       "    .dataframe tbody tr th:only-of-type {\n",
       "        vertical-align: middle;\n",
       "    }\n",
       "\n",
       "    .dataframe tbody tr th {\n",
       "        vertical-align: top;\n",
       "    }\n",
       "\n",
       "    .dataframe thead th {\n",
       "        text-align: right;\n",
       "    }\n",
       "</style>\n",
       "<table border=\"1\" class=\"dataframe\">\n",
       "  <thead>\n",
       "    <tr style=\"text-align: right;\">\n",
       "      <th></th>\n",
       "      <th>datetime</th>\n",
       "      <th>cooling_channel0</th>\n",
       "      <th>cooling_channel1</th>\n",
       "      <th>cooling_channel10</th>\n",
       "      <th>cooling_channel11</th>\n",
       "      <th>maxigauge_channel1</th>\n",
       "      <th>maxigauge_channel2</th>\n",
       "      <th>maxigauge_channel3</th>\n",
       "      <th>maxigauge_channel4</th>\n",
       "      <th>maxigauge_channel5</th>\n",
       "      <th>maxigauge_channel6</th>\n",
       "      <th>temperature_channel1</th>\n",
       "      <th>temperature_channel2</th>\n",
       "      <th>temperature_channel5</th>\n",
       "      <th>temperature_channel6</th>\n",
       "    </tr>\n",
       "  </thead>\n",
       "  <tbody>\n",
       "    <tr>\n",
       "      <th>0</th>\n",
       "      <td>2023-08-31 00:00:30</td>\n",
       "      <td>-3.199849</td>\n",
       "      <td>-2.994182</td>\n",
       "      <td>-3.204761</td>\n",
       "      <td>-3.034381</td>\n",
       "      <td>-0.016913</td>\n",
       "      <td>-0.045074</td>\n",
       "      <td>-2.155074</td>\n",
       "      <td>-2.763639</td>\n",
       "      <td>2.137367</td>\n",
       "      <td>6.126256</td>\n",
       "      <td>3.608761</td>\n",
       "      <td>3.889064</td>\n",
       "      <td>3.756615</td>\n",
       "      <td>-0.187381</td>\n",
       "    </tr>\n",
       "    <tr>\n",
       "      <th>1</th>\n",
       "      <td>2023-08-31 00:01:00</td>\n",
       "      <td>-3.200409</td>\n",
       "      <td>-2.994182</td>\n",
       "      <td>-3.206055</td>\n",
       "      <td>-3.042871</td>\n",
       "      <td>-0.016913</td>\n",
       "      <td>-0.045073</td>\n",
       "      <td>-2.155055</td>\n",
       "      <td>-2.763639</td>\n",
       "      <td>2.137367</td>\n",
       "      <td>6.126256</td>\n",
       "      <td>3.608762</td>\n",
       "      <td>3.889064</td>\n",
       "      <td>3.756610</td>\n",
       "      <td>-0.187381</td>\n",
       "    </tr>\n",
       "    <tr>\n",
       "      <th>2</th>\n",
       "      <td>2023-08-31 00:01:30</td>\n",
       "      <td>-3.201056</td>\n",
       "      <td>-2.994182</td>\n",
       "      <td>-3.207548</td>\n",
       "      <td>-3.052668</td>\n",
       "      <td>-0.016913</td>\n",
       "      <td>-0.045070</td>\n",
       "      <td>-2.154981</td>\n",
       "      <td>-2.763639</td>\n",
       "      <td>2.137367</td>\n",
       "      <td>6.126256</td>\n",
       "      <td>3.608777</td>\n",
       "      <td>3.889071</td>\n",
       "      <td>3.756455</td>\n",
       "      <td>-0.187381</td>\n",
       "    </tr>\n",
       "    <tr>\n",
       "      <th>3</th>\n",
       "      <td>2023-08-31 00:02:00</td>\n",
       "      <td>-3.201453</td>\n",
       "      <td>-2.998553</td>\n",
       "      <td>-3.206181</td>\n",
       "      <td>-3.040210</td>\n",
       "      <td>-0.016913</td>\n",
       "      <td>-0.045067</td>\n",
       "      <td>-2.154925</td>\n",
       "      <td>-2.763639</td>\n",
       "      <td>2.137367</td>\n",
       "      <td>6.126256</td>\n",
       "      <td>3.608791</td>\n",
       "      <td>3.889081</td>\n",
       "      <td>3.756316</td>\n",
       "      <td>-0.187381</td>\n",
       "    </tr>\n",
       "    <tr>\n",
       "      <th>4</th>\n",
       "      <td>2023-08-31 00:02:30</td>\n",
       "      <td>-3.201812</td>\n",
       "      <td>-3.003597</td>\n",
       "      <td>-3.204374</td>\n",
       "      <td>-3.024329</td>\n",
       "      <td>-0.016913</td>\n",
       "      <td>-0.045067</td>\n",
       "      <td>-2.154925</td>\n",
       "      <td>-2.763639</td>\n",
       "      <td>2.137367</td>\n",
       "      <td>6.126256</td>\n",
       "      <td>3.608769</td>\n",
       "      <td>3.889145</td>\n",
       "      <td>3.756620</td>\n",
       "      <td>-0.187381</td>\n",
       "    </tr>\n",
       "  </tbody>\n",
       "</table>\n",
       "</div>"
      ],
      "text/plain": [
       "             datetime  cooling_channel0  cooling_channel1  cooling_channel10  \\\n",
       "0 2023-08-31 00:00:30         -3.199849         -2.994182          -3.204761   \n",
       "1 2023-08-31 00:01:00         -3.200409         -2.994182          -3.206055   \n",
       "2 2023-08-31 00:01:30         -3.201056         -2.994182          -3.207548   \n",
       "3 2023-08-31 00:02:00         -3.201453         -2.998553          -3.206181   \n",
       "4 2023-08-31 00:02:30         -3.201812         -3.003597          -3.204374   \n",
       "\n",
       "   cooling_channel11  maxigauge_channel1  maxigauge_channel2  \\\n",
       "0          -3.034381           -0.016913           -0.045074   \n",
       "1          -3.042871           -0.016913           -0.045073   \n",
       "2          -3.052668           -0.016913           -0.045070   \n",
       "3          -3.040210           -0.016913           -0.045067   \n",
       "4          -3.024329           -0.016913           -0.045067   \n",
       "\n",
       "   maxigauge_channel3  maxigauge_channel4  maxigauge_channel5  \\\n",
       "0           -2.155074           -2.763639            2.137367   \n",
       "1           -2.155055           -2.763639            2.137367   \n",
       "2           -2.154981           -2.763639            2.137367   \n",
       "3           -2.154925           -2.763639            2.137367   \n",
       "4           -2.154925           -2.763639            2.137367   \n",
       "\n",
       "   maxigauge_channel6  temperature_channel1  temperature_channel2  \\\n",
       "0            6.126256              3.608761              3.889064   \n",
       "1            6.126256              3.608762              3.889064   \n",
       "2            6.126256              3.608777              3.889071   \n",
       "3            6.126256              3.608791              3.889081   \n",
       "4            6.126256              3.608769              3.889145   \n",
       "\n",
       "   temperature_channel5  temperature_channel6  \n",
       "0              3.756615             -0.187381  \n",
       "1              3.756610             -0.187381  \n",
       "2              3.756455             -0.187381  \n",
       "3              3.756316             -0.187381  \n",
       "4              3.756620             -0.187381  "
      ]
     },
     "execution_count": 4,
     "metadata": {},
     "output_type": "execute_result"
    }
   ],
   "source": [
    "scaled_df.head()"
   ]
  },
  {
   "cell_type": "markdown",
   "metadata": {},
   "source": [
    "### Step 3: Data Visualization\n",
    "- Plot time-series trends for cooling, maxigauge, and temperature sensors.\n",
    "- Identify any existing patterns or outliers in the dataset.\n",
    "- Check if the standardization process was correctly applied."
   ]
  },
  {
   "cell_type": "code",
   "execution_count": 5,
   "metadata": {},
   "outputs": [
    {
     "data": {
      "image/png": "[encoded data removed]",
      "text/plain": [
       "<Figure size 1200x600 with 1 Axes>"
      ]
     },
     "metadata": {},
     "output_type": "display_data"
    }
   ],
   "source": [
    "# Load the preprocessed dataset\n",
    "data = pd.read_csv(\"../databases/processed_data/TimeGAN_data.csv\")\n",
    "\n",
    "# Convert datetime column to proper format\n",
    "data['datetime'] = pd.to_datetime(data['datetime'])\n",
    "\n",
    "# Select the chosen sensor channels\n",
    "selected_columns = ['datetime', 'cooling_channel10', 'temperature_channel1', 'maxigauge_channel3']\n",
    "subset_data = data[selected_columns]\n",
    "\n",
    "# Downsample data (take one point every 10 minutes)\n",
    "subset_downsampled = subset_data.iloc[::20, :]  # Select every 20th row (~10 min interval)\n",
    "\n",
    "# Set the figure size\n",
    "plt.figure(figsize=(12, 6))\n",
    "\n",
    "# Plot the selected sensor data over time\n",
    "sns.lineplot(x=subset_downsampled['datetime'], y=subset_downsampled['cooling_channel10'], label='Cooling Ch10')\n",
    "sns.lineplot(x=subset_downsampled['datetime'], y=subset_downsampled['temperature_channel1'], label='Temperature Ch1')\n",
    "sns.lineplot(x=subset_downsampled['datetime'], y=subset_downsampled['maxigauge_channel3'], label='Maxigauge Ch3')\n",
    "\n",
    "# Formatting the plot\n",
    "plt.xlabel(\"Datetime\")\n",
    "plt.ylabel(\"Standardized Values\")\n",
    "plt.title(\"Time-Series Trends of Selected Sensors\")\n",
    "plt.xticks(rotation=45)\n",
    "plt.legend()\n",
    "plt.grid(True)\n",
    "\n",
    "# Show the plot\n",
    "plt.show()"
   ]
  },
  {
   "cell_type": "markdown",
   "metadata": {},
   "source": [
    "### Step 4: Feature Extraction\n",
    "extract key statistical features from the dataset."
   ]
  },
  {
   "cell_type": "code",
   "execution_count": 6,
   "metadata": {},
   "outputs": [
    {
     "data": {
      "text/plain": [
       "'# Replace Inf values with NaN\\ndata.replace([np.inf, -np.inf], np.nan, inplace=True)\\n\\n# Fill NaN values using forward-fill (or use mean imputation)\\ndata.fillna(method=\\'ffill\\', inplace=True)  # Forward-fill\\ndata.fillna(method=\\'bfill\\', inplace=True)  # Backward-fill (if needed)\\n\\n# Drop any remaining NaN rows\\ndata.dropna(inplace=True)\\n\\n# Save the cleaned dataset (optional)\\ndata.to_csv(\"../databases/processed_data/TimeGAN_data_cleaned.csv\", index=False)\\n\\nprint(\"\\n Data cleaned successfully. No NaN or Inf values remain.\")'"
      ]
     },
     "execution_count": 6,
     "metadata": {},
     "output_type": "execute_result"
    }
   ],
   "source": [
    "'''# Replace Inf values with NaN\n",
    "data.replace([np.inf, -np.inf], np.nan, inplace=True)\n",
    "\n",
    "# Fill NaN values using forward-fill (or use mean imputation)\n",
    "data.fillna(method='ffill', inplace=True)  # Forward-fill\n",
    "data.fillna(method='bfill', inplace=True)  # Backward-fill (if needed)\n",
    "\n",
    "# Drop any remaining NaN rows\n",
    "data.dropna(inplace=True)\n",
    "\n",
    "# Save the cleaned dataset (optional)\n",
    "data.to_csv(\"../databases/processed_data/TimeGAN_data_cleaned.csv\", index=False)\n",
    "\n",
    "print(\"\\n Data cleaned successfully. No NaN or Inf values remain.\")'''"
   ]
  },
  {
   "cell_type": "code",
   "execution_count": 7,
   "metadata": {},
   "outputs": [
    {
     "name": "stderr",
     "output_type": "stream",
     "text": [
      "C:\\Users\\Administrator\\AppData\\Local\\Temp\\ipykernel_443892\\1340927989.py:14: SettingWithCopyWarning: \n",
      "A value is trying to be set on a copy of a slice from a DataFrame\n",
      "\n",
      "See the caveats in the documentation: https://pandas.pydata.org/pandas-docs/stable/user_guide/indexing.html#returning-a-view-versus-a-copy\n",
      "  sensor_data.replace([np.inf, -np.inf], np.nan, inplace=True)\n",
      "C:\\Users\\Administrator\\AppData\\Local\\Temp\\ipykernel_443892\\1340927989.py:15: FutureWarning: DataFrame.fillna with 'method' is deprecated and will raise in a future version. Use obj.ffill() or obj.bfill() instead.\n",
      "  sensor_data.fillna(method='ffill', inplace=True)  # Forward-fill missing values\n",
      "C:\\Users\\Administrator\\AppData\\Local\\Temp\\ipykernel_443892\\1340927989.py:15: SettingWithCopyWarning: \n",
      "A value is trying to be set on a copy of a slice from a DataFrame\n",
      "\n",
      "See the caveats in the documentation: https://pandas.pydata.org/pandas-docs/stable/user_guide/indexing.html#returning-a-view-versus-a-copy\n",
      "  sensor_data.fillna(method='ffill', inplace=True)  # Forward-fill missing values\n",
      "C:\\Users\\Administrator\\AppData\\Local\\Temp\\ipykernel_443892\\1340927989.py:16: FutureWarning: DataFrame.fillna with 'method' is deprecated and will raise in a future version. Use obj.ffill() or obj.bfill() instead.\n",
      "  sensor_data.fillna(method='bfill', inplace=True)  # Backward-fill if needed\n",
      "C:\\Users\\Administrator\\AppData\\Local\\Temp\\ipykernel_443892\\1340927989.py:16: SettingWithCopyWarning: \n",
      "A value is trying to be set on a copy of a slice from a DataFrame\n",
      "\n",
      "See the caveats in the documentation: https://pandas.pydata.org/pandas-docs/stable/user_guide/indexing.html#returning-a-view-versus-a-copy\n",
      "  sensor_data.fillna(method='bfill', inplace=True)  # Backward-fill if needed\n",
      "C:\\Users\\Administrator\\AppData\\Local\\Temp\\ipykernel_443892\\1340927989.py:17: SettingWithCopyWarning: \n",
      "A value is trying to be set on a copy of a slice from a DataFrame\n",
      "\n",
      "See the caveats in the documentation: https://pandas.pydata.org/pandas-docs/stable/user_guide/indexing.html#returning-a-view-versus-a-copy\n",
      "  sensor_data.dropna(inplace=True)  # Drop any remaining NaN values\n"
     ]
    },
    {
     "name": "stdout",
     "output_type": "stream",
     "text": [
      "\n",
      "Augmented Dickey-Fuller (ADF) Test Results for Selected Sensors:\n",
      "                      ADF Statistic   p-value\n",
      "cooling_channel10         -2.762297  0.063865\n",
      "temperature_channel1      -2.635902  0.085802\n",
      "maxigauge_channel3        -3.553566  0.006713\n"
     ]
    }
   ],
   "source": [
    "from statsmodels.tsa.stattools import adfuller\n",
    "\n",
    "# Load the dataset\n",
    "data = pd.read_csv(\"../databases/processed_data/TimeGAN_data.csv\")\n",
    "\n",
    "# Convert datetime column to proper format\n",
    "data['datetime'] = pd.to_datetime(data['datetime'])\n",
    "\n",
    "# Select only the relevant sensor columns\n",
    "selected_columns = ['cooling_channel10', 'temperature_channel1', 'maxigauge_channel3']\n",
    "sensor_data = data[selected_columns]\n",
    "\n",
    "# Check for NaN and Inf values before ADF test\n",
    "sensor_data.replace([np.inf, -np.inf], np.nan, inplace=True)\n",
    "sensor_data.fillna(method='ffill', inplace=True)  # Forward-fill missing values\n",
    "sensor_data.fillna(method='bfill', inplace=True)  # Backward-fill if needed\n",
    "sensor_data.dropna(inplace=True)  # Drop any remaining NaN values\n",
    "\n",
    "# Perform ADF test for selected sensors\n",
    "adf_results = {}\n",
    "for column in sensor_data.columns:\n",
    "    adf_test = adfuller(sensor_data[column])\n",
    "    adf_results[column] = {'ADF Statistic': adf_test[0], 'p-value': adf_test[1]}\n",
    "\n",
    "# Convert ADF results to a DataFrame\n",
    "adf_df = pd.DataFrame.from_dict(adf_results, orient='index')\n",
    "\n",
    "# Display ADF test results\n",
    "print(\"\\nAugmented Dickey-Fuller (ADF) Test Results for Selected Sensors:\")\n",
    "print(adf_df)\n"
   ]
  },
  {
   "cell_type": "markdown",
   "metadata": {},
   "source": [
    "### Step 5: Prepare Training Data for TimeGAN\n",
    "- Select 'cooling_channel10', 'temperature_channel1', and 'maxigauge_channel3' for training.\n",
    "- Convert the dataset into sequences that TimeGAN can process.\n",
    "- Define the time window (sequence length) for training."
   ]
  },
  {
   "cell_type": "code",
   "execution_count": 8,
   "metadata": {},
   "outputs": [
    {
     "name": "stdout",
     "output_type": "stream",
     "text": [
      "\n",
      "✅ Training data prepared successfully!\n",
      "Training data shape: (69052, 60, 3)\n"
     ]
    }
   ],
   "source": [
    "import numpy as np\n",
    "import pandas as pd\n",
    "import tensorflow as tf\n",
    "from tensorflow.keras.models import Model, Sequential\n",
    "from tensorflow.keras.layers import Input, LSTM, GRU, Dense\n",
    "\n",
    "# Load dataset\n",
    "data = pd.read_csv(\"../databases/processed_data/TimeGAN_data.csv\")\n",
    "\n",
    "# Convert datetime column to proper format\n",
    "data['datetime'] = pd.to_datetime(data['datetime'])\n",
    "\n",
    "# Select relevant sensor columns for training\n",
    "selected_columns = ['cooling_channel10', 'temperature_channel1', 'maxigauge_channel3']\n",
    "sensor_data = data[selected_columns].values  # Convert to numpy array\n",
    "\n",
    "# Define sequence length (e.g., 60 time steps = 30 minutes)\n",
    "sequence_length = 60\n",
    "\n",
    "# Function to create overlapping sequences for TimeGAN training\n",
    "def create_sequences(data, seq_length):\n",
    "    sequences = []\n",
    "    for i in range(len(data) - seq_length):\n",
    "        sequences.append(data[i: i + seq_length])\n",
    "    return np.array(sequences)\n",
    "\n",
    "# Create training sequences\n",
    "train_data = create_sequences(sensor_data, sequence_length)\n",
    "\n",
    "# Check the shape of the prepared training data\n",
    "print(\"\\n✅ Training data prepared successfully!\")\n",
    "print(f\"Training data shape: {train_data.shape}\")  # Expected output: (num_samples, sequence_length, num_features)\n",
    "\n",
    "# Define batch size and training epochs\n",
    "batch_size = 32\n",
    "epochs = 10"
   ]
  },
  {
   "cell_type": "markdown",
   "metadata": {},
   "source": [
    "### Step 6: Implement TimeGAN (LSTM Generator + RNN Discriminator)\n",
    "- LSTM-based Generator\n",
    "- RNN-based Discriminator\n",
    "- Embedding & Recovery Networks"
   ]
  },
  {
   "cell_type": "code",
   "execution_count": 9,
   "metadata": {},
   "outputs": [
    {
     "name": "stdout",
     "output_type": "stream",
     "text": [
      "\n",
      "✅ Generator Model Summary:\n"
     ]
    },
    {
     "data": {
      "text/html": [
       "<pre style=\"white-space:pre;overflow-x:auto;line-height:normal;font-family:Menlo,'DejaVu Sans Mono',consolas,'Courier New',monospace\"><span style=\"font-weight: bold\">Model: \"Generator\"</span>\n",
       "</pre>\n"
      ],
      "text/plain": [
       "\u001b[1mModel: \"Generator\"\u001b[0m\n"
      ]
     },
     "metadata": {},
     "output_type": "display_data"
    },
    {
     "data": {
      "text/html": [
       "<pre style=\"white-space:pre;overflow-x:auto;line-height:normal;font-family:Menlo,'DejaVu Sans Mono',consolas,'Courier New',monospace\">┏━━━━━━━━━━━━━━━━━━━━━━━━━━━━━━━━━┳━━━━━━━━━━━━━━━━━━━━━━━━┳━━━━━━━━━━━━━━━┓\n",
       "┃<span style=\"font-weight: bold\"> Layer (type)                    </span>┃<span style=\"font-weight: bold\"> Output Shape           </span>┃<span style=\"font-weight: bold\">       Param # </span>┃\n",
       "┡━━━━━━━━━━━━━━━━━━━━━━━━━━━━━━━━━╇━━━━━━━━━━━━━━━━━━━━━━━━╇━━━━━━━━━━━━━━━┩\n",
       "│ input_layer (<span style=\"color: #0087ff; text-decoration-color: #0087ff\">InputLayer</span>)        │ (<span style=\"color: #00d7ff; text-decoration-color: #00d7ff\">None</span>, <span style=\"color: #00af00; text-decoration-color: #00af00\">60</span>, <span style=\"color: #00af00; text-decoration-color: #00af00\">3</span>)          │             <span style=\"color: #00af00; text-decoration-color: #00af00\">0</span> │\n",
       "├─────────────────────────────────┼────────────────────────┼───────────────┤\n",
       "│ lstm (<span style=\"color: #0087ff; text-decoration-color: #0087ff\">LSTM</span>)                     │ (<span style=\"color: #00d7ff; text-decoration-color: #00d7ff\">None</span>, <span style=\"color: #00af00; text-decoration-color: #00af00\">60</span>, <span style=\"color: #00af00; text-decoration-color: #00af00\">64</span>)         │        <span style=\"color: #00af00; text-decoration-color: #00af00\">17,408</span> │\n",
       "├─────────────────────────────────┼────────────────────────┼───────────────┤\n",
       "│ lstm_1 (<span style=\"color: #0087ff; text-decoration-color: #0087ff\">LSTM</span>)                   │ (<span style=\"color: #00d7ff; text-decoration-color: #00d7ff\">None</span>, <span style=\"color: #00af00; text-decoration-color: #00af00\">60</span>, <span style=\"color: #00af00; text-decoration-color: #00af00\">32</span>)         │        <span style=\"color: #00af00; text-decoration-color: #00af00\">12,416</span> │\n",
       "├─────────────────────────────────┼────────────────────────┼───────────────┤\n",
       "│ dense (<span style=\"color: #0087ff; text-decoration-color: #0087ff\">Dense</span>)                   │ (<span style=\"color: #00d7ff; text-decoration-color: #00d7ff\">None</span>, <span style=\"color: #00af00; text-decoration-color: #00af00\">60</span>, <span style=\"color: #00af00; text-decoration-color: #00af00\">3</span>)          │            <span style=\"color: #00af00; text-decoration-color: #00af00\">99</span> │\n",
       "└─────────────────────────────────┴────────────────────────┴───────────────┘\n",
       "</pre>\n"
      ],
      "text/plain": [
       "┏━━━━━━━━━━━━━━━━━━━━━━━━━━━━━━━━━┳━━━━━━━━━━━━━━━━━━━━━━━━┳━━━━━━━━━━━━━━━┓\n",
       "┃\u001b[1m \u001b[0m\u001b[1mLayer (type)                   \u001b[0m\u001b[1m \u001b[0m┃\u001b[1m \u001b[0m\u001b[1mOutput Shape          \u001b[0m\u001b[1m \u001b[0m┃\u001b[1m \u001b[0m\u001b[1m      Param #\u001b[0m\u001b[1m \u001b[0m┃\n",
       "┡━━━━━━━━━━━━━━━━━━━━━━━━━━━━━━━━━╇━━━━━━━━━━━━━━━━━━━━━━━━╇━━━━━━━━━━━━━━━┩\n",
       "│ input_layer (\u001b[38;5;33mInputLayer\u001b[0m)        │ (\u001b[38;5;45mNone\u001b[0m, \u001b[38;5;34m60\u001b[0m, \u001b[38;5;34m3\u001b[0m)          │             \u001b[38;5;34m0\u001b[0m │\n",
       "├─────────────────────────────────┼────────────────────────┼───────────────┤\n",
       "│ lstm (\u001b[38;5;33mLSTM\u001b[0m)                     │ (\u001b[38;5;45mNone\u001b[0m, \u001b[38;5;34m60\u001b[0m, \u001b[38;5;34m64\u001b[0m)         │        \u001b[38;5;34m17,408\u001b[0m │\n",
       "├─────────────────────────────────┼────────────────────────┼───────────────┤\n",
       "│ lstm_1 (\u001b[38;5;33mLSTM\u001b[0m)                   │ (\u001b[38;5;45mNone\u001b[0m, \u001b[38;5;34m60\u001b[0m, \u001b[38;5;34m32\u001b[0m)         │        \u001b[38;5;34m12,416\u001b[0m │\n",
       "├─────────────────────────────────┼────────────────────────┼───────────────┤\n",
       "│ dense (\u001b[38;5;33mDense\u001b[0m)                   │ (\u001b[38;5;45mNone\u001b[0m, \u001b[38;5;34m60\u001b[0m, \u001b[38;5;34m3\u001b[0m)          │            \u001b[38;5;34m99\u001b[0m │\n",
       "└─────────────────────────────────┴────────────────────────┴───────────────┘\n"
      ]
     },
     "metadata": {},
     "output_type": "display_data"
    },
    {
     "data": {
      "text/html": [
       "<pre style=\"white-space:pre;overflow-x:auto;line-height:normal;font-family:Menlo,'DejaVu Sans Mono',consolas,'Courier New',monospace\"><span style=\"font-weight: bold\"> Total params: </span><span style=\"color: #00af00; text-decoration-color: #00af00\">29,923</span> (116.89 KB)\n",
       "</pre>\n"
      ],
      "text/plain": [
       "\u001b[1m Total params: \u001b[0m\u001b[38;5;34m29,923\u001b[0m (116.89 KB)\n"
      ]
     },
     "metadata": {},
     "output_type": "display_data"
    },
    {
     "data": {
      "text/html": [
       "<pre style=\"white-space:pre;overflow-x:auto;line-height:normal;font-family:Menlo,'DejaVu Sans Mono',consolas,'Courier New',monospace\"><span style=\"font-weight: bold\"> Trainable params: </span><span style=\"color: #00af00; text-decoration-color: #00af00\">29,923</span> (116.89 KB)\n",
       "</pre>\n"
      ],
      "text/plain": [
       "\u001b[1m Trainable params: \u001b[0m\u001b[38;5;34m29,923\u001b[0m (116.89 KB)\n"
      ]
     },
     "metadata": {},
     "output_type": "display_data"
    },
    {
     "data": {
      "text/html": [
       "<pre style=\"white-space:pre;overflow-x:auto;line-height:normal;font-family:Menlo,'DejaVu Sans Mono',consolas,'Courier New',monospace\"><span style=\"font-weight: bold\"> Non-trainable params: </span><span style=\"color: #00af00; text-decoration-color: #00af00\">0</span> (0.00 B)\n",
       "</pre>\n"
      ],
      "text/plain": [
       "\u001b[1m Non-trainable params: \u001b[0m\u001b[38;5;34m0\u001b[0m (0.00 B)\n"
      ]
     },
     "metadata": {},
     "output_type": "display_data"
    }
   ],
   "source": [
    "def build_generator():\n",
    "    inputs = Input(shape=(60, 3))  # 60 个时间步，3 个通道\n",
    "    x = LSTM(64, return_sequences=True)(inputs)\n",
    "    x = LSTM(32, return_sequences=True)(x)\n",
    "    outputs = Dense(3, activation='tanh')(x)  # 确保输出形状一致\n",
    "    return Model(inputs, outputs, name=\"Generator\")\n",
    "\n",
    "generator = build_generator()\n",
    "print(\"\\n✅ Generator Model Summary:\")\n",
    "generator.summary()"
   ]
  },
  {
   "cell_type": "code",
   "execution_count": 10,
   "metadata": {},
   "outputs": [
    {
     "name": "stdout",
     "output_type": "stream",
     "text": [
      "\n",
      "✅ Discriminator Model Summary:\n"
     ]
    },
    {
     "data": {
      "text/html": [
       "<pre style=\"white-space:pre;overflow-x:auto;line-height:normal;font-family:Menlo,'DejaVu Sans Mono',consolas,'Courier New',monospace\"><span style=\"font-weight: bold\">Model: \"Discriminator\"</span>\n",
       "</pre>\n"
      ],
      "text/plain": [
       "\u001b[1mModel: \"Discriminator\"\u001b[0m\n"
      ]
     },
     "metadata": {},
     "output_type": "display_data"
    },
    {
     "data": {
      "text/html": [
       "<pre style=\"white-space:pre;overflow-x:auto;line-height:normal;font-family:Menlo,'DejaVu Sans Mono',consolas,'Courier New',monospace\">┏━━━━━━━━━━━━━━━━━━━━━━━━━━━━━━━━━┳━━━━━━━━━━━━━━━━━━━━━━━━┳━━━━━━━━━━━━━━━┓\n",
       "┃<span style=\"font-weight: bold\"> Layer (type)                    </span>┃<span style=\"font-weight: bold\"> Output Shape           </span>┃<span style=\"font-weight: bold\">       Param # </span>┃\n",
       "┡━━━━━━━━━━━━━━━━━━━━━━━━━━━━━━━━━╇━━━━━━━━━━━━━━━━━━━━━━━━╇━━━━━━━━━━━━━━━┩\n",
       "│ input_layer_1 (<span style=\"color: #0087ff; text-decoration-color: #0087ff\">InputLayer</span>)      │ (<span style=\"color: #00d7ff; text-decoration-color: #00d7ff\">None</span>, <span style=\"color: #00af00; text-decoration-color: #00af00\">60</span>, <span style=\"color: #00af00; text-decoration-color: #00af00\">3</span>)          │             <span style=\"color: #00af00; text-decoration-color: #00af00\">0</span> │\n",
       "├─────────────────────────────────┼────────────────────────┼───────────────┤\n",
       "│ gru (<span style=\"color: #0087ff; text-decoration-color: #0087ff\">GRU</span>)                       │ (<span style=\"color: #00d7ff; text-decoration-color: #00d7ff\">None</span>, <span style=\"color: #00af00; text-decoration-color: #00af00\">64</span>)             │        <span style=\"color: #00af00; text-decoration-color: #00af00\">13,248</span> │\n",
       "├─────────────────────────────────┼────────────────────────┼───────────────┤\n",
       "│ dense_1 (<span style=\"color: #0087ff; text-decoration-color: #0087ff\">Dense</span>)                 │ (<span style=\"color: #00d7ff; text-decoration-color: #00d7ff\">None</span>, <span style=\"color: #00af00; text-decoration-color: #00af00\">32</span>)             │         <span style=\"color: #00af00; text-decoration-color: #00af00\">2,080</span> │\n",
       "├─────────────────────────────────┼────────────────────────┼───────────────┤\n",
       "│ dense_2 (<span style=\"color: #0087ff; text-decoration-color: #0087ff\">Dense</span>)                 │ (<span style=\"color: #00d7ff; text-decoration-color: #00d7ff\">None</span>, <span style=\"color: #00af00; text-decoration-color: #00af00\">1</span>)              │            <span style=\"color: #00af00; text-decoration-color: #00af00\">33</span> │\n",
       "└─────────────────────────────────┴────────────────────────┴───────────────┘\n",
       "</pre>\n"
      ],
      "text/plain": [
       "┏━━━━━━━━━━━━━━━━━━━━━━━━━━━━━━━━━┳━━━━━━━━━━━━━━━━━━━━━━━━┳━━━━━━━━━━━━━━━┓\n",
       "┃\u001b[1m \u001b[0m\u001b[1mLayer (type)                   \u001b[0m\u001b[1m \u001b[0m┃\u001b[1m \u001b[0m\u001b[1mOutput Shape          \u001b[0m\u001b[1m \u001b[0m┃\u001b[1m \u001b[0m\u001b[1m      Param #\u001b[0m\u001b[1m \u001b[0m┃\n",
       "┡━━━━━━━━━━━━━━━━━━━━━━━━━━━━━━━━━╇━━━━━━━━━━━━━━━━━━━━━━━━╇━━━━━━━━━━━━━━━┩\n",
       "│ input_layer_1 (\u001b[38;5;33mInputLayer\u001b[0m)      │ (\u001b[38;5;45mNone\u001b[0m, \u001b[38;5;34m60\u001b[0m, \u001b[38;5;34m3\u001b[0m)          │             \u001b[38;5;34m0\u001b[0m │\n",
       "├─────────────────────────────────┼────────────────────────┼───────────────┤\n",
       "│ gru (\u001b[38;5;33mGRU\u001b[0m)                       │ (\u001b[38;5;45mNone\u001b[0m, \u001b[38;5;34m64\u001b[0m)             │        \u001b[38;5;34m13,248\u001b[0m │\n",
       "├─────────────────────────────────┼────────────────────────┼───────────────┤\n",
       "│ dense_1 (\u001b[38;5;33mDense\u001b[0m)                 │ (\u001b[38;5;45mNone\u001b[0m, \u001b[38;5;34m32\u001b[0m)             │         \u001b[38;5;34m2,080\u001b[0m │\n",
       "├─────────────────────────────────┼────────────────────────┼───────────────┤\n",
       "│ dense_2 (\u001b[38;5;33mDense\u001b[0m)                 │ (\u001b[38;5;45mNone\u001b[0m, \u001b[38;5;34m1\u001b[0m)              │            \u001b[38;5;34m33\u001b[0m │\n",
       "└─────────────────────────────────┴────────────────────────┴───────────────┘\n"
      ]
     },
     "metadata": {},
     "output_type": "display_data"
    },
    {
     "data": {
      "text/html": [
       "<pre style=\"white-space:pre;overflow-x:auto;line-height:normal;font-family:Menlo,'DejaVu Sans Mono',consolas,'Courier New',monospace\"><span style=\"font-weight: bold\"> Total params: </span><span style=\"color: #00af00; text-decoration-color: #00af00\">15,361</span> (60.00 KB)\n",
       "</pre>\n"
      ],
      "text/plain": [
       "\u001b[1m Total params: \u001b[0m\u001b[38;5;34m15,361\u001b[0m (60.00 KB)\n"
      ]
     },
     "metadata": {},
     "output_type": "display_data"
    },
    {
     "data": {
      "text/html": [
       "<pre style=\"white-space:pre;overflow-x:auto;line-height:normal;font-family:Menlo,'DejaVu Sans Mono',consolas,'Courier New',monospace\"><span style=\"font-weight: bold\"> Trainable params: </span><span style=\"color: #00af00; text-decoration-color: #00af00\">15,361</span> (60.00 KB)\n",
       "</pre>\n"
      ],
      "text/plain": [
       "\u001b[1m Trainable params: \u001b[0m\u001b[38;5;34m15,361\u001b[0m (60.00 KB)\n"
      ]
     },
     "metadata": {},
     "output_type": "display_data"
    },
    {
     "data": {
      "text/html": [
       "<pre style=\"white-space:pre;overflow-x:auto;line-height:normal;font-family:Menlo,'DejaVu Sans Mono',consolas,'Courier New',monospace\"><span style=\"font-weight: bold\"> Non-trainable params: </span><span style=\"color: #00af00; text-decoration-color: #00af00\">0</span> (0.00 B)\n",
       "</pre>\n"
      ],
      "text/plain": [
       "\u001b[1m Non-trainable params: \u001b[0m\u001b[38;5;34m0\u001b[0m (0.00 B)\n"
      ]
     },
     "metadata": {},
     "output_type": "display_data"
    }
   ],
   "source": [
    "from tensorflow.keras.models import Model\n",
    "from tensorflow.keras.layers import Input, GRU, Dense, Flatten\n",
    "\n",
    "def build_discriminator():\n",
    "    inputs = Input(shape=(60, 3))  # 输入形状: (batch_size, 60, 3)\n",
    "    x = GRU(64, return_sequences=False)(inputs)  # 确保只输出 (batch_size, 64)\n",
    "    x = Dense(32, activation='relu')(x)  # 降维\n",
    "    outputs = Dense(1, activation='sigmoid')(x)  # 确保最终输出 (batch_size, 1)\n",
    "    return Model(inputs, outputs, name=\"Discriminator\")\n",
    "\n",
    "discriminator = build_discriminator()\n",
    "print(\"\\n✅ Discriminator Model Summary:\")\n",
    "discriminator.summary()"
   ]
  },
  {
   "cell_type": "code",
   "execution_count": 11,
   "metadata": {},
   "outputs": [
    {
     "name": "stdout",
     "output_type": "stream",
     "text": [
      "\n",
      "✅ Shape of real_sequences: (32, 60, 3)\n",
      "✅ Shape of fake_sequences: (32, 60, 3)\n",
      "✅ Shape of real_output from Discriminator: (32, 1)\n",
      "✅ Shape of fake_output from Discriminator: (32, 1)\n"
     ]
    }
   ],
   "source": [
    "# Convert train data to NumPy array\n",
    "train_data = np.array(train_data)  # (num_samples, 60, 3)\n",
    "\n",
    "# 取一个 batch 的真实数据\n",
    "real_sequences = train_data[:batch_size]  # (batch_size, 60, 3)\n",
    "\n",
    "# 生成假数据\n",
    "fake_sequences = generator.predict(real_sequences, verbose=0)\n",
    "\n",
    "# 让 Discriminator 进行预测\n",
    "real_output = discriminator.predict(real_sequences, verbose=0)\n",
    "fake_output = discriminator.predict(fake_sequences, verbose=0)\n",
    "\n",
    "print(f\"\\n✅ Shape of real_sequences: {real_sequences.shape}\")  # (batch_size, 60, 3)\n",
    "print(f\"✅ Shape of fake_sequences: {fake_sequences.shape}\")  # (batch_size, 60, 3)\n",
    "print(f\"✅ Shape of real_output from Discriminator: {real_output.shape}\")  # 预期应为 (batch_size, 1)\n",
    "print(f\"✅ Shape of fake_output from Discriminator: {fake_output.shape}\")  # 预期应为 (batch_size, 1)\n"
   ]
  },
  {
   "cell_type": "code",
   "execution_count": 12,
   "metadata": {},
   "outputs": [
    {
     "data": {
      "text/plain": [
       "\"# 定义优化器\\ngen_optimizer = tf.keras.optimizers.Adam(learning_rate=0.001)\\ndisc_optimizer = tf.keras.optimizers.Adam(learning_rate=0.001)\\n\\n# 编译 Generator 和 Discriminator\\ngenerator.compile(loss='binary_crossentropy', optimizer=gen_optimizer)\\ndiscriminator.compile(loss='binary_crossentropy', optimizer=disc_optimizer)\""
      ]
     },
     "execution_count": 12,
     "metadata": {},
     "output_type": "execute_result"
    }
   ],
   "source": [
    "'''# 定义优化器\n",
    "gen_optimizer = tf.keras.optimizers.Adam(learning_rate=0.001)\n",
    "disc_optimizer = tf.keras.optimizers.Adam(learning_rate=0.001)\n",
    "\n",
    "# 编译 Generator 和 Discriminator\n",
    "generator.compile(loss='binary_crossentropy', optimizer=gen_optimizer)\n",
    "discriminator.compile(loss='binary_crossentropy', optimizer=disc_optimizer)'''"
   ]
  },
  {
   "cell_type": "markdown",
   "metadata": {},
   "source": [
    "### Step 7: Train TimeGAN (Small Training Setup)"
   ]
  },
  {
   "cell_type": "code",
   "execution_count": 14,
   "metadata": {},
   "outputs": [
    {
     "name": "stdout",
     "output_type": "stream",
     "text": [
      "Epoch 1/10 - D Loss: nan | G Loss: nan\n",
      "Epoch 2/10 - D Loss: nan | G Loss: nan\n",
      "Epoch 3/10 - D Loss: nan | G Loss: nan\n",
      "Epoch 4/10 - D Loss: nan | G Loss: nan\n",
      "Epoch 5/10 - D Loss: nan | G Loss: nan\n",
      "Epoch 6/10 - D Loss: nan | G Loss: nan\n",
      "Epoch 7/10 - D Loss: nan | G Loss: nan\n",
      "Epoch 8/10 - D Loss: nan | G Loss: nan\n",
      "Epoch 9/10 - D Loss: nan | G Loss: nan\n",
      "Epoch 10/10 - D Loss: nan | G Loss: nan\n"
     ]
    }
   ],
   "source": [
    "import numpy as np\n",
    "import pandas as pd\n",
    "import tensorflow as tf\n",
    "from tensorflow.keras.models import Model, Sequential\n",
    "from tensorflow.keras.layers import Input, LSTM, GRU, Dense\n",
    "\n",
    "# ... [数据加载和预处理部分保持不变] ...\n",
    "\n",
    "# 定义优化器（保持原样）\n",
    "gen_optimizer = tf.keras.optimizers.Adam(learning_rate=0.0005, clipnorm=1.0)\n",
    "disc_optimizer = tf.keras.optimizers.Adam(learning_rate=0.0005, clipnorm=1.0)\n",
    "\n",
    "# 移除生成器和判别器的编译步骤（重要修改）\n",
    "# generator.compile(...) 和 discriminator.compile(...) 全部删除\n",
    "\n",
    "# 准备标签（保持原样）\n",
    "real_labels = np.ones((batch_size, 1), dtype=np.float32)\n",
    "fake_labels = np.zeros((batch_size, 1), dtype=np.float32)\n",
    "\n",
    "# 修改后的训练循环（使用GradientTape）\n",
    "for epoch in range(epochs):\n",
    "    for i in range(0, len(train_data) - batch_size, batch_size):\n",
    "        real_sequences = train_data[i:i + batch_size]\n",
    "        \n",
    "        # 训练判别器\n",
    "        with tf.GradientTape() as disc_tape:\n",
    "            # 生成假数据\n",
    "            fake_sequences = generator(real_sequences, training=False)\n",
    "            \n",
    "            # 判别器对真实和假数据的预测\n",
    "            d_real = discriminator(real_sequences, training=True)\n",
    "            d_fake = discriminator(fake_sequences, training=True)\n",
    "            \n",
    "            # 计算损失\n",
    "            d_loss_real = tf.keras.losses.binary_crossentropy(real_labels, d_real)\n",
    "            d_loss_fake = tf.keras.losses.binary_crossentropy(fake_labels, d_fake)\n",
    "            d_loss_total = 0.5 * (tf.reduce_mean(d_loss_real) + tf.reduce_mean(d_loss_fake))\n",
    "        \n",
    "        # 更新判别器\n",
    "        disc_grads = disc_tape.gradient(d_loss_total, discriminator.trainable_variables)\n",
    "        disc_optimizer.apply_gradients(zip(disc_grads, discriminator.trainable_variables))\n",
    "        \n",
    "        # 训练生成器\n",
    "        with tf.GradientTape() as gen_tape:\n",
    "            fake_sequences = generator(real_sequences, training=True)\n",
    "            d_fake = discriminator(fake_sequences, training=False)  # 注意此处不更新判别器\n",
    "            \n",
    "            # 生成器希望判别器将假数据判为真\n",
    "            g_loss = tf.keras.losses.binary_crossentropy(real_labels, d_fake)\n",
    "            g_loss = tf.reduce_mean(g_loss)\n",
    "        \n",
    "        # 更新生成器\n",
    "        gen_grads = gen_tape.gradient(g_loss, generator.trainable_variables)\n",
    "        gen_optimizer.apply_gradients(zip(gen_grads, generator.trainable_variables))\n",
    "    \n",
    "    print(f\"Epoch {epoch+1}/{epochs} - D Loss: {d_loss_total:.4f} | G Loss: {g_loss:.4f}\")"
   ]
  },
  {
   "cell_type": "markdown",
   "metadata": {},
   "source": [
    "### step"
   ]
  }
 ],
 "metadata": {
  "kernelspec": {
   "display_name": "Gerrycapstone",
   "language": "python",
   "name": "python3"
  },
  "language_info": {
   "codemirror_mode": {
    "name": "ipython",
    "version": 3
   },
   "file_extension": ".py",
   "mimetype": "text/x-python",
   "name": "python",
   "nbconvert_exporter": "python",
   "pygments_lexer": "ipython3",
   "version": "3.12.3"
  }
 },
 "nbformat": 4,
 "nbformat_minor": 2
}
