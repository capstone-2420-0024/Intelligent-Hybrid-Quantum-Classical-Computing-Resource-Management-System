{
 "cells": [
  {
   "cell_type": "markdown",
   "metadata": {},
   "source": [
    "# **TimeGan RNN Based Simulator**"
   ]
  },
  {
   "cell_type": "markdown",
   "metadata": {},
   "source": [
    "### Overview \n",
    "\n",
    "1. **Load Data**: Reads the consolidated sensor data from a CSV file.  \n",
    "2. **Preprocess Data**: Handles missing values, normalizes data, and ensures consistent 30-second intervals.  \n",
    "3. **Visualize Trends**: Plots time-series data for cooling, maxigauge, and temperature to identify patterns and anomalies.  \n",
    "4. **Feature Extraction**: Computes statistical metrics (mean, std, min, max) and checks data stationarity using the ADF test.  \n",
    "5. **Prepare Training Data**: Constructs time-series sequences with a chosen window size (e.g., 60 timestamps).  \n",
    "6. **Build TimeGAN**: Implements an LSTM-based generator and an RNN-based discriminator to learn temporal dependencies.  \n",
    "7. **Train Model**: Optimizes the TimeGAN framework using adversarial learning to generate realistic synthetic time-series data.  \n",
    "8. **Evaluate Results**: Assesses the quality of generated sequences by comparing them with real sensor data using statistical and visual methods.  \n",
    "9. **Generate Synthetic Data**: Uses the trained TimeGAN model to produce new sensor readings that maintain the original data's statistical properties.  \n",
    "10. **Visualization**: Plots real vs. synthetic data to validate the effectiveness of the model.  \n",
    "---"
   ]
  },
  {
   "cell_type": "code",
   "execution_count": null,
   "metadata": {},
   "outputs": [],
   "source": [
    "import numpy as np\n",
    "import pandas as pd\n",
    "import matplotlib.pyplot as plt\n",
    "import seaborn as sns\n",
    "import tensorflow as tf\n",
    "from tensorflow import keras\n",
    "from keras.models import Sequential\n",
    "from keras.layers import LSTM, GRU, Dense, Dropout, Normalization\n",
    "from sklearn.preprocessing import StandardScaler\n",
    "from statsmodels.tsa.stattools import adfuller\n",
    "from tensorflow.keras.models import Model\n",
    "from tensorflow.keras.layers import Input, GRU, Dense, Flatten, BatchNormalization, SimpleRNN\n",
    "import numpy as np\n",
    "import tensorflow as tf\n",
    "from tqdm import tqdm"
   ]
  },
  {
   "cell_type": "markdown",
   "metadata": {},
   "source": [
    "### Step 1: Prepare Training Data for TimeGAN\n",
    "- Select 'cooling_channel10', 'temperature_channel1', and 'maxigauge_channel3' for training.\n",
    "- Convert the dataset into sequences that TimeGAN can process.\n",
    "- Define the time window (sequence length) for training."
   ]
  },
  {
   "cell_type": "code",
   "execution_count": 7,
   "metadata": {},
   "outputs": [
    {
     "name": "stdout",
     "output_type": "stream",
     "text": [
      "\n",
      "✅ Training & Testing Data Split Completed!\n",
      "Training Data Shape: (55193, 120, 3)\n",
      "Testing Data Shape: (13799, 120, 3)\n",
      "\n",
      "✅ Training data prepared successfully!\n",
      "Training data shape: (55193, 120, 3)\n"
     ]
    }
   ],
   "source": [
    "import numpy as np\n",
    "import pandas as pd\n",
    "import tensorflow as tf\n",
    "from tensorflow.keras.models import Model, Sequential\n",
    "from tensorflow.keras.layers import Input, LSTM, GRU, Dense, TimeDistributed\n",
    "from sklearn.model_selection import train_test_split\n",
    "from sklearn.preprocessing import MinMaxScaler\n",
    "# Load dataset\n",
    "data = pd.read_csv(\"../databases/processed_data/TimeGAN_data.csv\")\n",
    "\n",
    "# Convert datetime column to proper format\n",
    "data['datetime'] = pd.to_datetime(data['datetime'])\n",
    "\n",
    "# Select relevant sensor columns for training\n",
    "selected_columns = ['cooling_channel10', 'temperature_channel1', 'maxigauge_channel3']\n",
    "sensor_data = data[selected_columns].values  # Convert to numpy array\n",
    "\n",
    "# 归一化到[-1, 1]范围\n",
    "scaler = MinMaxScaler(feature_range=(-1, 1))\n",
    "sensor_data_normalized = scaler.fit_transform(sensor_data)\n",
    "\n",
    "# Define sequence length (e.g., 60 time steps = 30 minutes)\n",
    "sequence_length = 120\n",
    "\n",
    "# Function to create overlapping sequences for TimeGAN training\n",
    "def create_sequences(data, seq_length):\n",
    "    sequences = []\n",
    "    for i in range(len(data) - seq_length):\n",
    "        sequences.append(data[i: i + seq_length])\n",
    "    return np.array(sequences)\n",
    "\n",
    "# 创建训练序列\n",
    "train_data = create_sequences(sensor_data_normalized, sequence_length)\n",
    "# 80% 训练集，20% 测试集\n",
    "train_data, test_data = train_test_split(train_data, test_size=0.2, random_state=42, shuffle=False)\n",
    "\n",
    "# 检查划分后的数据形状\n",
    "print(\"\\n✅ Training & Testing Data Split Completed!\")\n",
    "print(f\"Training Data Shape: {train_data.shape}\")  # 预期: (80% of total, 60, 3)\n",
    "print(f\"Testing Data Shape: {test_data.shape}\")  # 预期: (20% of total, 60, 3)\n",
    "\n",
    "# Check the shape of the prepared training data\n",
    "print(\"\\n✅ Training data prepared successfully!\")\n",
    "print(f\"Training data shape: {train_data.shape}\")  # Expected output: (num_samples, sequence_length, num_features)\n",
    "\n",
    "# Define batch size and training epochs\n",
    "batch_size = 32\n",
    "epochs = 10"
   ]
  },
  {
   "cell_type": "code",
   "execution_count": 8,
   "metadata": {},
   "outputs": [
    {
     "name": "stdout",
     "output_type": "stream",
     "text": [
      "\n",
      "✅ Training & Testing Data Split Completed!\n",
      "Training Data Shape: (55193, 120, 3)\n",
      "Testing Data Shape: (13799, 120, 3)\n",
      "\n",
      "✅ Training data prepared successfully!\n",
      "Training data shape: (55193, 120, 3)\n"
     ]
    }
   ],
   "source": [
    "\n",
    "# Load dataset\n",
    "data = pd.read_csv(\"../databases/processed_data/TimeGAN_data.csv\")\n",
    "\n",
    "# Convert datetime column to proper format\n",
    "data['datetime'] = pd.to_datetime(data['datetime'])\n",
    "\n",
    "# Select relevant sensor columns for training\n",
    "selected_columns = ['cooling_channel10', 'temperature_channel1', 'maxigauge_channel3']\n",
    "sensor_data = data[selected_columns].values  # Convert to numpy array\n",
    "\n",
    "# 归一化到[-1, 1]范围\n",
    "scaler = MinMaxScaler(feature_range=(-1, 1))\n",
    "sensor_data_normalized = scaler.fit_transform(sensor_data)\n",
    "\n",
    "# Define sequence length (e.g., 60 time steps = 30 minutes)\n",
    "sequence_length = 120\n",
    "\n",
    "# Function to create overlapping sequences for TimeGAN training\n",
    "def create_sequences(data, seq_length):\n",
    "    sequences = []\n",
    "    for i in range(len(data) - seq_length):\n",
    "        sequences.append(data[i: i + seq_length])\n",
    "    return np.array(sequences)\n",
    "\n",
    "# 创建训练序列\n",
    "train_data = create_sequences(sensor_data_normalized, sequence_length)\n",
    "# 80% 训练集，20% 测试集\n",
    "train_data, test_data = train_test_split(train_data, test_size=0.2, random_state=42, shuffle=False)\n",
    "\n",
    "# 检查划分后的数据形状\n",
    "print(\"\\n✅ Training & Testing Data Split Completed!\")\n",
    "print(f\"Training Data Shape: {train_data.shape}\")  # 预期: (80% of total, 60, 3)\n",
    "print(f\"Testing Data Shape: {test_data.shape}\")  # 预期: (20% of total, 60, 3)\n",
    "\n",
    "# Check the shape of the prepared training data\n",
    "print(\"\\n✅ Training data prepared successfully!\")\n",
    "print(f\"Training data shape: {train_data.shape}\")  # Expected output: (num_samples, sequence_length, num_features)\n",
    "\n",
    "# Define batch size and training epochs\n",
    "batch_size = 32\n",
    "epochs = 10"
   ]
  },
  {
   "cell_type": "code",
   "execution_count": 9,
   "metadata": {},
   "outputs": [],
   "source": [
    "# Step 1: Flatten the data\n",
    "train_data_reshaped = train_data.reshape(-1, 3)\n",
    "\n",
    "# Step 2: Replace NaN and Inf (can be replaced with the mean value, default value is 0)\n",
    "for i in range(train_data_reshaped.shape[1]):\n",
    "    col = train_data_reshaped[:, i]\n",
    "    col_mean = np.nanmean(col[np.isfinite(col)])\n",
    "    col[~np.isfinite(col)] = col_mean\n",
    "    train_data_reshaped[:, i] = col\n",
    "\n",
    "# Step 3: Normalize the data to the range [-1, 1]\n",
    "scaler = MinMaxScaler(feature_range=(-1, 1))\n",
    "train_data_reshaped = scaler.fit_transform(train_data_reshaped)\n",
    "\n",
    "# Step 4: Reshape back to the original shape\n",
    "train_data = train_data_reshaped.reshape(train_data.shape)\n",
    "\n",
    "# Step 5: Check for NaN and Inf values\n",
    "for i in range(len(train_data)):\n",
    "    if not np.all(np.isfinite(train_data[i])):\n",
    "        print(f\"⚠️ Still has NaN or Inf in batch {i}\")"
   ]
  },
  {
   "cell_type": "code",
   "execution_count": 10,
   "metadata": {},
   "outputs": [],
   "source": [
    "# ================== 添加监督损失组件 ==================\n",
    "class TimeGAN(Model):\n",
    "    def __init__(self, generator, discriminator, supervisor, **kwargs):\n",
    "        super().__init__(**kwargs)\n",
    "        self.generator = generator\n",
    "        self.discriminator = discriminator\n",
    "        self.supervisor = supervisor\n",
    "        \n",
    "        # 定义独立的指标跟踪器\n",
    "        self.gen_loss_tracker = tf.keras.metrics.Mean(name=\"gen_loss\")\n",
    "        self.sup_loss_tracker = tf.keras.metrics.Mean(name=\"sup_loss\")\n",
    "\n",
    "    def compile(self, gen_optimizer, disc_optimizer, sup_optimizer, \n",
    "              gen_loss_fn, disc_loss_fn, sup_loss_fn):\n",
    "        super().compile()\n",
    "        self.gen_optimizer = gen_optimizer\n",
    "        self.disc_optimizer = disc_optimizer\n",
    "        self.sup_optimizer = sup_optimizer\n",
    "        self.gen_loss_fn = gen_loss_fn\n",
    "        self.disc_loss_fn = disc_loss_fn\n",
    "        self.sup_loss_fn = sup_loss_fn\n",
    "\n",
    "    def train_step(self, real_sequences):\n",
    "        # 训练判别器\n",
    "        with tf.GradientTape() as disc_tape:\n",
    "            # 生成假数据\n",
    "            fake_sequences = self.generator(real_sequences, training=True)\n",
    "            \n",
    "            # 获取判别结果\n",
    "            real_output = self.discriminator(real_sequences, training=True)\n",
    "            fake_output = self.discriminator(fake_sequences, training=True)\n",
    "            \n",
    "            # 计算判别器损失\n",
    "            disc_loss_real = self.disc_loss_fn(tf.ones_like(real_output), real_output)\n",
    "            disc_loss_fake = self.disc_loss_fn(tf.zeros_like(fake_output), fake_output)\n",
    "            disc_loss = (disc_loss_real + disc_loss_fake) / 2\n",
    "\n",
    "        # 更新判别器\n",
    "        disc_grads = disc_tape.gradient(disc_loss, self.discriminator.trainable_weights)\n",
    "        self.disc_optimizer.apply_gradients(zip(disc_grads, self.discriminator.trainable_weights))\n",
    "\n",
    "        # 训练生成器（含监督损失）\n",
    "        with tf.GradientTape() as gen_tape, tf.GradientTape() as sup_tape:\n",
    "            fake_sequences = self.generator(real_sequences, training=True)\n",
    "            \n",
    "            # 监督损失：预测下一个时间步\n",
    "            pred_next_step = self.supervisor(fake_sequences[:, :-1, :])  # 使用前119步预测最后一步\n",
    "            sup_loss = self.sup_loss_fn(fake_sequences[:, 1:, :], pred_next_step)\n",
    "            \n",
    "            # 对抗损失\n",
    "            fake_output = self.discriminator(fake_sequences, training=False)\n",
    "            gen_loss = self.gen_loss_fn(tf.ones_like(fake_output), fake_output)\n",
    "\n",
    "            # 总损失组合\n",
    "            total_gen_loss = gen_loss + 0.5 * sup_loss  # 权重可调\n",
    "\n",
    "        # 更新生成器\n",
    "        gen_grads = gen_tape.gradient(total_gen_loss, self.generator.trainable_weights)\n",
    "        self.gen_optimizer.apply_gradients(zip(gen_grads, self.generator.trainable_weights))\n",
    "        \n",
    "        # 更新监督器\n",
    "        sup_grads = sup_tape.gradient(sup_loss, self.supervisor.trainable_weights)\n",
    "        self.sup_optimizer.apply_gradients(zip(sup_grads, self.supervisor.trainable_weights))\n",
    "\n",
    "        # 更新指标\n",
    "        self.gen_loss_tracker.update_state(total_gen_loss)\n",
    "        self.sup_loss_tracker.update_state(sup_loss)\n",
    "        return {\n",
    "            \"gen_loss\": self.gen_loss_tracker.result(),\n",
    "            \"sup_loss\": self.sup_loss_tracker.result(),\n",
    "        }"
   ]
  },
  {
   "cell_type": "code",
   "execution_count": 11,
   "metadata": {},
   "outputs": [],
   "source": [
    "# 构建监督模型\n",
    "def build_supervisor():\n",
    "    inputs = Input(shape=(120, 3))\n",
    "    x = LSTM(64, return_sequences=True)(inputs)\n",
    "    x = LSTM(32, return_sequences=True)(x)\n",
    "    outputs = TimeDistributed(Dense(3))(x)  # 预测下一时间步\n",
    "    return Model(inputs, outputs, name=\"Supervisor\")"
   ]
  },
  {
   "cell_type": "markdown",
   "metadata": {},
   "source": [
    "### Step 2: Implement TimeGAN (LSTM Generator + RNN Discriminator)\n",
    "- LSTM-based Generator\n",
    "- RNN-based Discriminator\n",
    "- Embedding & Recovery Networks"
   ]
  },
  {
   "cell_type": "code",
   "execution_count": 14,
   "metadata": {},
   "outputs": [],
   "source": [
    "#RNN\n",
    "def build_generator_rnn():\n",
    "    inputs = Input(shape=(120, 3))\n",
    "    \n",
    "    # 替换 LSTM 为 RNN（保持结构一致）\n",
    "    x = SimpleRNN(24, return_sequences=True, kernel_initializer='orthogonal')(inputs)\n",
    "    \n",
    "    x = BatchNormalization()(x)\n",
    "    x = Dropout(0.2)(x)\n",
    "    x = Dense(8, activation='tanh')(x)\n",
    "    \n",
    "    outputs = Dense(3, activation='tanh', kernel_initializer='glorot_normal')(x)\n",
    "    \n",
    "    return Model(inputs, outputs, name=\"Generator\")\n"
   ]
  },
  {
   "cell_type": "code",
   "execution_count": 15,
   "metadata": {},
   "outputs": [
    {
     "name": "stdout",
     "output_type": "stream",
     "text": [
      "\n",
      "✅ Discriminator Model Summary:\n"
     ]
    },
    {
     "data": {
      "text/html": [
       "<pre style=\"white-space:pre;overflow-x:auto;line-height:normal;font-family:Menlo,'DejaVu Sans Mono',consolas,'Courier New',monospace\"><span style=\"font-weight: bold\">Model: \"Discriminator\"</span>\n",
       "</pre>\n"
      ],
      "text/plain": [
       "\u001b[1mModel: \"Discriminator\"\u001b[0m\n"
      ]
     },
     "metadata": {},
     "output_type": "display_data"
    },
    {
     "data": {
      "text/html": [
       "<pre style=\"white-space:pre;overflow-x:auto;line-height:normal;font-family:Menlo,'DejaVu Sans Mono',consolas,'Courier New',monospace\">┏━━━━━━━━━━━━━━━━━━━━━━━━━━━━━━━━━┳━━━━━━━━━━━━━━━━━━━━━━━━┳━━━━━━━━━━━━━━━┓\n",
       "┃<span style=\"font-weight: bold\"> Layer (type)                    </span>┃<span style=\"font-weight: bold\"> Output Shape           </span>┃<span style=\"font-weight: bold\">       Param # </span>┃\n",
       "┡━━━━━━━━━━━━━━━━━━━━━━━━━━━━━━━━━╇━━━━━━━━━━━━━━━━━━━━━━━━╇━━━━━━━━━━━━━━━┩\n",
       "│ input_layer (<span style=\"color: #0087ff; text-decoration-color: #0087ff\">InputLayer</span>)        │ (<span style=\"color: #00d7ff; text-decoration-color: #00d7ff\">None</span>, <span style=\"color: #00af00; text-decoration-color: #00af00\">120</span>, <span style=\"color: #00af00; text-decoration-color: #00af00\">3</span>)         │             <span style=\"color: #00af00; text-decoration-color: #00af00\">0</span> │\n",
       "├─────────────────────────────────┼────────────────────────┼───────────────┤\n",
       "│ gru (<span style=\"color: #0087ff; text-decoration-color: #0087ff\">GRU</span>)                       │ (<span style=\"color: #00d7ff; text-decoration-color: #00d7ff\">None</span>, <span style=\"color: #00af00; text-decoration-color: #00af00\">32</span>)             │         <span style=\"color: #00af00; text-decoration-color: #00af00\">3,552</span> │\n",
       "├─────────────────────────────────┼────────────────────────┼───────────────┤\n",
       "│ batch_normalization             │ (<span style=\"color: #00d7ff; text-decoration-color: #00d7ff\">None</span>, <span style=\"color: #00af00; text-decoration-color: #00af00\">32</span>)             │           <span style=\"color: #00af00; text-decoration-color: #00af00\">128</span> │\n",
       "│ (<span style=\"color: #0087ff; text-decoration-color: #0087ff\">BatchNormalization</span>)            │                        │               │\n",
       "├─────────────────────────────────┼────────────────────────┼───────────────┤\n",
       "│ dropout (<span style=\"color: #0087ff; text-decoration-color: #0087ff\">Dropout</span>)               │ (<span style=\"color: #00d7ff; text-decoration-color: #00d7ff\">None</span>, <span style=\"color: #00af00; text-decoration-color: #00af00\">32</span>)             │             <span style=\"color: #00af00; text-decoration-color: #00af00\">0</span> │\n",
       "├─────────────────────────────────┼────────────────────────┼───────────────┤\n",
       "│ dense (<span style=\"color: #0087ff; text-decoration-color: #0087ff\">Dense</span>)                   │ (<span style=\"color: #00d7ff; text-decoration-color: #00d7ff\">None</span>, <span style=\"color: #00af00; text-decoration-color: #00af00\">16</span>)             │           <span style=\"color: #00af00; text-decoration-color: #00af00\">528</span> │\n",
       "├─────────────────────────────────┼────────────────────────┼───────────────┤\n",
       "│ dense_1 (<span style=\"color: #0087ff; text-decoration-color: #0087ff\">Dense</span>)                 │ (<span style=\"color: #00d7ff; text-decoration-color: #00d7ff\">None</span>, <span style=\"color: #00af00; text-decoration-color: #00af00\">1</span>)              │            <span style=\"color: #00af00; text-decoration-color: #00af00\">17</span> │\n",
       "└─────────────────────────────────┴────────────────────────┴───────────────┘\n",
       "</pre>\n"
      ],
      "text/plain": [
       "┏━━━━━━━━━━━━━━━━━━━━━━━━━━━━━━━━━┳━━━━━━━━━━━━━━━━━━━━━━━━┳━━━━━━━━━━━━━━━┓\n",
       "┃\u001b[1m \u001b[0m\u001b[1mLayer (type)                   \u001b[0m\u001b[1m \u001b[0m┃\u001b[1m \u001b[0m\u001b[1mOutput Shape          \u001b[0m\u001b[1m \u001b[0m┃\u001b[1m \u001b[0m\u001b[1m      Param #\u001b[0m\u001b[1m \u001b[0m┃\n",
       "┡━━━━━━━━━━━━━━━━━━━━━━━━━━━━━━━━━╇━━━━━━━━━━━━━━━━━━━━━━━━╇━━━━━━━━━━━━━━━┩\n",
       "│ input_layer (\u001b[38;5;33mInputLayer\u001b[0m)        │ (\u001b[38;5;45mNone\u001b[0m, \u001b[38;5;34m120\u001b[0m, \u001b[38;5;34m3\u001b[0m)         │             \u001b[38;5;34m0\u001b[0m │\n",
       "├─────────────────────────────────┼────────────────────────┼───────────────┤\n",
       "│ gru (\u001b[38;5;33mGRU\u001b[0m)                       │ (\u001b[38;5;45mNone\u001b[0m, \u001b[38;5;34m32\u001b[0m)             │         \u001b[38;5;34m3,552\u001b[0m │\n",
       "├─────────────────────────────────┼────────────────────────┼───────────────┤\n",
       "│ batch_normalization             │ (\u001b[38;5;45mNone\u001b[0m, \u001b[38;5;34m32\u001b[0m)             │           \u001b[38;5;34m128\u001b[0m │\n",
       "│ (\u001b[38;5;33mBatchNormalization\u001b[0m)            │                        │               │\n",
       "├─────────────────────────────────┼────────────────────────┼───────────────┤\n",
       "│ dropout (\u001b[38;5;33mDropout\u001b[0m)               │ (\u001b[38;5;45mNone\u001b[0m, \u001b[38;5;34m32\u001b[0m)             │             \u001b[38;5;34m0\u001b[0m │\n",
       "├─────────────────────────────────┼────────────────────────┼───────────────┤\n",
       "│ dense (\u001b[38;5;33mDense\u001b[0m)                   │ (\u001b[38;5;45mNone\u001b[0m, \u001b[38;5;34m16\u001b[0m)             │           \u001b[38;5;34m528\u001b[0m │\n",
       "├─────────────────────────────────┼────────────────────────┼───────────────┤\n",
       "│ dense_1 (\u001b[38;5;33mDense\u001b[0m)                 │ (\u001b[38;5;45mNone\u001b[0m, \u001b[38;5;34m1\u001b[0m)              │            \u001b[38;5;34m17\u001b[0m │\n",
       "└─────────────────────────────────┴────────────────────────┴───────────────┘\n"
      ]
     },
     "metadata": {},
     "output_type": "display_data"
    },
    {
     "data": {
      "text/html": [
       "<pre style=\"white-space:pre;overflow-x:auto;line-height:normal;font-family:Menlo,'DejaVu Sans Mono',consolas,'Courier New',monospace\"><span style=\"font-weight: bold\"> Total params: </span><span style=\"color: #00af00; text-decoration-color: #00af00\">4,225</span> (16.50 KB)\n",
       "</pre>\n"
      ],
      "text/plain": [
       "\u001b[1m Total params: \u001b[0m\u001b[38;5;34m4,225\u001b[0m (16.50 KB)\n"
      ]
     },
     "metadata": {},
     "output_type": "display_data"
    },
    {
     "data": {
      "text/html": [
       "<pre style=\"white-space:pre;overflow-x:auto;line-height:normal;font-family:Menlo,'DejaVu Sans Mono',consolas,'Courier New',monospace\"><span style=\"font-weight: bold\"> Trainable params: </span><span style=\"color: #00af00; text-decoration-color: #00af00\">4,161</span> (16.25 KB)\n",
       "</pre>\n"
      ],
      "text/plain": [
       "\u001b[1m Trainable params: \u001b[0m\u001b[38;5;34m4,161\u001b[0m (16.25 KB)\n"
      ]
     },
     "metadata": {},
     "output_type": "display_data"
    },
    {
     "data": {
      "text/html": [
       "<pre style=\"white-space:pre;overflow-x:auto;line-height:normal;font-family:Menlo,'DejaVu Sans Mono',consolas,'Courier New',monospace\"><span style=\"font-weight: bold\"> Non-trainable params: </span><span style=\"color: #00af00; text-decoration-color: #00af00\">64</span> (256.00 B)\n",
       "</pre>\n"
      ],
      "text/plain": [
       "\u001b[1m Non-trainable params: \u001b[0m\u001b[38;5;34m64\u001b[0m (256.00 B)\n"
      ]
     },
     "metadata": {},
     "output_type": "display_data"
    }
   ],
   "source": [
    "def build_discriminator():\n",
    "    inputs = Input(shape=(120, 3))\n",
    "    x = GRU(32, return_sequences=False, kernel_initializer='glorot_uniform')(inputs)\n",
    "    x = BatchNormalization()(x)  # 归一化\n",
    "    x = Dropout(0.2)(x)\n",
    "    x = Dense(16, activation='relu', kernel_regularizer=tf.keras.regularizers.l2(0.001))(x)\n",
    "    outputs = Dense(1, activation='sigmoid')(x)\n",
    "    return Model(inputs, outputs, name=\"Discriminator\")\n",
    "\n",
    "\n",
    "discriminator = build_discriminator()\n",
    "print(\"\\n✅ Discriminator Model Summary:\")\n",
    "discriminator.summary()"
   ]
  },
  {
   "cell_type": "code",
   "execution_count": 17,
   "metadata": {},
   "outputs": [],
   "source": [
    "\n",
    "# ==================  异常注入函数 ==================\n",
    "def inject_anomalies(synthetic_data, anomaly_ratio=0.05):\n",
    "    \"\"\"\n",
    "    注入两种类型的异常：\n",
    "    1. 突然尖峰（Spike）\n",
    "    2. 持续偏移（Drift）\n",
    "    \"\"\"\n",
    "    num_sequences, seq_len, num_features = synthetic_data.shape\n",
    "    num_anomalies = int(num_sequences * anomaly_ratio)\n",
    "    \n",
    "    # 随机选择要注入异常的序列\n",
    "    anomaly_indices = np.random.choice(num_sequences, num_anomalies, replace=False)\n",
    "    \n",
    "    for idx in anomaly_indices:\n",
    "        # 随机选择异常类型\n",
    "        if np.random.rand() > 0.5:\n",
    "            # 类型1：突然尖峰（持续1-3个时间步）\n",
    "            spike_length = np.random.randint(1, 4)\n",
    "            spike_position = np.random.randint(0, seq_len - spike_length)\n",
    "            feature_idx = np.random.randint(0, num_features)\n",
    "            synthetic_data[idx, spike_position:spike_position+spike_length, feature_idx] *= 5\n",
    "        else:\n",
    "            # 类型2：持续偏移（持续10-30个时间步）\n",
    "            drift_length = np.random.randint(10, 31)\n",
    "            drift_position = np.random.randint(0, seq_len - drift_length)\n",
    "            feature_idx = np.random.randint(0, num_features)\n",
    "            drift_value = np.random.uniform(2.0, 4.0)  # 偏移幅度\n",
    "            synthetic_data[idx, drift_position:drift_position+drift_length, feature_idx] *= drift_value\n",
    "    \n",
    "    return synthetic_data\n"
   ]
  },
  {
   "cell_type": "code",
   "execution_count": 19,
   "metadata": {},
   "outputs": [
    {
     "data": {
      "text/plain": [
       "'\\n# 将异常注入移至训练完成后（避免干扰梯度）\\nsynthetic_data = generator.predict(seed_sequences)\\nsynthetic_data_denorm = scaler.inverse_transform(synthetic_data.reshape(-1, 3)).reshape(synthetic_data.shape)\\nsynthetic_data_with_anomalies = inject_anomalies(synthetic_data_denorm)  # 仅在最终生成数据后注入\\n'"
      ]
     },
     "execution_count": 19,
     "metadata": {},
     "output_type": "execute_result"
    }
   ],
   "source": [
    "import tensorflow as tf\n",
    "# ================== 初始化所有组件 ==================\n",
    "generator = build_generator_rnn()\n",
    "discriminator = build_discriminator()\n",
    "supervisor = build_supervisor()\n",
    "\n",
    "# 编译TimeGAN\n",
    "timegan = TimeGAN(\n",
    "    generator=generator,\n",
    "    discriminator=discriminator,\n",
    "    supervisor=supervisor\n",
    ")\n",
    "\n",
    "# 定义损失函数和优化器\n",
    "# 改用更稳定的损失函数组合\n",
    "timegan.compile(\n",
    "    gen_optimizer = tf.keras.optimizers.Adam(learning_rate=5e-6, clipnorm=0.1),\n",
    "    disc_optimizer = tf.keras.optimizers.Adam(learning_rate=5e-6, clipnorm=0.1),  # 统一为clipnorm\n",
    "    sup_optimizer = tf.keras.optimizers.Adam(learning_rate=5e-6, clipnorm=0.1),\n",
    "    gen_loss_fn=tf.keras.losses.BinaryCrossentropy(from_logits=False),\n",
    "    disc_loss_fn=tf.keras.losses.BinaryCrossentropy(from_logits=False),\n",
    "    sup_loss_fn=tf.keras.losses.MeanAbsoluteError()  # 改用MAE更稳定\n",
    ")\n",
    "'''\n",
    "# 将异常注入移至训练完成后（避免干扰梯度）\n",
    "synthetic_data = generator.predict(seed_sequences)\n",
    "synthetic_data_denorm = scaler.inverse_transform(synthetic_data.reshape(-1, 3)).reshape(synthetic_data.shape)\n",
    "synthetic_data_with_anomalies = inject_anomalies(synthetic_data_denorm)  # 仅在最终生成数据后注入\n",
    "'''\n",
    "# print(\"\\n✅ 生成数据形状:\", synthetic_data_denorm.shape)  # (batch_size, 120, 3)\n",
    "# print(\"✅ 包含异常的数据示例:\")\n",
    "# print(synthetic_data_with_anomalies[0, 50:55, 0])  # 查看第0个序列的50-54时间步的第0个特征"
   ]
  },
  {
   "cell_type": "markdown",
   "metadata": {},
   "source": [
    "### Step 3: Train TimeGAN (Small Training Setup)"
   ]
  },
  {
   "cell_type": "code",
   "execution_count": 21,
   "metadata": {},
   "outputs": [],
   "source": [
    "from sklearn.preprocessing import MinMaxScaler\n",
    "\n",
    "# 将数据 reshape 成适合 MinMaxScaler 的格式\n",
    "train_data_reshaped = train_data.reshape(-1, 3)  # 展平成 (所有样本 * 时间步, 3)\n",
    "\n",
    "# 归一化到 (-1, 1) 之间\n",
    "scaler = MinMaxScaler(feature_range=(-1, 1))\n",
    "train_data_reshaped = scaler.fit_transform(train_data_reshaped)\n",
    "\n",
    "# 重新 reshape 回原始形状\n",
    "train_data = train_data_reshaped.reshape(train_data.shape)\n"
   ]
  },
  {
   "cell_type": "code",
   "execution_count": 22,
   "metadata": {},
   "outputs": [],
   "source": [
    "import numpy as np\n",
    "\n",
    "for i in range(len(train_data)):\n",
    "    if np.isnan(train_data[i]).any() or np.isinf(train_data[i]).any():\n",
    "        print(f\"⚠️ Warning: NaN or Inf detected in batch {i}\")\n"
   ]
  },
  {
   "cell_type": "code",
   "execution_count": null,
   "metadata": {},
   "outputs": [
    {
     "name": "stdout",
     "output_type": "stream",
     "text": [
      "\n",
      "🚀 Epoch 1/10\n"
     ]
    },
    {
     "name": "stderr",
     "output_type": "stream",
     "text": [
      "Training Progress: 100%|██████████| 1724/1724 [25:24<00:00,  1.13it/s, Gen Loss=2.7158, Sup Loss=0.0282, Disc Loss=0.3973]2025-05-22 15:56:26.938846: I tensorflow/core/framework/local_rendezvous.cc:407] Local rendezvous is aborting with status: OUT_OF_RANGE: End of sequence\n",
      "Training Progress: 100%|██████████| 1724/1724 [25:24<00:00,  1.13it/s, Gen Loss=2.7158, Sup Loss=0.0282, Disc Loss=0.3973]\n"
     ]
    },
    {
     "name": "stdout",
     "output_type": "stream",
     "text": [
      "✅ Epoch 1 结束 - Gen Loss: 0.0032 | Sup Loss: 0.0301 | Disc Loss: 0.6053\n",
      "\n",
      "🚀 Epoch 2/10\n"
     ]
    },
    {
     "name": "stderr",
     "output_type": "stream",
     "text": [
      "Training Progress: 100%|██████████| 1724/1724 [25:31<00:00,  1.14it/s, Gen Loss=5.5193, Sup Loss=0.0137, Disc Loss=0.2186]2025-05-22 16:21:58.620619: I tensorflow/core/framework/local_rendezvous.cc:407] Local rendezvous is aborting with status: OUT_OF_RANGE: End of sequence\n",
      "Training Progress: 100%|██████████| 1724/1724 [25:31<00:00,  1.13it/s, Gen Loss=5.5193, Sup Loss=0.0137, Disc Loss=0.2186]\n"
     ]
    },
    {
     "name": "stdout",
     "output_type": "stream",
     "text": [
      "✅ Epoch 2 结束 - Gen Loss: 0.0064 | Sup Loss: 0.0170 | Disc Loss: 0.3553\n",
      "\n",
      "🚀 Epoch 3/10\n"
     ]
    },
    {
     "name": "stderr",
     "output_type": "stream",
     "text": [
      "Training Progress: 100%|██████████| 1724/1724 [25:44<00:00,  1.12it/s, Gen Loss=5.6064, Sup Loss=0.0076, Disc Loss=0.1100] \n"
     ]
    },
    {
     "name": "stdout",
     "output_type": "stream",
     "text": [
      "✅ Epoch 3 结束 - Gen Loss: 0.0065 | Sup Loss: 0.0113 | Disc Loss: 0.2264\n",
      "\n",
      "🚀 Epoch 4/10\n"
     ]
    },
    {
     "name": "stderr",
     "output_type": "stream",
     "text": [
      "Training Progress: 100%|██████████| 1724/1724 [25:46<00:00,  1.12it/s, Gen Loss=1.4182, Sup Loss=0.0066, Disc Loss=0.3852] 2025-05-22 17:13:29.276618: I tensorflow/core/framework/local_rendezvous.cc:407] Local rendezvous is aborting with status: OUT_OF_RANGE: End of sequence\n",
      "Training Progress: 100%|██████████| 1724/1724 [25:46<00:00,  1.11it/s, Gen Loss=1.4182, Sup Loss=0.0066, Disc Loss=0.3852]\n"
     ]
    },
    {
     "name": "stdout",
     "output_type": "stream",
     "text": [
      "✅ Epoch 4 结束 - Gen Loss: 0.0016 | Sup Loss: 0.0088 | Disc Loss: 0.2020\n",
      "\n",
      "🚀 Epoch 5/10\n"
     ]
    },
    {
     "name": "stderr",
     "output_type": "stream",
     "text": [
      "Training Progress: 100%|██████████| 1724/1724 [25:37<00:00,  1.12it/s, Gen Loss=7.1732, Sup Loss=0.0085, Disc Loss=0.1706] \n"
     ]
    },
    {
     "name": "stdout",
     "output_type": "stream",
     "text": [
      "✅ Epoch 5 结束 - Gen Loss: 0.0083 | Sup Loss: 0.0132 | Disc Loss: 0.2534\n",
      "\n",
      "🚀 Epoch 6/10\n"
     ]
    },
    {
     "name": "stderr",
     "output_type": "stream",
     "text": [
      "Training Progress: 100%|██████████| 1724/1724 [25:31<00:00,  1.13it/s, Gen Loss=9.1233, Sup Loss=0.0107, Disc Loss=0.0999] \n"
     ]
    },
    {
     "name": "stdout",
     "output_type": "stream",
     "text": [
      "✅ Epoch 6 结束 - Gen Loss: 0.0106 | Sup Loss: 0.0128 | Disc Loss: 0.1978\n",
      "\n",
      "🚀 Epoch 7/10\n"
     ]
    },
    {
     "name": "stderr",
     "output_type": "stream",
     "text": [
      "Training Progress: 100%|██████████| 1724/1724 [25:19<00:00,  1.13it/s, Gen Loss=9.4450, Sup Loss=0.0215, Disc Loss=0.1297] \n"
     ]
    },
    {
     "name": "stdout",
     "output_type": "stream",
     "text": [
      "✅ Epoch 7 结束 - Gen Loss: 0.0110 | Sup Loss: 0.0182 | Disc Loss: 0.1742\n",
      "\n",
      "🚀 Epoch 8/10\n"
     ]
    },
    {
     "name": "stderr",
     "output_type": "stream",
     "text": [
      "Training Progress: 100%|██████████| 1724/1724 [25:28<00:00,  1.13it/s, Gen Loss=14.1786, Sup Loss=0.0082, Disc Loss=0.0204]2025-05-22 18:55:26.256625: I tensorflow/core/framework/local_rendezvous.cc:407] Local rendezvous is aborting with status: OUT_OF_RANGE: End of sequence\n",
      "Training Progress: 100%|██████████| 1724/1724 [25:28<00:00,  1.13it/s, Gen Loss=14.1786, Sup Loss=0.0082, Disc Loss=0.0204]\n"
     ]
    },
    {
     "name": "stdout",
     "output_type": "stream",
     "text": [
      "✅ Epoch 8 结束 - Gen Loss: 0.0165 | Sup Loss: 0.0122 | Disc Loss: 0.1069\n",
      "\n",
      "🚀 Epoch 9/10\n"
     ]
    },
    {
     "name": "stderr",
     "output_type": "stream",
     "text": [
      "Training Progress: 100%|██████████| 1724/1724 [25:30<00:00,  1.13it/s, Gen Loss=16.4259, Sup Loss=0.0056, Disc Loss=0.0229]\n"
     ]
    },
    {
     "name": "stdout",
     "output_type": "stream",
     "text": [
      "✅ Epoch 9 结束 - Gen Loss: 0.0191 | Sup Loss: 0.0097 | Disc Loss: 0.1030\n",
      "\n",
      "🚀 Epoch 10/10\n"
     ]
    },
    {
     "name": "stderr",
     "output_type": "stream",
     "text": [
      "Training Progress: 100%|██████████| 1724/1724 [25:33<00:00,  1.12it/s, Gen Loss=12.9274, Sup Loss=0.0064, Disc Loss=0.0442]"
     ]
    },
    {
     "name": "stdout",
     "output_type": "stream",
     "text": [
      "✅ Epoch 10 结束 - Gen Loss: 0.0150 | Sup Loss: 0.0105 | Disc Loss: 0.1036\n",
      "\n",
      "🎉 训练完成！\n"
     ]
    },
    {
     "name": "stderr",
     "output_type": "stream",
     "text": [
      "\n"
     ]
    }
   ],
   "source": [
    "# ================== 使用预定义的 TimeGAN 类 ==================\n",
    "# 定义优化器参数（符合 TimeGAN 训练特点）\n",
    "timegan.compile(\n",
    "    gen_optimizer=tf.keras.optimizers.Adam(learning_rate=1e-4, clipnorm=1.0),\n",
    "    disc_optimizer=tf.keras.optimizers.Adam(learning_rate=1e-4, clipnorm=1.0),\n",
    "    sup_optimizer=tf.keras.optimizers.Adam(learning_rate=1e-4, clipnorm=1.0),\n",
    "    gen_loss_fn=tf.keras.losses.BinaryCrossentropy(),\n",
    "    disc_loss_fn=tf.keras.losses.BinaryCrossentropy(),\n",
    "    sup_loss_fn=tf.keras.losses.MeanSquaredError()\n",
    ")\n",
    "\n",
    "# ================== 改进训练流程 ==================\n",
    "epochs = 10 # 改1\n",
    "batch_size = 32\n",
    "sequence_length = 120  # 每个时间序列的长度\n",
    "\n",
    "# 处理数据批次，避免打乱时间顺序\n",
    "train_dataset = tf.data.Dataset.from_tensor_slices(train_data)\n",
    "train_dataset = train_dataset.batch(batch_size, drop_remainder=True).shuffle(buffer_size=5, reshuffle_each_iteration=True)\n",
    "\n",
    "# 训练循环\n",
    "for epoch in range(1, epochs + 1):\n",
    "    print(f\"\\n🚀 Epoch {epoch}/{epochs}\")\n",
    "    progress_bar = tqdm(train_dataset, desc=\"Training Progress\")\n",
    "    \n",
    "    total_gen_loss = 0.0\n",
    "    total_disc_loss = 0.0\n",
    "    total_sup_loss = 0.0\n",
    "    \n",
    "    for batch in progress_bar:\n",
    "        with tf.GradientTape() as gen_tape, tf.GradientTape() as sup_tape, tf.GradientTape() as disc_tape:\n",
    "            # 生成假数据\n",
    "            fake_sequences = timegan.generator(batch, training=True)\n",
    "\n",
    "            # **修正 Supervisor 输入形状**\n",
    "            fake_sequences_padded = tf.pad(fake_sequences[:, :-1, :], [[0, 0], [0, 1], [0, 0]], mode='CONSTANT')\n",
    "            \n",
    "            # 监督损失（预测未来时间步）\n",
    "            pred_next_step = timegan.supervisor(fake_sequences_padded, training=True)  \n",
    "            sup_loss = timegan.sup_loss_fn(fake_sequences[:, 1:, :], pred_next_step[:, :-1, :])\n",
    "\n",
    "            # 判别器损失\n",
    "            d_real = timegan.discriminator(batch, training=True)\n",
    "            d_fake = timegan.discriminator(fake_sequences, training=True)\n",
    "\n",
    "            real_labels = tf.ones_like(d_real)\n",
    "            fake_labels = tf.zeros_like(d_fake)\n",
    "\n",
    "            d_loss_real = tf.reduce_mean(tf.keras.losses.binary_crossentropy(real_labels, d_real))\n",
    "            d_loss_fake = tf.reduce_mean(tf.keras.losses.binary_crossentropy(fake_labels, d_fake))\n",
    "            d_loss_total = 0.5 * (d_loss_real + d_loss_fake)\n",
    "\n",
    "            # 生成器损失\n",
    "            g_loss = tf.reduce_mean(tf.keras.losses.binary_crossentropy(real_labels, d_fake))\n",
    "\n",
    "            # 总生成器损失（包含监督损失）\n",
    "            total_gen_loss = g_loss + 0.5 * sup_loss\n",
    "\n",
    "        # 计算梯度并更新判别器\n",
    "        disc_grads = disc_tape.gradient(d_loss_total, timegan.discriminator.trainable_variables)\n",
    "        timegan.disc_optimizer.apply_gradients(zip(disc_grads, timegan.discriminator.trainable_variables))\n",
    "\n",
    "        # 计算梯度并更新生成器\n",
    "        gen_grads = gen_tape.gradient(total_gen_loss, timegan.generator.trainable_variables)\n",
    "        timegan.gen_optimizer.apply_gradients(zip(gen_grads, timegan.generator.trainable_variables))\n",
    "\n",
    "        # 计算梯度并更新监督器\n",
    "        sup_grads = sup_tape.gradient(sup_loss, timegan.supervisor.trainable_variables)\n",
    "        timegan.sup_optimizer.apply_gradients(zip(sup_grads, timegan.supervisor.trainable_variables))\n",
    "\n",
    "        # 记录损失\n",
    "        total_gen_loss += total_gen_loss.numpy()\n",
    "        total_sup_loss += sup_loss.numpy()\n",
    "        total_disc_loss += d_loss_total.numpy()\n",
    "        \n",
    "        # 更新进度条\n",
    "        progress_bar.set_postfix({\n",
    "            \"Gen Loss\": f\"{g_loss.numpy():.4f}\",\n",
    "            \"Sup Loss\": f\"{sup_loss.numpy():.4f}\",\n",
    "            \"Disc Loss\": f\"{d_loss_total.numpy():.4f}\"\n",
    "        })\n",
    "    \n",
    "    # 计算平均损失\n",
    "    avg_gen_loss = total_gen_loss / len(train_dataset)\n",
    "    avg_sup_loss = total_sup_loss / len(train_dataset)\n",
    "    avg_disc_loss = total_disc_loss / len(train_dataset)\n",
    "\n",
    "    print(f\"✅ Epoch {epoch} 结束 - Gen Loss: {avg_gen_loss:.4f} | Sup Loss: {avg_sup_loss:.4f} | Disc Loss: {avg_disc_loss:.4f}\")\n",
    "\n",
    "print(\"\\n🎉 训练完成！\")\n"
   ]
  },
  {
   "cell_type": "markdown",
   "metadata": {},
   "source": [
    "### step 4: Generate Sythnetic Data"
   ]
  },
  {
   "cell_type": "code",
   "execution_count": 25,
   "metadata": {},
   "outputs": [
    {
     "name": "stdout",
     "output_type": "stream",
     "text": [
      "\u001b[1m1/1\u001b[0m \u001b[32m━━━━━━━━━━━━━━━━━━━━\u001b[0m\u001b[37m\u001b[0m \u001b[1m0s\u001b[0m 87ms/step\n",
      "\n",
      "✅ 生成数据示例（含异常）:\n",
      "[0.8627273  0.93734896 0.40145457 1.0262363  0.63027436]\n"
     ]
    }
   ],
   "source": [
    "import numpy as np\n",
    "import pandas as pd\n",
    "import matplotlib.pyplot as plt\n",
    "import tensorflow as tf\n",
    "\n",
    "# ================== 🚀 Step 1: 生成数据 ==================\n",
    "# 生成数据时使用噪声，而非真实数据\n",
    "batch_size = 32\n",
    "sequence_length = 120  # 1小时数据\n",
    "num_features = 3  # 3个传感器\n",
    "\n",
    "# 生成噪声\n",
    "noise = np.random.normal(size=(batch_size, sequence_length, num_features))\n",
    "synthetic_data = generator.predict(noise)\n",
    "\n",
    "# 逆归一化数据\n",
    "synthetic_data_denorm = scaler.inverse_transform(\n",
    "    synthetic_data.reshape(-1, num_features)\n",
    ").reshape(synthetic_data.shape)\n",
    "\n",
    "# 注入更平滑的异常\n",
    "synthetic_data_with_anomalies = inject_anomalies(synthetic_data_denorm * np.random.uniform(0.9, 1.1))\n",
    "\n",
    "print(\"\\n✅ 生成数据示例（含异常）:\")\n",
    "print(synthetic_data_with_anomalies[0, 50:55, 0])  # 查看异常数据"
   ]
  },
  {
   "cell_type": "code",
   "execution_count": 26,
   "metadata": {},
   "outputs": [
    {
     "data": {
      "image/png": "[encoded data removed]",
      "text/plain": [
       "<Figure size 1200x600 with 1 Axes>"
      ]
     },
     "metadata": {},
     "output_type": "display_data"
    },
    {
     "name": "stdout",
     "output_type": "stream",
     "text": [
      "\n",
      "✅ 可视化图像已保存: ../databases/synthetic_time_series_rnn.png\n"
     ]
    }
   ],
   "source": [
    "import numpy as np\n",
    "import pandas as pd\n",
    "import matplotlib.pyplot as plt\n",
    "import tensorflow as tf\n",
    "# ================== 🚀 Step 2: 可视化真实 vs 生成数据 ==================\n",
    "# 选择一个样本进行可视化 (batch 中的第一个)\n",
    "sample_idx = 0\n",
    "sample_data = synthetic_data_with_anomalies[sample_idx]  # Shape: (120, 3)\n",
    "time_steps = np.arange(sequence_length)  # 时间步\n",
    "\n",
    "# 绘制 3 个特征的时间序列\n",
    "plt.figure(figsize=(12, 6))\n",
    "plt.plot(time_steps, sample_data[:, 0], label=\"Cooling Channel 10\", linestyle='-', marker='o', markersize=3)\n",
    "plt.plot(time_steps, sample_data[:, 1], label=\"Temperature Channel 1\", linestyle='--', marker='s', markersize=3)\n",
    "plt.plot(time_steps, sample_data[:, 2], label=\"Maxigauge Channel 3\", linestyle='-.', marker='d', markersize=3)\n",
    "\n",
    "# 图像美化\n",
    "plt.xlabel(\"Time Steps (1-hour duration)\")\n",
    "plt.ylabel(\"Sensor Values\")\n",
    "plt.title(\"Synthetic Time Series Data Generated by TimeGAN\")\n",
    "plt.legend()\n",
    "plt.grid(True)\n",
    "\n",
    "# 保存可视化结果\n",
    "plot_filename = \"../databases/synthetic_time_series_rnn.png\"\n",
    "plt.savefig(plot_filename)\n",
    "plt.show()\n",
    "\n",
    "print(f\"\\n✅ 可视化图像已保存: {plot_filename}\")"
   ]
  },
  {
   "cell_type": "code",
   "execution_count": 27,
   "metadata": {},
   "outputs": [
    {
     "name": "stdout",
     "output_type": "stream",
     "text": [
      "[[[ 0.88485545 -1.0325173  -0.8154593 ]\n",
      "  [ 0.1644555  -1.0055783   0.18548241]\n",
      "  [ 0.95476115 -1.0307728  -0.15875617]\n",
      "  ...\n",
      "  [ 0.98515844 -0.6948092  -1.0062392 ]\n",
      "  [ 0.9848885  -0.6974284  -1.0058537 ]\n",
      "  [ 0.9850117  -0.69623435 -1.0060302 ]]\n",
      "\n",
      " [[ 0.8812844  -1.0354109  -0.8071912 ]\n",
      "  [ 0.12233669 -1.0046183   0.22410846]\n",
      "  [ 0.9851438  -0.6947393  -1.0062267 ]\n",
      "  ...\n",
      "  [ 0.9852086  -0.6944577  -1.0062321 ]\n",
      "  [ 0.9525891   0.17005639 -1.0143143 ]\n",
      "  [ 0.98515075 -0.6945506  -1.0062462 ]]\n",
      "\n",
      " [[ 0.9757838  -1.0293235   0.39286107]\n",
      "  [ 0.87531644 -1.0398254  -0.7930909 ]\n",
      "  [ 0.8025242  -1.0352961  -0.682989  ]\n",
      "  ...\n",
      "  [ 0.98500854 -0.692725   -1.0062866 ]\n",
      "  [ 0.9841942  -0.70382595 -1.0048685 ]\n",
      "  [ 0.9850978  -0.6935846  -1.0062618 ]]\n",
      "\n",
      " ...\n",
      "\n",
      " [[ 0.8754981  -1.0397642  -0.79276055]\n",
      "  [ 0.87531215 -1.039837   -0.7930287 ]\n",
      "  [ 0.80490315 -1.035434   -0.686589  ]\n",
      "  ...\n",
      "  [ 0.9851978  -0.694594   -1.0062339 ]\n",
      "  [ 0.9419033   0.00863253 -1.0160065 ]\n",
      "  [ 0.9851643  -0.6947666  -1.0062424 ]]\n",
      "\n",
      " [[ 0.868519   -1.0393454  -0.7829026 ]\n",
      "  [ 0.98501635 -1.0299497   0.40374655]\n",
      "  [ 0.14181921 -1.0071161   0.19272552]\n",
      "  ...\n",
      "  [ 0.87505776 -1.0398228  -0.7926992 ]\n",
      "  [ 0.47197768 -0.985782    0.9998286 ]\n",
      "  [ 0.41986272 -0.997812    0.94904894]]\n",
      "\n",
      " [[ 0.86158425 -1.0389028  -0.77240086]\n",
      "  [ 0.8753269  -1.0398045  -0.79315627]\n",
      "  [ 0.87528384 -1.0398331  -0.79307675]\n",
      "  ...\n",
      "  [ 0.98516446 -0.6947665  -1.0062423 ]\n",
      "  [ 0.985161   -0.6947809  -1.0062431 ]\n",
      "  [ 0.9851614  -0.6947814  -1.006243  ]]]\n"
     ]
    }
   ],
   "source": [
    "print(synthetic_data_with_anomalies)"
   ]
  },
  {
   "cell_type": "code",
   "execution_count": 28,
   "metadata": {},
   "outputs": [
    {
     "name": "stdout",
     "output_type": "stream",
     "text": [
      "\n",
      "✅ 生成数据已保存: ../databases/simulated_TimeGAN_rnn_output.csv\n"
     ]
    }
   ],
   "source": [
    "import numpy as np\n",
    "import pandas as pd\n",
    "import matplotlib.pyplot as plt\n",
    "import tensorflow as tf\n",
    "# ================== 🚀 Step 3: 保存生成数据到 CSV ==================\n",
    "# 转换为 Pandas DataFrame\n",
    "columns = [\"Cooling Channel 10\", \"Temperature Channel 1\", \"Maxigauge Channel 3\"]\n",
    "simulated_df = pd.DataFrame(\n",
    "    synthetic_data_with_anomalies.reshape(-1, num_features),\n",
    "    columns=columns\n",
    ")\n",
    "\n",
    "# 保存 CSV 文件\n",
    "csv_filename = \"../databases/simulated_TimeGAN_rnn_output.csv\"\n",
    "simulated_df.to_csv(csv_filename, index=False)\n",
    "\n",
    "print(f\"\\n✅ 生成数据已保存: {csv_filename}\")"
   ]
  },
  {
   "cell_type": "code",
   "execution_count": 29,
   "metadata": {},
   "outputs": [
    {
     "name": "stdout",
     "output_type": "stream",
     "text": [
      "\u001b[1m1/1\u001b[0m \u001b[32m━━━━━━━━━━━━━━━━━━━━\u001b[0m\u001b[37m\u001b[0m \u001b[1m0s\u001b[0m 54ms/step\n"
     ]
    },
    {
     "data": {
      "image/png": "[encoded data removed]",
      "text/plain": [
       "<Figure size 1200x600 with 3 Axes>"
      ]
     },
     "metadata": {},
     "output_type": "display_data"
    }
   ],
   "source": [
    "import matplotlib.pyplot as plt\n",
    "\n",
    "# 生成一些新数据\n",
    "num_samples = 5  # 取5个样本\n",
    "seed_sequences = train_data[:num_samples]  # 用真实数据的前几个序列作为 seed\n",
    "generated_data = generator.predict(seed_sequences)\n",
    "\n",
    "# 画图\n",
    "plt.figure(figsize=(12, 6))\n",
    "for i in range(3):  # 遍历3个传感器通道\n",
    "    plt.subplot(3, 1, i+1)\n",
    "    plt.plot(generated_data[0, :, i], label=f\"Generated Feature {i}\")\n",
    "    plt.plot(seed_sequences[0, :, i], label=f\"Real Feature {i}\", linestyle='dashed')\n",
    "    plt.legend()\n",
    "plt.show()\n"
   ]
  },
  {
   "cell_type": "code",
   "execution_count": 30,
   "metadata": {},
   "outputs": [
    {
     "name": "stdout",
     "output_type": "stream",
     "text": [
      "🚀 Checking train_data statistics:\n",
      "Min: -1.0, Max: 1.0\n",
      "Mean: -0.2391393895082012, Std: 0.679053864677437\n"
     ]
    }
   ],
   "source": [
    "print(\"🚀 Checking train_data statistics:\")\n",
    "print(f\"Min: {np.min(train_data)}, Max: {np.max(train_data)}\")\n",
    "print(f\"Mean: {np.mean(train_data)}, Std: {np.std(train_data)}\")\n"
   ]
  },
  {
   "cell_type": "code",
   "execution_count": 31,
   "metadata": {},
   "outputs": [
    {
     "name": "stdout",
     "output_type": "stream",
     "text": [
      "📊 生成数据 vs. 真实数据的误差:\n",
      "均值误差: [ 0.65666808 -0.36281432 -1.56679454]\n",
      "标准差误差: [0.95927826 0.82764703 0.90569553]\n"
     ]
    }
   ],
   "source": [
    "import numpy as np\n",
    "\n",
    "# 计算真实数据统计量\n",
    "real_mean = np.mean(train_data, axis=(0,1))  # (num_features,)\n",
    "real_std = np.std(train_data, axis=(0,1))\n",
    "\n",
    "# 计算生成数据统计量\n",
    "gen_mean = np.mean(generated_data, axis=(0,1))\n",
    "gen_std = np.std(generated_data, axis=(0,1))\n",
    "\n",
    "# 计算均值和标准差的相对误差\n",
    "mean_diff = np.abs(real_mean - gen_mean) / real_mean\n",
    "std_diff = np.abs(real_std - gen_std) / real_std\n",
    "\n",
    "print(\"📊 生成数据 vs. 真实数据的误差:\")\n",
    "print(f\"均值误差: {mean_diff}\")\n",
    "print(f\"标准差误差: {std_diff}\")\n"
   ]
  },
  {
   "cell_type": "markdown",
   "metadata": {},
   "source": [
    "## Optimizing the hyperparameters in TimeGAN using Optuna"
   ]
  },
  {
   "cell_type": "code",
   "execution_count": null,
   "metadata": {},
   "outputs": [],
   "source": [
    "%pip install optuna"
   ]
  },
  {
   "cell_type": "code",
   "execution_count": null,
   "metadata": {},
   "outputs": [],
   "source": [
    "%pip install dtw-python"
   ]
  },
  {
   "cell_type": "code",
   "execution_count": null,
   "metadata": {},
   "outputs": [],
   "source": [
    "import optuna\n",
    "import tensorflow as tf\n",
    "from tensorflow.keras.models import Model\n",
    "from tensorflow.keras.layers import Input, SimpleRNN, GRU, LSTM, Dense, Dropout, BatchNormalization, TimeDistributed\n",
    "from tensorflow.keras.optimizers import Adam\n",
    "from tensorflow.keras.regularizers import l2\n",
    "import matplotlib.pyplot as plt\n",
    "import os\n",
    "from tqdm import tqdm"
   ]
  },
  {
   "cell_type": "markdown",
   "metadata": {},
   "source": [
    "### Optimize the hyperparameters of Generator, Discriminator, and Superviso"
   ]
  },
  {
   "cell_type": "code",
   "execution_count": 42,
   "metadata": {},
   "outputs": [],
   "source": [
    "\n",
    "def build_generator_rnn(trial):\n",
    "    inputs = Input(shape=(120, 3))\n",
    "    rnn_units = trial.suggest_categorical(\"gen_rnn_units\", [16, 24, 32])\n",
    "    dense_units = trial.suggest_categorical(\"gen_dense_units\", [8, 16])\n",
    "    dropout_rate = trial.suggest_float(\"gen_dropout\", 0.1, 0.5)\n",
    "    \n",
    "    x = SimpleRNN(rnn_units, return_sequences=True, kernel_initializer='orthogonal')(inputs)\n",
    "    x = BatchNormalization()(x)\n",
    "    x = Dropout(dropout_rate)(x)\n",
    "    x = Dense(dense_units, activation='tanh')(x)\n",
    "    outputs = Dense(3, activation='tanh', kernel_initializer='glorot_normal')(x)\n",
    "    \n",
    "    return Model(inputs, outputs, name=\"Generator\")\n",
    "\n",
    "def build_discriminator(trial):\n",
    "    inputs = Input(shape=(120, 3))\n",
    "    gru_units = trial.suggest_categorical(\"disc_gru_units\", [32, 64])\n",
    "    dense_units = trial.suggest_categorical(\"disc_dense_units\", [16, 32])\n",
    "    dropout_rate = trial.suggest_float(\"disc_dropout\", 0.1, 0.5)\n",
    "    l2_reg = trial.suggest_float(\"disc_l2\", 1e-5, 1e-2, log=True)\n",
    "    \n",
    "    x = GRU(gru_units, return_sequences=False, kernel_initializer='glorot_uniform')(inputs)\n",
    "    x = BatchNormalization()(x)\n",
    "    x = Dropout(dropout_rate)(x)\n",
    "    x = Dense(dense_units, activation='relu', kernel_regularizer=tf.keras.regularizers.l2(l2_reg))(x)\n",
    "    outputs = Dense(1, activation='sigmoid')(x)\n",
    "    return Model(inputs, outputs, name=\"Discriminator\")\n",
    "\n",
    "def build_supervisor(trial):\n",
    "    inputs = Input(shape=(120, 3))\n",
    "    lstm1_units = trial.suggest_categorical(\"sup_lstm1\", [32, 64])\n",
    "    lstm2_units = trial.suggest_categorical(\"sup_lstm2\", [16, 32])\n",
    "    \n",
    "    x = LSTM(lstm1_units, return_sequences=True)(inputs)\n",
    "    x = LSTM(lstm2_units, return_sequences=True)(x)\n",
    "    outputs = TimeDistributed(Dense(3))(x)\n",
    "    return Model(inputs, outputs, name=\"Supervisor\")"
   ]
  },
  {
   "cell_type": "code",
   "execution_count": null,
   "metadata": {},
   "outputs": [],
   "source": [
    "# Define an objective function for Optuna\n",
    "def objective(trial):\n",
    "    generator = build_generator_rnn(trial)\n",
    "    discriminator = build_discriminator(trial)\n",
    "    supervisor = build_supervisor(trial)\n",
    "    \n",
    "    # Dummy training loop — replace with your actual training and loss evaluation\n",
    "    lr = trial.suggest_float(\"learning_rate\", 1e-5, 1e-3, log=True)\n",
    "    optimizer = Adam(learning_rate=lr)\n",
    "    discriminator.compile(optimizer=optimizer, loss='binary_crossentropy')\n",
    "    \n",
    "    # Normally, you'd fit on real data — here, use dummy data just for illustration\n",
    "    dummy_x = tf.random.normal((8, 120, 3))\n",
    "    dummy_y = tf.random.uniform((8, 1), maxval=2, dtype=tf.int32)\n",
    "    \n",
    "    history = discriminator.fit(dummy_x, dummy_y, epochs=1, batch_size=4, verbose=0)\n",
    "    \n",
    "    return history.history[\"loss\"][-1]"
   ]
  },
  {
   "cell_type": "code",
   "execution_count": 49,
   "metadata": {},
   "outputs": [
    {
     "name": "stderr",
     "output_type": "stream",
     "text": [
      "[I 2025-05-22 20:11:55,305] A new study created in memory with name: no-name-2590e89e-dae7-447b-b5c4-cd09dd3f9e49\n",
      "[I 2025-05-22 20:11:55,827] Trial 0 finished with value: 0.615348219871521 and parameters: {'gen_rnn_units': 16, 'gen_dense_units': 16, 'gen_dropout': 0.18175606190624138, 'disc_gru_units': 32, 'disc_dense_units': 16, 'disc_dropout': 0.2712185745602737, 'disc_l2': 0.00046721729090793015, 'sup_lstm1': 64, 'sup_lstm2': 32, 'learning_rate': 8.722680873338973e-05}. Best is trial 0 with value: 0.615348219871521.\n",
      "[I 2025-05-22 20:11:56,365] Trial 1 finished with value: 0.8479431867599487 and parameters: {'gen_rnn_units': 32, 'gen_dense_units': 16, 'gen_dropout': 0.29835235954831996, 'disc_gru_units': 32, 'disc_dense_units': 32, 'disc_dropout': 0.2958896348582816, 'disc_l2': 0.004644097213716519, 'sup_lstm1': 32, 'sup_lstm2': 32, 'learning_rate': 0.00016788935045072037}. Best is trial 0 with value: 0.615348219871521.\n",
      "[I 2025-05-22 20:11:56,897] Trial 2 finished with value: 1.3026202917099 and parameters: {'gen_rnn_units': 32, 'gen_dense_units': 16, 'gen_dropout': 0.42858251337733233, 'disc_gru_units': 32, 'disc_dense_units': 16, 'disc_dropout': 0.48372786827576464, 'disc_l2': 0.0005902067511308545, 'sup_lstm1': 32, 'sup_lstm2': 32, 'learning_rate': 1.538768007747414e-05}. Best is trial 0 with value: 0.615348219871521.\n",
      "[I 2025-05-22 20:11:57,525] Trial 3 finished with value: 1.289137840270996 and parameters: {'gen_rnn_units': 24, 'gen_dense_units': 16, 'gen_dropout': 0.22238581485321163, 'disc_gru_units': 32, 'disc_dense_units': 32, 'disc_dropout': 0.40553023735875915, 'disc_l2': 2.553536063152592e-05, 'sup_lstm1': 64, 'sup_lstm2': 16, 'learning_rate': 0.0009488229943050865}. Best is trial 0 with value: 0.615348219871521.\n",
      "[I 2025-05-22 20:11:58,115] Trial 4 finished with value: 0.8511545658111572 and parameters: {'gen_rnn_units': 24, 'gen_dense_units': 16, 'gen_dropout': 0.4427073479605288, 'disc_gru_units': 32, 'disc_dense_units': 16, 'disc_dropout': 0.15488271112365065, 'disc_l2': 0.00024020613575679716, 'sup_lstm1': 32, 'sup_lstm2': 16, 'learning_rate': 7.916087602488072e-05}. Best is trial 0 with value: 0.615348219871521.\n",
      "[I 2025-05-22 20:11:58,734] Trial 5 finished with value: 0.907494068145752 and parameters: {'gen_rnn_units': 24, 'gen_dense_units': 8, 'gen_dropout': 0.11519309622464782, 'disc_gru_units': 32, 'disc_dense_units': 16, 'disc_dropout': 0.4324065411118893, 'disc_l2': 0.0006192110429350479, 'sup_lstm1': 32, 'sup_lstm2': 32, 'learning_rate': 0.0003096474345762125}. Best is trial 0 with value: 0.615348219871521.\n",
      "[I 2025-05-22 20:12:00,283] Trial 6 finished with value: 0.5881435871124268 and parameters: {'gen_rnn_units': 16, 'gen_dense_units': 16, 'gen_dropout': 0.4898095069332775, 'disc_gru_units': 64, 'disc_dense_units': 16, 'disc_dropout': 0.2267642157070863, 'disc_l2': 0.0033253741041475776, 'sup_lstm1': 64, 'sup_lstm2': 16, 'learning_rate': 1.0252418540753458e-05}. Best is trial 6 with value: 0.5881435871124268.\n",
      "[I 2025-05-22 20:12:00,850] Trial 7 finished with value: 1.0970056056976318 and parameters: {'gen_rnn_units': 32, 'gen_dense_units': 8, 'gen_dropout': 0.43940410323187357, 'disc_gru_units': 64, 'disc_dense_units': 16, 'disc_dropout': 0.10150713256859123, 'disc_l2': 0.001514296744583679, 'sup_lstm1': 64, 'sup_lstm2': 32, 'learning_rate': 8.38416816763083e-05}. Best is trial 6 with value: 0.5881435871124268.\n",
      "[I 2025-05-22 20:12:01,428] Trial 8 finished with value: 0.7869386672973633 and parameters: {'gen_rnn_units': 32, 'gen_dense_units': 8, 'gen_dropout': 0.10565783808087921, 'disc_gru_units': 64, 'disc_dense_units': 16, 'disc_dropout': 0.4266395048997511, 'disc_l2': 0.0023955083784126378, 'sup_lstm1': 32, 'sup_lstm2': 32, 'learning_rate': 0.0007229201402953632}. Best is trial 6 with value: 0.5881435871124268.\n",
      "[I 2025-05-22 20:12:01,977] Trial 9 finished with value: 1.3608393669128418 and parameters: {'gen_rnn_units': 16, 'gen_dense_units': 8, 'gen_dropout': 0.49149830201358613, 'disc_gru_units': 32, 'disc_dense_units': 16, 'disc_dropout': 0.3920662237204106, 'disc_l2': 0.008265888384956496, 'sup_lstm1': 64, 'sup_lstm2': 16, 'learning_rate': 4.771959601862689e-05}. Best is trial 6 with value: 0.5881435871124268.\n",
      "[I 2025-05-22 20:12:02,525] Trial 10 finished with value: 1.0094951391220093 and parameters: {'gen_rnn_units': 16, 'gen_dense_units': 16, 'gen_dropout': 0.3462668494758441, 'disc_gru_units': 64, 'disc_dense_units': 32, 'disc_dropout': 0.21462858058104242, 'disc_l2': 7.599267143173508e-05, 'sup_lstm1': 64, 'sup_lstm2': 16, 'learning_rate': 1.0465105196964892e-05}. Best is trial 6 with value: 0.5881435871124268.\n",
      "[I 2025-05-22 20:12:03,088] Trial 11 finished with value: 0.7356672286987305 and parameters: {'gen_rnn_units': 16, 'gen_dense_units': 16, 'gen_dropout': 0.21002724197117084, 'disc_gru_units': 64, 'disc_dense_units': 16, 'disc_dropout': 0.27368657356190834, 'disc_l2': 0.00014590384577695942, 'sup_lstm1': 64, 'sup_lstm2': 16, 'learning_rate': 2.8278374805011726e-05}. Best is trial 6 with value: 0.5881435871124268.\n",
      "[I 2025-05-22 20:12:03,699] Trial 12 finished with value: 0.7220050096511841 and parameters: {'gen_rnn_units': 16, 'gen_dense_units': 16, 'gen_dropout': 0.20154309972463463, 'disc_gru_units': 64, 'disc_dense_units': 16, 'disc_dropout': 0.22728771890328292, 'disc_l2': 0.0010312186776549666, 'sup_lstm1': 64, 'sup_lstm2': 16, 'learning_rate': 2.5944017390081543e-05}. Best is trial 6 with value: 0.5881435871124268.\n",
      "[I 2025-05-22 20:12:04,288] Trial 13 finished with value: 1.0096970796585083 and parameters: {'gen_rnn_units': 16, 'gen_dense_units': 16, 'gen_dropout': 0.32138676315364356, 'disc_gru_units': 64, 'disc_dense_units': 16, 'disc_dropout': 0.3426608203536383, 'disc_l2': 1.1838393682554478e-05, 'sup_lstm1': 64, 'sup_lstm2': 32, 'learning_rate': 0.00021294070981881563}. Best is trial 6 with value: 0.5881435871124268.\n",
      "[I 2025-05-22 20:12:04,862] Trial 14 finished with value: 1.1651031970977783 and parameters: {'gen_rnn_units': 16, 'gen_dense_units': 16, 'gen_dropout': 0.26683524909563355, 'disc_gru_units': 32, 'disc_dense_units': 32, 'disc_dropout': 0.2268389800789999, 'disc_l2': 0.0035382672425708843, 'sup_lstm1': 64, 'sup_lstm2': 32, 'learning_rate': 0.000400093844946475}. Best is trial 6 with value: 0.5881435871124268.\n",
      "[I 2025-05-22 20:12:05,418] Trial 15 finished with value: 1.1321625709533691 and parameters: {'gen_rnn_units': 16, 'gen_dense_units': 16, 'gen_dropout': 0.1538858381212807, 'disc_gru_units': 64, 'disc_dense_units': 16, 'disc_dropout': 0.16484725559952546, 'disc_l2': 7.569682273845938e-05, 'sup_lstm1': 64, 'sup_lstm2': 16, 'learning_rate': 3.874142401483451e-05}. Best is trial 6 with value: 0.5881435871124268.\n",
      "[I 2025-05-22 20:12:05,972] Trial 16 finished with value: 1.1367027759552002 and parameters: {'gen_rnn_units': 16, 'gen_dense_units': 16, 'gen_dropout': 0.3751985087684604, 'disc_gru_units': 32, 'disc_dense_units': 16, 'disc_dropout': 0.3281492268751025, 'disc_l2': 0.009204082456356991, 'sup_lstm1': 64, 'sup_lstm2': 32, 'learning_rate': 1.5978263761143984e-05}. Best is trial 6 with value: 0.5881435871124268.\n",
      "[I 2025-05-22 20:12:06,543] Trial 17 finished with value: 0.9972806572914124 and parameters: {'gen_rnn_units': 16, 'gen_dense_units': 16, 'gen_dropout': 0.390208677066659, 'disc_gru_units': 64, 'disc_dense_units': 16, 'disc_dropout': 0.24662043060292482, 'disc_l2': 0.00046782062336749107, 'sup_lstm1': 64, 'sup_lstm2': 16, 'learning_rate': 0.00013501613388902314}. Best is trial 6 with value: 0.5881435871124268.\n",
      "[I 2025-05-22 20:12:07,094] Trial 18 finished with value: 1.1208205223083496 and parameters: {'gen_rnn_units': 16, 'gen_dense_units': 8, 'gen_dropout': 0.2529234529914789, 'disc_gru_units': 64, 'disc_dense_units': 32, 'disc_dropout': 0.17656655737598564, 'disc_l2': 0.0016983717908372778, 'sup_lstm1': 64, 'sup_lstm2': 32, 'learning_rate': 5.1485298335315307e-05}. Best is trial 6 with value: 0.5881435871124268.\n",
      "[I 2025-05-22 20:12:07,629] Trial 19 finished with value: 0.6799237728118896 and parameters: {'gen_rnn_units': 24, 'gen_dense_units': 16, 'gen_dropout': 0.16054221074719205, 'disc_gru_units': 32, 'disc_dense_units': 16, 'disc_dropout': 0.3517174995138488, 'disc_l2': 0.00020617971663911344, 'sup_lstm1': 64, 'sup_lstm2': 16, 'learning_rate': 0.00048026393430750016}. Best is trial 6 with value: 0.5881435871124268.\n",
      "[I 2025-05-22 20:12:08,149] Trial 20 finished with value: 0.6920353174209595 and parameters: {'gen_rnn_units': 16, 'gen_dense_units': 16, 'gen_dropout': 0.4959911902337782, 'disc_gru_units': 32, 'disc_dense_units': 16, 'disc_dropout': 0.10204111985569436, 'disc_l2': 0.0010434893739232353, 'sup_lstm1': 64, 'sup_lstm2': 16, 'learning_rate': 1.0804781186986499e-05}. Best is trial 6 with value: 0.5881435871124268.\n",
      "[I 2025-05-22 20:12:08,663] Trial 21 finished with value: 0.6109429597854614 and parameters: {'gen_rnn_units': 24, 'gen_dense_units': 16, 'gen_dropout': 0.15930199173690715, 'disc_gru_units': 32, 'disc_dense_units': 16, 'disc_dropout': 0.35533677482652537, 'disc_l2': 0.00021012604329271827, 'sup_lstm1': 64, 'sup_lstm2': 16, 'learning_rate': 0.0003312369283230346}. Best is trial 6 with value: 0.5881435871124268.\n",
      "[I 2025-05-22 20:12:09,184] Trial 22 finished with value: 1.1326099634170532 and parameters: {'gen_rnn_units': 24, 'gen_dense_units': 16, 'gen_dropout': 0.15118735194141833, 'disc_gru_units': 32, 'disc_dense_units': 16, 'disc_dropout': 0.27494474791165635, 'disc_l2': 0.00010040632577314925, 'sup_lstm1': 64, 'sup_lstm2': 16, 'learning_rate': 0.00022967677536607595}. Best is trial 6 with value: 0.5881435871124268.\n",
      "[I 2025-05-22 20:12:09,707] Trial 23 finished with value: 1.1653562784194946 and parameters: {'gen_rnn_units': 24, 'gen_dense_units': 16, 'gen_dropout': 0.18417321237021406, 'disc_gru_units': 32, 'disc_dense_units': 16, 'disc_dropout': 0.31196380172541355, 'disc_l2': 2.8641088585862725e-05, 'sup_lstm1': 64, 'sup_lstm2': 16, 'learning_rate': 0.000127271354763041}. Best is trial 6 with value: 0.5881435871124268.\n",
      "[I 2025-05-22 20:12:10,237] Trial 24 finished with value: 0.9908641576766968 and parameters: {'gen_rnn_units': 24, 'gen_dense_units': 16, 'gen_dropout': 0.2554596301255418, 'disc_gru_units': 32, 'disc_dense_units': 16, 'disc_dropout': 0.3583050283019379, 'disc_l2': 0.0002925219792158394, 'sup_lstm1': 64, 'sup_lstm2': 16, 'learning_rate': 0.0005439664805392409}. Best is trial 6 with value: 0.5881435871124268.\n",
      "[I 2025-05-22 20:12:10,766] Trial 25 finished with value: 1.009080410003662 and parameters: {'gen_rnn_units': 24, 'gen_dense_units': 16, 'gen_dropout': 0.13035020526127306, 'disc_gru_units': 32, 'disc_dense_units': 16, 'disc_dropout': 0.26652562533009555, 'disc_l2': 3.880616463985248e-05, 'sup_lstm1': 64, 'sup_lstm2': 16, 'learning_rate': 6.556289592001098e-05}. Best is trial 6 with value: 0.5881435871124268.\n",
      "[I 2025-05-22 20:12:11,351] Trial 26 finished with value: 1.414829969406128 and parameters: {'gen_rnn_units': 16, 'gen_dense_units': 8, 'gen_dropout': 0.2894771862741717, 'disc_gru_units': 64, 'disc_dense_units': 32, 'disc_dropout': 0.36850924529828805, 'disc_l2': 0.00047596395597291426, 'sup_lstm1': 32, 'sup_lstm2': 32, 'learning_rate': 0.0002905331425012952}. Best is trial 6 with value: 0.5881435871124268.\n",
      "[I 2025-05-22 20:12:11,922] Trial 27 finished with value: 0.7727624177932739 and parameters: {'gen_rnn_units': 16, 'gen_dense_units': 16, 'gen_dropout': 0.186621618738469, 'disc_gru_units': 32, 'disc_dense_units': 16, 'disc_dropout': 0.19985059788643306, 'disc_l2': 0.005643986127124408, 'sup_lstm1': 64, 'sup_lstm2': 16, 'learning_rate': 2.5987550293094818e-05}. Best is trial 6 with value: 0.5881435871124268.\n",
      "[I 2025-05-22 20:12:12,475] Trial 28 finished with value: 0.9020078778266907 and parameters: {'gen_rnn_units': 32, 'gen_dense_units': 16, 'gen_dropout': 0.2338071186185979, 'disc_gru_units': 64, 'disc_dense_units': 16, 'disc_dropout': 0.29714897445835026, 'disc_l2': 0.00016701542292228726, 'sup_lstm1': 64, 'sup_lstm2': 32, 'learning_rate': 0.0001044359291238732}. Best is trial 6 with value: 0.5881435871124268.\n",
      "[I 2025-05-22 20:12:12,998] Trial 29 finished with value: 1.0175689458847046 and parameters: {'gen_rnn_units': 24, 'gen_dense_units': 16, 'gen_dropout': 0.3038849895216192, 'disc_gru_units': 32, 'disc_dense_units': 32, 'disc_dropout': 0.315258629268467, 'disc_l2': 0.003129456206852285, 'sup_lstm1': 32, 'sup_lstm2': 32, 'learning_rate': 0.00018012328589365166}. Best is trial 6 with value: 0.5881435871124268.\n"
     ]
    },
    {
     "name": "stdout",
     "output_type": "stream",
     "text": [
      "\n",
      "Best trial:\n",
      "gen_rnn_units: 16\n",
      "gen_dense_units: 16\n",
      "gen_dropout: 0.4898095069332775\n",
      "disc_gru_units: 64\n",
      "disc_dense_units: 16\n",
      "disc_dropout: 0.2267642157070863\n",
      "disc_l2: 0.0033253741041475776\n",
      "sup_lstm1: 64\n",
      "sup_lstm2: 16\n",
      "learning_rate: 1.0252418540753458e-05\n"
     ]
    },
    {
     "data": {
      "image/png": "[encoded data removed]",
      "text/plain": [
       "<Figure size 1000x400 with 1 Axes>"
      ]
     },
     "metadata": {},
     "output_type": "display_data"
    }
   ],
   "source": [
    "# Run optimization\n",
    "study = optuna.create_study(direction=\"minimize\")\n",
    "study.optimize(objective, n_trials=30)\n",
    "\n",
    "# Print best parameters\n",
    "print(\"\\nBest trial:\")\n",
    "for key, value in study.best_trial.params.items():\n",
    "    print(f\"{key}: {value}\")\n",
    "\n",
    "# === Matplotlib History Plot ===\n",
    "plt.figure(figsize=(10, 4))\n",
    "plt.plot([t.value for t in study.trials if t.value is not None], 'o-')\n",
    "plt.xlabel(\"Trial\")\n",
    "plt.ylabel(\"Objective Value (Loss)\")\n",
    "plt.title(\"Optimization History\")\n",
    "plt.grid(True)\n",
    "plt.show()"
   ]
  },
  {
   "cell_type": "markdown",
   "metadata": {},
   "source": [
    "### Build Generator, Discreminator and Supervior with best parameters get from Optuna"
   ]
  },
  {
   "cell_type": "code",
   "execution_count": 53,
   "metadata": {},
   "outputs": [
    {
     "name": "stdout",
     "output_type": "stream",
     "text": [
      "✅ Models built with best parameters from Optuna.\n"
     ]
    }
   ],
   "source": [
    "# === Generator ===\n",
    "def build_generator():\n",
    "    inputs = Input(shape=(120, 3))\n",
    "    x = SimpleRNN(16, return_sequences=True, kernel_initializer='orthogonal')(inputs)\n",
    "    x = BatchNormalization()(x)\n",
    "    x = Dropout(0.4233)(x)\n",
    "    x = Dense(16, activation='tanh')(x)\n",
    "    outputs = Dense(3, activation='tanh', kernel_initializer='glorot_normal')(x)\n",
    "    return Model(inputs, outputs, name=\"Generator\")\n",
    "\n",
    "# === Discriminator ===\n",
    "def build_discriminator():\n",
    "    inputs = Input(shape=(120, 3))\n",
    "    x = GRU(32, return_sequences=False, kernel_initializer='glorot_uniform')(inputs)\n",
    "    x = BatchNormalization()(x)\n",
    "    x = Dropout(0.2147)(x)\n",
    "    x = Dense(16, activation='relu', kernel_regularizer=l2(0.0005874))(x)\n",
    "    outputs = Dense(1, activation='sigmoid')(x)\n",
    "    return Model(inputs, outputs, name=\"Discriminator\")\n",
    "\n",
    "# === Supervisor ===\n",
    "def build_supervisor():\n",
    "    inputs = Input(shape=(120, 3))\n",
    "    x = LSTM(32, return_sequences=True)(inputs)\n",
    "    x = LSTM(16, return_sequences=True)(x)\n",
    "    outputs = TimeDistributed(Dense(3))(x)\n",
    "    return Model(inputs, outputs, name=\"Supervisor\")\n",
    "\n",
    "# === Embedding & Recovery (Optional for complete TimeGAN) ===\n",
    "def build_embedder():\n",
    "    inputs = Input(shape=(120, 3))\n",
    "    x = LSTM(32, return_sequences=True)(inputs)\n",
    "    outputs = LSTM(16, return_sequences=True)(x)\n",
    "    return Model(inputs, outputs, name=\"Embedder\")\n",
    "\n",
    "def build_recovery():\n",
    "    inputs = Input(shape=(120, 16))\n",
    "    x = LSTM(32, return_sequences=True)(inputs)\n",
    "    outputs = LSTM(3, return_sequences=True)(x)\n",
    "    return Model(inputs, outputs, name=\"Recovery\")\n",
    "\n",
    "# === Optimizer ===\n",
    "learning_rate = 1.99e-5\n",
    "optimizer = Adam(learning_rate)\n",
    "\n",
    "# === Instantiate models ===\n",
    "generator = build_generator()\n",
    "discriminator = build_discriminator()\n",
    "supervisor = build_supervisor()\n",
    "embedder = build_embedder()\n",
    "recovery = build_recovery()\n",
    "\n",
    "# === Compile if training separately ===\n",
    "discriminator.compile(loss='binary_crossentropy', optimizer=optimizer)\n",
    "supervisor.compile(loss='mse', optimizer=optimizer)\n",
    "\n",
    "print(\"✅ Models built with best parameters from Optuna.\")\n"
   ]
  },
  {
   "cell_type": "markdown",
   "metadata": {},
   "source": [
    "### Train Time-Gan Model"
   ]
  },
  {
   "cell_type": "code",
   "execution_count": 54,
   "metadata": {},
   "outputs": [
    {
     "name": "stdout",
     "output_type": "stream",
     "text": [
      "\n",
      "Epoch 1/30\n"
     ]
    },
    {
     "name": "stderr",
     "output_type": "stream",
     "text": [
      "Training: 100%|██████████| 862/862 [13:08<00:00,  1.09it/s, G Loss=0.9068, Sup Loss=0.0529, D Loss=0.6176]\n",
      "WARNING:absl:You are saving your model as an HDF5 file via `model.save()` or `keras.saving.save_model(model)`. This file format is considered legacy. We recommend using instead the native Keras format, e.g. `model.save('my_model.keras')` or `keras.saving.save_model(model, 'my_model.keras')`. \n",
      "WARNING:absl:You are saving your model as an HDF5 file via `model.save()` or `keras.saving.save_model(model)`. This file format is considered legacy. We recommend using instead the native Keras format, e.g. `model.save('my_model.keras')` or `keras.saving.save_model(model, 'my_model.keras')`. \n",
      "WARNING:absl:You are saving your model as an HDF5 file via `model.save()` or `keras.saving.save_model(model)`. This file format is considered legacy. We recommend using instead the native Keras format, e.g. `model.save('my_model.keras')` or `keras.saving.save_model(model, 'my_model.keras')`. \n"
     ]
    },
    {
     "name": "stdout",
     "output_type": "stream",
     "text": [
      "Epoch 1 Summary - G Loss: 0.8798, Sup Loss: 0.0709, D Loss: 0.6594\n",
      "✅ Best models saved!\n",
      "\n",
      "Epoch 2/30\n"
     ]
    },
    {
     "name": "stderr",
     "output_type": "stream",
     "text": [
      "Training: 100%|██████████| 862/862 [12:59<00:00,  1.11it/s, G Loss=0.9219, Sup Loss=0.0385, D Loss=0.5905]\n"
     ]
    },
    {
     "name": "stdout",
     "output_type": "stream",
     "text": [
      "Epoch 2 Summary - G Loss: 0.9738, Sup Loss: 0.0468, D Loss: 0.5980\n",
      "\n",
      "Epoch 3/30\n"
     ]
    },
    {
     "name": "stderr",
     "output_type": "stream",
     "text": [
      "Training: 100%|██████████| 862/862 [13:02<00:00,  1.10it/s, G Loss=0.8625, Sup Loss=0.0251, D Loss=0.5931]\n"
     ]
    },
    {
     "name": "stdout",
     "output_type": "stream",
     "text": [
      "Epoch 3 Summary - G Loss: 0.9691, Sup Loss: 0.0355, D Loss: 0.5847\n",
      "\n",
      "Epoch 4/30\n"
     ]
    },
    {
     "name": "stderr",
     "output_type": "stream",
     "text": [
      "Training: 100%|██████████| 862/862 [13:03<00:00,  1.10it/s, G Loss=0.8328, Sup Loss=0.0212, D Loss=0.5988]\n"
     ]
    },
    {
     "name": "stdout",
     "output_type": "stream",
     "text": [
      "Epoch 4 Summary - G Loss: 0.9306, Sup Loss: 0.0289, D Loss: 0.5927\n",
      "\n",
      "Epoch 5/30\n"
     ]
    },
    {
     "name": "stderr",
     "output_type": "stream",
     "text": [
      "Training: 100%|██████████| 862/862 [13:04<00:00,  1.10it/s, G Loss=0.6730, Sup Loss=0.0176, D Loss=0.6559]\n",
      "WARNING:absl:You are saving your model as an HDF5 file via `model.save()` or `keras.saving.save_model(model)`. This file format is considered legacy. We recommend using instead the native Keras format, e.g. `model.save('my_model.keras')` or `keras.saving.save_model(model, 'my_model.keras')`. \n",
      "WARNING:absl:You are saving your model as an HDF5 file via `model.save()` or `keras.saving.save_model(model)`. This file format is considered legacy. We recommend using instead the native Keras format, e.g. `model.save('my_model.keras')` or `keras.saving.save_model(model, 'my_model.keras')`. \n",
      "WARNING:absl:You are saving your model as an HDF5 file via `model.save()` or `keras.saving.save_model(model)`. This file format is considered legacy. We recommend using instead the native Keras format, e.g. `model.save('my_model.keras')` or `keras.saving.save_model(model, 'my_model.keras')`. \n"
     ]
    },
    {
     "name": "stdout",
     "output_type": "stream",
     "text": [
      "Epoch 5 Summary - G Loss: 0.8829, Sup Loss: 0.0238, D Loss: 0.6112\n",
      "✅ Best models saved!\n",
      "\n",
      "Epoch 6/30\n"
     ]
    },
    {
     "name": "stderr",
     "output_type": "stream",
     "text": [
      "Training: 100%|██████████| 862/862 [13:04<00:00,  1.10it/s, G Loss=0.8977, Sup Loss=0.0161, D Loss=0.6393]\n",
      "WARNING:absl:You are saving your model as an HDF5 file via `model.save()` or `keras.saving.save_model(model)`. This file format is considered legacy. We recommend using instead the native Keras format, e.g. `model.save('my_model.keras')` or `keras.saving.save_model(model, 'my_model.keras')`. \n",
      "WARNING:absl:You are saving your model as an HDF5 file via `model.save()` or `keras.saving.save_model(model)`. This file format is considered legacy. We recommend using instead the native Keras format, e.g. `model.save('my_model.keras')` or `keras.saving.save_model(model, 'my_model.keras')`. \n",
      "WARNING:absl:You are saving your model as an HDF5 file via `model.save()` or `keras.saving.save_model(model)`. This file format is considered legacy. We recommend using instead the native Keras format, e.g. `model.save('my_model.keras')` or `keras.saving.save_model(model, 'my_model.keras')`. \n"
     ]
    },
    {
     "name": "stdout",
     "output_type": "stream",
     "text": [
      "Epoch 6 Summary - G Loss: 0.8279, Sup Loss: 0.0201, D Loss: 0.6345\n",
      "✅ Best models saved!\n",
      "\n",
      "Epoch 7/30\n"
     ]
    },
    {
     "name": "stderr",
     "output_type": "stream",
     "text": [
      "Training: 100%|██████████| 862/862 [13:04<00:00,  1.10it/s, G Loss=0.6508, Sup Loss=0.0142, D Loss=0.6781]\n",
      "WARNING:absl:You are saving your model as an HDF5 file via `model.save()` or `keras.saving.save_model(model)`. This file format is considered legacy. We recommend using instead the native Keras format, e.g. `model.save('my_model.keras')` or `keras.saving.save_model(model, 'my_model.keras')`. \n",
      "WARNING:absl:You are saving your model as an HDF5 file via `model.save()` or `keras.saving.save_model(model)`. This file format is considered legacy. We recommend using instead the native Keras format, e.g. `model.save('my_model.keras')` or `keras.saving.save_model(model, 'my_model.keras')`. \n",
      "WARNING:absl:You are saving your model as an HDF5 file via `model.save()` or `keras.saving.save_model(model)`. This file format is considered legacy. We recommend using instead the native Keras format, e.g. `model.save('my_model.keras')` or `keras.saving.save_model(model, 'my_model.keras')`. \n"
     ]
    },
    {
     "name": "stdout",
     "output_type": "stream",
     "text": [
      "Epoch 7 Summary - G Loss: 0.7859, Sup Loss: 0.0173, D Loss: 0.6542\n",
      "✅ Best models saved!\n",
      "\n",
      "Epoch 8/30\n"
     ]
    },
    {
     "name": "stderr",
     "output_type": "stream",
     "text": [
      "Training: 100%|██████████| 862/862 [12:55<00:00,  1.16it/s, G Loss=0.7560, Sup Loss=0.0123, D Loss=0.6747]2025-05-23 01:22:57.625856: I tensorflow/core/framework/local_rendezvous.cc:407] Local rendezvous is aborting with status: OUT_OF_RANGE: End of sequence\n",
      "Training: 100%|██████████| 862/862 [12:55<00:00,  1.11it/s, G Loss=0.7560, Sup Loss=0.0123, D Loss=0.6747]\n",
      "WARNING:absl:You are saving your model as an HDF5 file via `model.save()` or `keras.saving.save_model(model)`. This file format is considered legacy. We recommend using instead the native Keras format, e.g. `model.save('my_model.keras')` or `keras.saving.save_model(model, 'my_model.keras')`. \n",
      "WARNING:absl:You are saving your model as an HDF5 file via `model.save()` or `keras.saving.save_model(model)`. This file format is considered legacy. We recommend using instead the native Keras format, e.g. `model.save('my_model.keras')` or `keras.saving.save_model(model, 'my_model.keras')`. \n",
      "WARNING:absl:You are saving your model as an HDF5 file via `model.save()` or `keras.saving.save_model(model)`. This file format is considered legacy. We recommend using instead the native Keras format, e.g. `model.save('my_model.keras')` or `keras.saving.save_model(model, 'my_model.keras')`. \n"
     ]
    },
    {
     "name": "stdout",
     "output_type": "stream",
     "text": [
      "Epoch 8 Summary - G Loss: 0.7571, Sup Loss: 0.0152, D Loss: 0.6676\n",
      "✅ Best models saved!\n",
      "\n",
      "Epoch 9/30\n"
     ]
    },
    {
     "name": "stderr",
     "output_type": "stream",
     "text": [
      "Training: 100%|██████████| 862/862 [12:56<00:00,  1.11it/s, G Loss=1.2333, Sup Loss=0.0130, D Loss=0.7033]\n",
      "WARNING:absl:You are saving your model as an HDF5 file via `model.save()` or `keras.saving.save_model(model)`. This file format is considered legacy. We recommend using instead the native Keras format, e.g. `model.save('my_model.keras')` or `keras.saving.save_model(model, 'my_model.keras')`. \n",
      "WARNING:absl:You are saving your model as an HDF5 file via `model.save()` or `keras.saving.save_model(model)`. This file format is considered legacy. We recommend using instead the native Keras format, e.g. `model.save('my_model.keras')` or `keras.saving.save_model(model, 'my_model.keras')`. \n",
      "WARNING:absl:You are saving your model as an HDF5 file via `model.save()` or `keras.saving.save_model(model)`. This file format is considered legacy. We recommend using instead the native Keras format, e.g. `model.save('my_model.keras')` or `keras.saving.save_model(model, 'my_model.keras')`. \n"
     ]
    },
    {
     "name": "stdout",
     "output_type": "stream",
     "text": [
      "Epoch 9 Summary - G Loss: 0.7404, Sup Loss: 0.0134, D Loss: 0.6766\n",
      "✅ Best models saved!\n",
      "\n",
      "Epoch 10/30\n"
     ]
    },
    {
     "name": "stderr",
     "output_type": "stream",
     "text": [
      "Training: 100%|██████████| 862/862 [13:00<00:00,  1.11it/s, G Loss=0.6482, Sup Loss=0.0102, D Loss=0.7054]\n",
      "WARNING:absl:You are saving your model as an HDF5 file via `model.save()` or `keras.saving.save_model(model)`. This file format is considered legacy. We recommend using instead the native Keras format, e.g. `model.save('my_model.keras')` or `keras.saving.save_model(model, 'my_model.keras')`. \n",
      "WARNING:absl:You are saving your model as an HDF5 file via `model.save()` or `keras.saving.save_model(model)`. This file format is considered legacy. We recommend using instead the native Keras format, e.g. `model.save('my_model.keras')` or `keras.saving.save_model(model, 'my_model.keras')`. \n",
      "WARNING:absl:You are saving your model as an HDF5 file via `model.save()` or `keras.saving.save_model(model)`. This file format is considered legacy. We recommend using instead the native Keras format, e.g. `model.save('my_model.keras')` or `keras.saving.save_model(model, 'my_model.keras')`. \n"
     ]
    },
    {
     "name": "stdout",
     "output_type": "stream",
     "text": [
      "Epoch 10 Summary - G Loss: 0.7276, Sup Loss: 0.0120, D Loss: 0.6832\n",
      "✅ Best models saved!\n",
      "\n",
      "Epoch 11/30\n"
     ]
    },
    {
     "name": "stderr",
     "output_type": "stream",
     "text": [
      "Training: 100%|██████████| 862/862 [13:01<00:00,  1.10it/s, G Loss=0.6901, Sup Loss=0.0098, D Loss=0.6839]\n",
      "WARNING:absl:You are saving your model as an HDF5 file via `model.save()` or `keras.saving.save_model(model)`. This file format is considered legacy. We recommend using instead the native Keras format, e.g. `model.save('my_model.keras')` or `keras.saving.save_model(model, 'my_model.keras')`. \n",
      "WARNING:absl:You are saving your model as an HDF5 file via `model.save()` or `keras.saving.save_model(model)`. This file format is considered legacy. We recommend using instead the native Keras format, e.g. `model.save('my_model.keras')` or `keras.saving.save_model(model, 'my_model.keras')`. \n",
      "WARNING:absl:You are saving your model as an HDF5 file via `model.save()` or `keras.saving.save_model(model)`. This file format is considered legacy. We recommend using instead the native Keras format, e.g. `model.save('my_model.keras')` or `keras.saving.save_model(model, 'my_model.keras')`. \n"
     ]
    },
    {
     "name": "stdout",
     "output_type": "stream",
     "text": [
      "Epoch 11 Summary - G Loss: 0.7201, Sup Loss: 0.0108, D Loss: 0.6879\n",
      "✅ Best models saved!\n",
      "\n",
      "Epoch 12/30\n"
     ]
    },
    {
     "name": "stderr",
     "output_type": "stream",
     "text": [
      "Training: 100%|██████████| 862/862 [13:03<00:00,  1.10it/s, G Loss=0.6632, Sup Loss=0.0087, D Loss=0.6928]\n",
      "WARNING:absl:You are saving your model as an HDF5 file via `model.save()` or `keras.saving.save_model(model)`. This file format is considered legacy. We recommend using instead the native Keras format, e.g. `model.save('my_model.keras')` or `keras.saving.save_model(model, 'my_model.keras')`. \n",
      "WARNING:absl:You are saving your model as an HDF5 file via `model.save()` or `keras.saving.save_model(model)`. This file format is considered legacy. We recommend using instead the native Keras format, e.g. `model.save('my_model.keras')` or `keras.saving.save_model(model, 'my_model.keras')`. \n",
      "WARNING:absl:You are saving your model as an HDF5 file via `model.save()` or `keras.saving.save_model(model)`. This file format is considered legacy. We recommend using instead the native Keras format, e.g. `model.save('my_model.keras')` or `keras.saving.save_model(model, 'my_model.keras')`. \n"
     ]
    },
    {
     "name": "stdout",
     "output_type": "stream",
     "text": [
      "Epoch 12 Summary - G Loss: 0.7178, Sup Loss: 0.0098, D Loss: 0.6907\n",
      "✅ Best models saved!\n",
      "\n",
      "Epoch 13/30\n"
     ]
    },
    {
     "name": "stderr",
     "output_type": "stream",
     "text": [
      "Training: 100%|██████████| 862/862 [13:02<00:00,  1.10it/s, G Loss=0.8283, Sup Loss=0.0080, D Loss=0.7123]\n",
      "WARNING:absl:You are saving your model as an HDF5 file via `model.save()` or `keras.saving.save_model(model)`. This file format is considered legacy. We recommend using instead the native Keras format, e.g. `model.save('my_model.keras')` or `keras.saving.save_model(model, 'my_model.keras')`. \n",
      "WARNING:absl:You are saving your model as an HDF5 file via `model.save()` or `keras.saving.save_model(model)`. This file format is considered legacy. We recommend using instead the native Keras format, e.g. `model.save('my_model.keras')` or `keras.saving.save_model(model, 'my_model.keras')`. \n",
      "WARNING:absl:You are saving your model as an HDF5 file via `model.save()` or `keras.saving.save_model(model)`. This file format is considered legacy. We recommend using instead the native Keras format, e.g. `model.save('my_model.keras')` or `keras.saving.save_model(model, 'my_model.keras')`. \n"
     ]
    },
    {
     "name": "stdout",
     "output_type": "stream",
     "text": [
      "Epoch 13 Summary - G Loss: 0.7160, Sup Loss: 0.0090, D Loss: 0.6927\n",
      "✅ Best models saved!\n",
      "\n",
      "Epoch 14/30\n"
     ]
    },
    {
     "name": "stderr",
     "output_type": "stream",
     "text": [
      "Training: 100%|██████████| 862/862 [13:02<00:00,  1.10it/s, G Loss=0.6786, Sup Loss=0.0071, D Loss=0.6960]\n",
      "WARNING:absl:You are saving your model as an HDF5 file via `model.save()` or `keras.saving.save_model(model)`. This file format is considered legacy. We recommend using instead the native Keras format, e.g. `model.save('my_model.keras')` or `keras.saving.save_model(model, 'my_model.keras')`. \n",
      "WARNING:absl:You are saving your model as an HDF5 file via `model.save()` or `keras.saving.save_model(model)`. This file format is considered legacy. We recommend using instead the native Keras format, e.g. `model.save('my_model.keras')` or `keras.saving.save_model(model, 'my_model.keras')`. \n",
      "WARNING:absl:You are saving your model as an HDF5 file via `model.save()` or `keras.saving.save_model(model)`. This file format is considered legacy. We recommend using instead the native Keras format, e.g. `model.save('my_model.keras')` or `keras.saving.save_model(model, 'my_model.keras')`. \n"
     ]
    },
    {
     "name": "stdout",
     "output_type": "stream",
     "text": [
      "Epoch 14 Summary - G Loss: 0.7161, Sup Loss: 0.0084, D Loss: 0.6939\n",
      "✅ Best models saved!\n",
      "\n",
      "Epoch 15/30\n"
     ]
    },
    {
     "name": "stderr",
     "output_type": "stream",
     "text": [
      "Training: 100%|██████████| 862/862 [13:04<00:00,  1.10it/s, G Loss=0.7139, Sup Loss=0.0081, D Loss=0.6811]\n"
     ]
    },
    {
     "name": "stdout",
     "output_type": "stream",
     "text": [
      "Epoch 15 Summary - G Loss: 0.7176, Sup Loss: 0.0078, D Loss: 0.6938\n",
      "\n",
      "Epoch 16/30\n"
     ]
    },
    {
     "name": "stderr",
     "output_type": "stream",
     "text": [
      "Training: 100%|██████████| 862/862 [13:03<00:00,  1.10it/s, G Loss=0.6918, Sup Loss=0.0064, D Loss=0.6948]\n"
     ]
    },
    {
     "name": "stdout",
     "output_type": "stream",
     "text": [
      "Epoch 16 Summary - G Loss: 0.7178, Sup Loss: 0.0074, D Loss: 0.6939\n",
      "\n",
      "Epoch 17/30\n"
     ]
    },
    {
     "name": "stderr",
     "output_type": "stream",
     "text": [
      "Training: 100%|██████████| 862/862 [13:04<00:00,  1.10it/s, G Loss=0.6976, Sup Loss=0.0063, D Loss=0.6931]\n"
     ]
    },
    {
     "name": "stdout",
     "output_type": "stream",
     "text": [
      "Epoch 17 Summary - G Loss: 0.7171, Sup Loss: 0.0070, D Loss: 0.6933\n",
      "\n",
      "Epoch 18/30\n"
     ]
    },
    {
     "name": "stderr",
     "output_type": "stream",
     "text": [
      "Training: 100%|██████████| 862/862 [13:06<00:00,  1.10it/s, G Loss=0.7021, Sup Loss=0.0057, D Loss=0.6953]\n",
      "WARNING:absl:You are saving your model as an HDF5 file via `model.save()` or `keras.saving.save_model(model)`. This file format is considered legacy. We recommend using instead the native Keras format, e.g. `model.save('my_model.keras')` or `keras.saving.save_model(model, 'my_model.keras')`. \n",
      "WARNING:absl:You are saving your model as an HDF5 file via `model.save()` or `keras.saving.save_model(model)`. This file format is considered legacy. We recommend using instead the native Keras format, e.g. `model.save('my_model.keras')` or `keras.saving.save_model(model, 'my_model.keras')`. \n",
      "WARNING:absl:You are saving your model as an HDF5 file via `model.save()` or `keras.saving.save_model(model)`. This file format is considered legacy. We recommend using instead the native Keras format, e.g. `model.save('my_model.keras')` or `keras.saving.save_model(model, 'my_model.keras')`. \n"
     ]
    },
    {
     "name": "stdout",
     "output_type": "stream",
     "text": [
      "Epoch 18 Summary - G Loss: 0.7156, Sup Loss: 0.0066, D Loss: 0.6932\n",
      "✅ Best models saved!\n",
      "\n",
      "Epoch 19/30\n"
     ]
    },
    {
     "name": "stderr",
     "output_type": "stream",
     "text": [
      "Training: 100%|██████████| 862/862 [13:05<00:00,  1.10it/s, G Loss=0.7054, Sup Loss=0.0055, D Loss=0.6927]\n"
     ]
    },
    {
     "name": "stdout",
     "output_type": "stream",
     "text": [
      "Epoch 19 Summary - G Loss: 0.7160, Sup Loss: 0.0063, D Loss: 0.6919\n",
      "\n",
      "Epoch 20/30\n"
     ]
    },
    {
     "name": "stderr",
     "output_type": "stream",
     "text": [
      "Training: 100%|██████████| 862/862 [13:05<00:00,  1.10it/s, G Loss=0.7043, Sup Loss=0.0056, D Loss=0.6943]\n",
      "WARNING:absl:You are saving your model as an HDF5 file via `model.save()` or `keras.saving.save_model(model)`. This file format is considered legacy. We recommend using instead the native Keras format, e.g. `model.save('my_model.keras')` or `keras.saving.save_model(model, 'my_model.keras')`. \n",
      "WARNING:absl:You are saving your model as an HDF5 file via `model.save()` or `keras.saving.save_model(model)`. This file format is considered legacy. We recommend using instead the native Keras format, e.g. `model.save('my_model.keras')` or `keras.saving.save_model(model, 'my_model.keras')`. \n",
      "WARNING:absl:You are saving your model as an HDF5 file via `model.save()` or `keras.saving.save_model(model)`. This file format is considered legacy. We recommend using instead the native Keras format, e.g. `model.save('my_model.keras')` or `keras.saving.save_model(model, 'my_model.keras')`. \n"
     ]
    },
    {
     "name": "stdout",
     "output_type": "stream",
     "text": [
      "Epoch 20 Summary - G Loss: 0.7145, Sup Loss: 0.0060, D Loss: 0.6912\n",
      "✅ Best models saved!\n",
      "\n",
      "Epoch 21/30\n"
     ]
    },
    {
     "name": "stderr",
     "output_type": "stream",
     "text": [
      "Training: 100%|██████████| 862/862 [13:06<00:00,  1.10it/s, G Loss=0.6925, Sup Loss=0.0053, D Loss=0.6872]\n",
      "WARNING:absl:You are saving your model as an HDF5 file via `model.save()` or `keras.saving.save_model(model)`. This file format is considered legacy. We recommend using instead the native Keras format, e.g. `model.save('my_model.keras')` or `keras.saving.save_model(model, 'my_model.keras')`. \n",
      "WARNING:absl:You are saving your model as an HDF5 file via `model.save()` or `keras.saving.save_model(model)`. This file format is considered legacy. We recommend using instead the native Keras format, e.g. `model.save('my_model.keras')` or `keras.saving.save_model(model, 'my_model.keras')`. \n",
      "WARNING:absl:You are saving your model as an HDF5 file via `model.save()` or `keras.saving.save_model(model)`. This file format is considered legacy. We recommend using instead the native Keras format, e.g. `model.save('my_model.keras')` or `keras.saving.save_model(model, 'my_model.keras')`. \n"
     ]
    },
    {
     "name": "stdout",
     "output_type": "stream",
     "text": [
      "Epoch 21 Summary - G Loss: 0.7094, Sup Loss: 0.0059, D Loss: 0.6907\n",
      "✅ Best models saved!\n",
      "\n",
      "Epoch 22/30\n"
     ]
    },
    {
     "name": "stderr",
     "output_type": "stream",
     "text": [
      "Training: 100%|██████████| 862/862 [13:07<00:00,  1.10it/s, G Loss=0.7004, Sup Loss=0.0052, D Loss=0.6901]\n",
      "WARNING:absl:You are saving your model as an HDF5 file via `model.save()` or `keras.saving.save_model(model)`. This file format is considered legacy. We recommend using instead the native Keras format, e.g. `model.save('my_model.keras')` or `keras.saving.save_model(model, 'my_model.keras')`. \n",
      "WARNING:absl:You are saving your model as an HDF5 file via `model.save()` or `keras.saving.save_model(model)`. This file format is considered legacy. We recommend using instead the native Keras format, e.g. `model.save('my_model.keras')` or `keras.saving.save_model(model, 'my_model.keras')`. \n",
      "WARNING:absl:You are saving your model as an HDF5 file via `model.save()` or `keras.saving.save_model(model)`. This file format is considered legacy. We recommend using instead the native Keras format, e.g. `model.save('my_model.keras')` or `keras.saving.save_model(model, 'my_model.keras')`. \n"
     ]
    },
    {
     "name": "stdout",
     "output_type": "stream",
     "text": [
      "Epoch 22 Summary - G Loss: 0.7077, Sup Loss: 0.0057, D Loss: 0.6884\n",
      "✅ Best models saved!\n",
      "\n",
      "Epoch 23/30\n"
     ]
    },
    {
     "name": "stderr",
     "output_type": "stream",
     "text": [
      "Training: 100%|██████████| 862/862 [13:05<00:00,  1.10it/s, G Loss=0.7071, Sup Loss=0.0051, D Loss=0.6774]\n"
     ]
    },
    {
     "name": "stdout",
     "output_type": "stream",
     "text": [
      "Epoch 23 Summary - G Loss: 0.7102, Sup Loss: 0.0054, D Loss: 0.6845\n",
      "\n",
      "Epoch 24/30\n"
     ]
    },
    {
     "name": "stderr",
     "output_type": "stream",
     "text": [
      "Training: 100%|██████████| 862/862 [13:06<00:00,  1.10it/s, G Loss=0.7142, Sup Loss=0.0047, D Loss=0.6864]\n"
     ]
    },
    {
     "name": "stdout",
     "output_type": "stream",
     "text": [
      "Epoch 24 Summary - G Loss: 0.7156, Sup Loss: 0.0052, D Loss: 0.6774\n",
      "\n",
      "Epoch 25/30\n"
     ]
    },
    {
     "name": "stderr",
     "output_type": "stream",
     "text": [
      "Training: 100%|██████████| 862/862 [13:06<00:00,  1.10it/s, G Loss=0.7239, Sup Loss=0.0044, D Loss=0.6367]\n"
     ]
    },
    {
     "name": "stdout",
     "output_type": "stream",
     "text": [
      "Epoch 25 Summary - G Loss: 0.7232, Sup Loss: 0.0050, D Loss: 0.6598\n",
      "\n",
      "Epoch 26/30\n"
     ]
    },
    {
     "name": "stderr",
     "output_type": "stream",
     "text": [
      "Training: 100%|██████████| 862/862 [13:10<00:00,  1.09it/s, G Loss=0.7561, Sup Loss=0.0048, D Loss=0.6538]\n"
     ]
    },
    {
     "name": "stdout",
     "output_type": "stream",
     "text": [
      "Epoch 26 Summary - G Loss: 0.7448, Sup Loss: 0.0048, D Loss: 0.6097\n",
      "\n",
      "Epoch 27/30\n"
     ]
    },
    {
     "name": "stderr",
     "output_type": "stream",
     "text": [
      "Training: 100%|██████████| 862/862 [13:13<00:00,  1.09it/s, G Loss=0.7869, Sup Loss=0.0042, D Loss=0.6324]\n"
     ]
    },
    {
     "name": "stdout",
     "output_type": "stream",
     "text": [
      "Epoch 27 Summary - G Loss: 0.7729, Sup Loss: 0.0048, D Loss: 0.5714\n",
      "\n",
      "Epoch 28/30\n"
     ]
    },
    {
     "name": "stderr",
     "output_type": "stream",
     "text": [
      "Training: 100%|██████████| 862/862 [13:08<00:00,  1.09it/s, G Loss=0.8030, Sup Loss=0.0043, D Loss=0.6579]\n"
     ]
    },
    {
     "name": "stdout",
     "output_type": "stream",
     "text": [
      "Epoch 28 Summary - G Loss: 0.7969, Sup Loss: 0.0048, D Loss: 0.5576\n",
      "\n",
      "Epoch 29/30\n"
     ]
    },
    {
     "name": "stderr",
     "output_type": "stream",
     "text": [
      "Training: 100%|██████████| 862/862 [13:06<00:00,  1.10it/s, G Loss=0.8221, Sup Loss=0.0043, D Loss=0.6873]\n"
     ]
    },
    {
     "name": "stdout",
     "output_type": "stream",
     "text": [
      "Epoch 29 Summary - G Loss: 0.8196, Sup Loss: 0.0048, D Loss: 0.5475\n",
      "\n",
      "Epoch 30/30\n"
     ]
    },
    {
     "name": "stderr",
     "output_type": "stream",
     "text": [
      "Training: 100%|██████████| 862/862 [13:06<00:00,  1.10it/s, G Loss=0.8346, Sup Loss=0.0042, D Loss=0.6631]"
     ]
    },
    {
     "name": "stdout",
     "output_type": "stream",
     "text": [
      "Epoch 30 Summary - G Loss: 0.8360, Sup Loss: 0.0048, D Loss: 0.5407\n"
     ]
    },
    {
     "name": "stderr",
     "output_type": "stream",
     "text": [
      "\n"
     ]
    }
   ],
   "source": [
    "# === Create folders ===\n",
    "os.makedirs(\"saved_models_rnn\", exist_ok=True)\n",
    "\n",
    "# === Set best parameters ===\n",
    "BEST_PARAMS = {\n",
    "    \"batch_size\": 64,\n",
    "    \"epochs\": 30,\n",
    "    \"learning_rate\": 1.99e-5\n",
    "}\n",
    "\n",
    "# === Prepare dataset ===\n",
    "train_dataset = tf.data.Dataset.from_tensor_slices(train_data)\n",
    "train_dataset = train_dataset.batch(BEST_PARAMS[\"batch_size\"], drop_remainder=True).shuffle(100)\n",
    "\n",
    "# === Optimizers ===\n",
    "gen_optimizer = tf.keras.optimizers.Adam(BEST_PARAMS[\"learning_rate\"])\n",
    "disc_optimizer = tf.keras.optimizers.Adam(BEST_PARAMS[\"learning_rate\"])\n",
    "sup_optimizer = tf.keras.optimizers.Adam(BEST_PARAMS[\"learning_rate\"])\n",
    "\n",
    "# === Best model tracking ===\n",
    "best_total_loss = float(\"inf\")\n",
    "\n",
    "# === Training loop ===\n",
    "for epoch in range(1, BEST_PARAMS[\"epochs\"] + 1):\n",
    "    print(f\"\\nEpoch {epoch}/{BEST_PARAMS['epochs']}\")\n",
    "    progress_bar = tqdm(train_dataset, desc=\"Training\")\n",
    "\n",
    "    total_gen_loss = 0.0\n",
    "    total_sup_loss = 0.0\n",
    "    total_disc_loss = 0.0\n",
    "    num_batches = 0\n",
    "\n",
    "    for batch in progress_bar:\n",
    "        num_batches += 1\n",
    "\n",
    "        with tf.GradientTape() as gen_tape, tf.GradientTape() as sup_tape, tf.GradientTape() as disc_tape:\n",
    "            # === Generate fake sequences ===\n",
    "            fake_sequences = generator(batch, training=True)\n",
    "\n",
    "            # === Supervisor Prediction ===\n",
    "            # Predict next-step using supervisor: shift fake input by 1 timestep\n",
    "            padded_input = tf.pad(fake_sequences[:, :-1, :], [[0, 0], [0, 1], [0, 0]])\n",
    "            pred_next_step = supervisor(padded_input, training=True)\n",
    "\n",
    "            # === Supervisor loss (MSE) ===\n",
    "            mse = tf.keras.losses.MeanSquaredError()\n",
    "            sup_loss = mse(fake_sequences[:, 1:, :], pred_next_step[:, :-1, :])\n",
    "\n",
    "\n",
    "            # === Discriminator loss ===\n",
    "            d_real = discriminator(batch, training=True)\n",
    "            d_fake = discriminator(fake_sequences, training=True)\n",
    "            real_labels = tf.ones_like(d_real)\n",
    "            fake_labels = tf.zeros_like(d_fake)\n",
    "\n",
    "            d_loss_real = tf.reduce_mean(tf.keras.losses.binary_crossentropy(real_labels, d_real))\n",
    "            d_loss_fake = tf.reduce_mean(tf.keras.losses.binary_crossentropy(fake_labels, d_fake))\n",
    "            d_loss_total = 0.5 * (d_loss_real + d_loss_fake)\n",
    "\n",
    "            # === Generator loss (fooling + supervised) ===\n",
    "            g_loss = tf.reduce_mean(tf.keras.losses.binary_crossentropy(real_labels, d_fake))\n",
    "            combined_gen_loss = g_loss + 0.5 * sup_loss\n",
    "\n",
    "        # === Apply gradients ===\n",
    "        gen_grads = gen_tape.gradient(combined_gen_loss, generator.trainable_variables)\n",
    "        disc_grads = disc_tape.gradient(d_loss_total, discriminator.trainable_variables)\n",
    "        sup_grads = sup_tape.gradient(sup_loss, supervisor.trainable_variables)\n",
    "\n",
    "        gen_optimizer.apply_gradients(zip(gen_grads, generator.trainable_variables))\n",
    "        disc_optimizer.apply_gradients(zip(disc_grads, discriminator.trainable_variables))\n",
    "        sup_optimizer.apply_gradients(zip(sup_grads, supervisor.trainable_variables))\n",
    "\n",
    "        # === Logging ===\n",
    "        total_gen_loss += combined_gen_loss.numpy()\n",
    "        total_sup_loss += sup_loss.numpy()\n",
    "        total_disc_loss += d_loss_total.numpy()\n",
    "\n",
    "        progress_bar.set_postfix({\n",
    "            \"G Loss\": f\"{combined_gen_loss.numpy():.4f}\",\n",
    "            \"Sup Loss\": f\"{sup_loss.numpy():.4f}\",\n",
    "            \"D Loss\": f\"{d_loss_total.numpy():.4f}\"\n",
    "        })\n",
    "\n",
    "    # === Epoch summary ===\n",
    "    avg_g_loss = total_gen_loss / num_batches\n",
    "    avg_sup_loss = total_sup_loss / num_batches\n",
    "    avg_d_loss = total_disc_loss / num_batches\n",
    "\n",
    "    print(f\"Epoch {epoch} Summary - G Loss: {avg_g_loss:.4f}, Sup Loss: {avg_sup_loss:.4f}, D Loss: {avg_d_loss:.4f}\")\n",
    "\n",
    "    # === Save best models ===\n",
    "    total_loss = avg_g_loss + 0.5 * avg_sup_loss\n",
    "    if total_loss < best_total_loss:\n",
    "        best_total_loss = total_loss\n",
    "        generator.save(\"saved_models_rnn/best_generator.h5\")\n",
    "        supervisor.save(\"saved_models_rnn/best_supervisor.h5\")\n",
    "        discriminator.save(\"saved_models_rnn/best_discriminator.h5\")\n",
    "        print(\"✅ Best models saved!\")\n"
   ]
  },
  {
   "cell_type": "code",
   "execution_count": null,
   "metadata": {},
   "outputs": [],
   "source": []
  }
 ],
 "metadata": {
  "kernelspec": {
   "display_name": "tf310",
   "language": "python",
   "name": "python3"
  },
  "language_info": {
   "codemirror_mode": {
    "name": "ipython",
    "version": 3
   },
   "file_extension": ".py",
   "mimetype": "text/x-python",
   "name": "python",
   "nbconvert_exporter": "python",
   "pygments_lexer": "ipython3",
   "version": "3.10.16"
  }
 },
 "nbformat": 4,
 "nbformat_minor": 2
}
