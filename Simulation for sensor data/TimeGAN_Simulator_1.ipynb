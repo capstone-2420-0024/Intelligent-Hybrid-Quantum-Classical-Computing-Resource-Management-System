{
 "cells": [
  {
   "cell_type": "markdown",
   "metadata": {},
   "source": [
    "# **TimeGan Based Simulator**\n",
    "***"
   ]
  },
  {
   "cell_type": "markdown",
   "metadata": {},
   "source": [
    "### Overview \n",
    "\n",
    "1. **Load Data**: Reads the consolidated sensor data from a CSV file.  \n",
    "2. **Preprocess Data**: Handles missing values, normalizes data, and ensures consistent 30-second intervals.  \n",
    "3. **Visualize Trends**: Plots time-series data for cooling, maxigauge, and temperature to identify patterns and anomalies.  \n",
    "4. **Feature Extraction**: Computes statistical metrics (mean, std, min, max) and checks data stationarity using the ADF test.  \n",
    "5. **Prepare Training Data**: Constructs time-series sequences with a chosen window size (e.g., 60 timestamps).  \n",
    "6. **Build TimeGAN**: Implements an LSTM-based generator and an RNN-based discriminator to learn temporal dependencies.  \n",
    "7. **Train Model**: Optimizes the TimeGAN framework using adversarial learning to generate realistic synthetic time-series data.  \n",
    "8. **Evaluate Results**: Assesses the quality of generated sequences by comparing them with real sensor data using statistical and visual methods.  \n",
    "9. **Generate Synthetic Data**: Uses the trained TimeGAN model to produce new sensor readings that maintain the original data's statistical properties.  \n",
    "10. **Visualization**: Plots real vs. synthetic data to validate the effectiveness of the model.  \n",
    "---"
   ]
  },
  {
   "cell_type": "markdown",
   "metadata": {},
   "source": [
    "### Step 1: Import Required Libraries"
   ]
  },
  {
   "cell_type": "code",
   "execution_count": 1,
   "metadata": {},
   "outputs": [
    {
     "name": "stdout",
     "output_type": "stream",
     "text": [
      "Requirement already satisfied: numpy in c:\\gerry\\envs\\gerrycapstone\\lib\\site-packages (2.1.3)\n",
      "Requirement already satisfied: pandas in c:\\gerry\\envs\\gerrycapstone\\lib\\site-packages (2.2.3)\n",
      "Requirement already satisfied: matplotlib in c:\\gerry\\envs\\gerrycapstone\\lib\\site-packages (3.10.0)\n",
      "Requirement already satisfied: seaborn in c:\\gerry\\envs\\gerrycapstone\\lib\\site-packages (0.13.2)\n",
      "Requirement already satisfied: tensorflow in c:\\gerry\\envs\\gerrycapstone\\lib\\site-packages (2.19.0)\n",
      "Requirement already satisfied: scikit-learn in c:\\gerry\\envs\\gerrycapstone\\lib\\site-packages (1.6.1)\n",
      "Requirement already satisfied: statsmodels in c:\\gerry\\envs\\gerrycapstone\\lib\\site-packages (0.14.4)\n",
      "Requirement already satisfied: python-dateutil>=2.8.2 in c:\\gerry\\envs\\gerrycapstone\\lib\\site-packages (from pandas) (2.9.0.post0)\n",
      "Requirement already satisfied: pytz>=2020.1 in c:\\gerry\\envs\\gerrycapstone\\lib\\site-packages (from pandas) (2024.1)\n",
      "Requirement already satisfied: tzdata>=2022.7 in c:\\gerry\\envs\\gerrycapstone\\lib\\site-packages (from pandas) (2023.3)\n",
      "Requirement already satisfied: contourpy>=1.0.1 in c:\\gerry\\envs\\gerrycapstone\\lib\\site-packages (from matplotlib) (1.3.1)\n",
      "Requirement already satisfied: cycler>=0.10 in c:\\gerry\\envs\\gerrycapstone\\lib\\site-packages (from matplotlib) (0.11.0)\n",
      "Requirement already satisfied: fonttools>=4.22.0 in c:\\gerry\\envs\\gerrycapstone\\lib\\site-packages (from matplotlib) (4.55.3)\n",
      "Requirement already satisfied: kiwisolver>=1.3.1 in c:\\gerry\\envs\\gerrycapstone\\lib\\site-packages (from matplotlib) (1.4.8)\n",
      "Requirement already satisfied: packaging>=20.0 in c:\\gerry\\envs\\gerrycapstone\\lib\\site-packages (from matplotlib) (24.2)\n",
      "Requirement already satisfied: pillow>=8 in c:\\gerry\\envs\\gerrycapstone\\lib\\site-packages (from matplotlib) (11.1.0)\n",
      "Requirement already satisfied: pyparsing>=2.3.1 in c:\\gerry\\envs\\gerrycapstone\\lib\\site-packages (from matplotlib) (3.2.0)\n",
      "Requirement already satisfied: absl-py>=1.0.0 in c:\\gerry\\envs\\gerrycapstone\\lib\\site-packages (from tensorflow) (2.1.0)\n",
      "Requirement already satisfied: astunparse>=1.6.0 in c:\\gerry\\envs\\gerrycapstone\\lib\\site-packages (from tensorflow) (1.6.3)\n",
      "Requirement already satisfied: flatbuffers>=24.3.25 in c:\\gerry\\envs\\gerrycapstone\\lib\\site-packages (from tensorflow) (25.2.10)\n",
      "Requirement already satisfied: gast!=0.5.0,!=0.5.1,!=0.5.2,>=0.2.1 in c:\\gerry\\envs\\gerrycapstone\\lib\\site-packages (from tensorflow) (0.6.0)\n",
      "Requirement already satisfied: google-pasta>=0.1.1 in c:\\gerry\\envs\\gerrycapstone\\lib\\site-packages (from tensorflow) (0.2.0)\n",
      "Requirement already satisfied: libclang>=13.0.0 in c:\\gerry\\envs\\gerrycapstone\\lib\\site-packages (from tensorflow) (18.1.1)\n",
      "Requirement already satisfied: opt-einsum>=2.3.2 in c:\\gerry\\envs\\gerrycapstone\\lib\\site-packages (from tensorflow) (3.4.0)\n",
      "Requirement already satisfied: protobuf!=4.21.0,!=4.21.1,!=4.21.2,!=4.21.3,!=4.21.4,!=4.21.5,<6.0.0dev,>=3.20.3 in c:\\gerry\\envs\\gerrycapstone\\lib\\site-packages (from tensorflow) (5.29.3)\n",
      "Requirement already satisfied: requests<3,>=2.21.0 in c:\\gerry\\envs\\gerrycapstone\\lib\\site-packages (from tensorflow) (2.32.3)\n",
      "Requirement already satisfied: setuptools in c:\\gerry\\envs\\gerrycapstone\\lib\\site-packages (from tensorflow) (72.1.0)\n",
      "Requirement already satisfied: six>=1.12.0 in c:\\gerry\\envs\\gerrycapstone\\lib\\site-packages (from tensorflow) (1.17.0)\n",
      "Requirement already satisfied: termcolor>=1.1.0 in c:\\gerry\\envs\\gerrycapstone\\lib\\site-packages (from tensorflow) (2.5.0)\n",
      "Requirement already satisfied: typing-extensions>=3.6.6 in c:\\gerry\\envs\\gerrycapstone\\lib\\site-packages (from tensorflow) (4.12.2)\n",
      "Requirement already satisfied: wrapt>=1.11.0 in c:\\gerry\\envs\\gerrycapstone\\lib\\site-packages (from tensorflow) (1.17.2)\n",
      "Requirement already satisfied: grpcio<2.0,>=1.24.3 in c:\\gerry\\envs\\gerrycapstone\\lib\\site-packages (from tensorflow) (1.71.0)\n",
      "Requirement already satisfied: tensorboard~=2.19.0 in c:\\gerry\\envs\\gerrycapstone\\lib\\site-packages (from tensorflow) (2.19.0)\n",
      "Requirement already satisfied: keras>=3.5.0 in c:\\gerry\\envs\\gerrycapstone\\lib\\site-packages (from tensorflow) (3.9.0)\n",
      "Requirement already satisfied: h5py>=3.11.0 in c:\\gerry\\envs\\gerrycapstone\\lib\\site-packages (from tensorflow) (3.13.0)\n",
      "Requirement already satisfied: ml-dtypes<1.0.0,>=0.5.1 in c:\\gerry\\envs\\gerrycapstone\\lib\\site-packages (from tensorflow) (0.5.1)\n",
      "Requirement already satisfied: scipy>=1.6.0 in c:\\gerry\\envs\\gerrycapstone\\lib\\site-packages (from scikit-learn) (1.15.1)\n",
      "Requirement already satisfied: joblib>=1.2.0 in c:\\gerry\\envs\\gerrycapstone\\lib\\site-packages (from scikit-learn) (1.4.2)\n",
      "Requirement already satisfied: threadpoolctl>=3.1.0 in c:\\gerry\\envs\\gerrycapstone\\lib\\site-packages (from scikit-learn) (3.5.0)\n",
      "Requirement already satisfied: patsy>=0.5.6 in c:\\gerry\\envs\\gerrycapstone\\lib\\site-packages (from statsmodels) (1.0.1)\n",
      "Requirement already satisfied: wheel<1.0,>=0.23.0 in c:\\gerry\\envs\\gerrycapstone\\lib\\site-packages (from astunparse>=1.6.0->tensorflow) (0.45.1)\n",
      "Requirement already satisfied: rich in c:\\gerry\\envs\\gerrycapstone\\lib\\site-packages (from keras>=3.5.0->tensorflow) (13.9.4)\n",
      "Requirement already satisfied: namex in c:\\gerry\\envs\\gerrycapstone\\lib\\site-packages (from keras>=3.5.0->tensorflow) (0.0.8)\n",
      "Requirement already satisfied: optree in c:\\gerry\\envs\\gerrycapstone\\lib\\site-packages (from keras>=3.5.0->tensorflow) (0.14.1)\n",
      "Requirement already satisfied: charset-normalizer<4,>=2 in c:\\gerry\\envs\\gerrycapstone\\lib\\site-packages (from requests<3,>=2.21.0->tensorflow) (3.3.2)\n",
      "Requirement already satisfied: idna<4,>=2.5 in c:\\gerry\\envs\\gerrycapstone\\lib\\site-packages (from requests<3,>=2.21.0->tensorflow) (3.7)\n",
      "Requirement already satisfied: urllib3<3,>=1.21.1 in c:\\gerry\\envs\\gerrycapstone\\lib\\site-packages (from requests<3,>=2.21.0->tensorflow) (2.3.0)\n",
      "Requirement already satisfied: certifi>=2017.4.17 in c:\\gerry\\envs\\gerrycapstone\\lib\\site-packages (from requests<3,>=2.21.0->tensorflow) (2025.1.31)\n",
      "Requirement already satisfied: markdown>=2.6.8 in c:\\gerry\\envs\\gerrycapstone\\lib\\site-packages (from tensorboard~=2.19.0->tensorflow) (3.7)\n",
      "Requirement already satisfied: tensorboard-data-server<0.8.0,>=0.7.0 in c:\\gerry\\envs\\gerrycapstone\\lib\\site-packages (from tensorboard~=2.19.0->tensorflow) (0.7.2)\n",
      "Requirement already satisfied: werkzeug>=1.0.1 in c:\\gerry\\envs\\gerrycapstone\\lib\\site-packages (from tensorboard~=2.19.0->tensorflow) (3.1.3)\n",
      "Requirement already satisfied: MarkupSafe>=2.1.1 in c:\\gerry\\envs\\gerrycapstone\\lib\\site-packages (from werkzeug>=1.0.1->tensorboard~=2.19.0->tensorflow) (3.0.2)\n",
      "Requirement already satisfied: markdown-it-py>=2.2.0 in c:\\gerry\\envs\\gerrycapstone\\lib\\site-packages (from rich->keras>=3.5.0->tensorflow) (3.0.0)\n",
      "Requirement already satisfied: pygments<3.0.0,>=2.13.0 in c:\\gerry\\envs\\gerrycapstone\\lib\\site-packages (from rich->keras>=3.5.0->tensorflow) (2.19.1)\n",
      "Requirement already satisfied: mdurl~=0.1 in c:\\gerry\\envs\\gerrycapstone\\lib\\site-packages (from markdown-it-py>=2.2.0->rich->keras>=3.5.0->tensorflow) (0.1.2)\n",
      "Note: you may need to restart the kernel to use updated packages.\n"
     ]
    }
   ],
   "source": [
    "# Install dependencies\n",
    "%pip install numpy pandas matplotlib seaborn tensorflow scikit-learn statsmodels"
   ]
  },
  {
   "cell_type": "code",
   "execution_count": 2,
   "metadata": {},
   "outputs": [
    {
     "name": "stdout",
     "output_type": "stream",
     "text": [
      "Requirement already satisfied: keras in c:\\gerry\\envs\\gerrycapstone\\lib\\site-packages (3.9.0)\n",
      "Requirement already satisfied: absl-py in c:\\gerry\\envs\\gerrycapstone\\lib\\site-packages (from keras) (2.1.0)\n",
      "Requirement already satisfied: numpy in c:\\gerry\\envs\\gerrycapstone\\lib\\site-packages (from keras) (2.1.3)\n",
      "Requirement already satisfied: rich in c:\\gerry\\envs\\gerrycapstone\\lib\\site-packages (from keras) (13.9.4)\n",
      "Requirement already satisfied: namex in c:\\gerry\\envs\\gerrycapstone\\lib\\site-packages (from keras) (0.0.8)\n",
      "Requirement already satisfied: h5py in c:\\gerry\\envs\\gerrycapstone\\lib\\site-packages (from keras) (3.13.0)\n",
      "Requirement already satisfied: optree in c:\\gerry\\envs\\gerrycapstone\\lib\\site-packages (from keras) (0.14.1)\n",
      "Requirement already satisfied: ml-dtypes in c:\\gerry\\envs\\gerrycapstone\\lib\\site-packages (from keras) (0.5.1)\n",
      "Requirement already satisfied: packaging in c:\\gerry\\envs\\gerrycapstone\\lib\\site-packages (from keras) (24.2)\n",
      "Requirement already satisfied: typing-extensions>=4.5.0 in c:\\gerry\\envs\\gerrycapstone\\lib\\site-packages (from optree->keras) (4.12.2)\n",
      "Requirement already satisfied: markdown-it-py>=2.2.0 in c:\\gerry\\envs\\gerrycapstone\\lib\\site-packages (from rich->keras) (3.0.0)\n",
      "Requirement already satisfied: pygments<3.0.0,>=2.13.0 in c:\\gerry\\envs\\gerrycapstone\\lib\\site-packages (from rich->keras) (2.19.1)\n",
      "Requirement already satisfied: mdurl~=0.1 in c:\\gerry\\envs\\gerrycapstone\\lib\\site-packages (from markdown-it-py>=2.2.0->rich->keras) (0.1.2)\n",
      "Note: you may need to restart the kernel to use updated packages.\n"
     ]
    }
   ],
   "source": [
    "%pip install keras"
   ]
  },
  {
   "cell_type": "code",
   "execution_count": 3,
   "metadata": {},
   "outputs": [
    {
     "name": "stdout",
     "output_type": "stream",
     "text": [
      "Collecting tqdm\n",
      "  Downloading tqdm-4.67.1-py3-none-any.whl.metadata (57 kB)\n",
      "Requirement already satisfied: colorama in c:\\gerry\\envs\\gerrycapstone\\lib\\site-packages (from tqdm) (0.4.6)\n",
      "Downloading tqdm-4.67.1-py3-none-any.whl (78 kB)\n",
      "Installing collected packages: tqdm\n",
      "Successfully installed tqdm-4.67.1\n",
      "Note: you may need to restart the kernel to use updated packages.\n"
     ]
    }
   ],
   "source": [
    "%pip install tqdm"
   ]
  },
  {
   "cell_type": "code",
   "execution_count": 4,
   "metadata": {},
   "outputs": [],
   "source": [
    "import numpy as np\n",
    "import pandas as pd\n",
    "import matplotlib.pyplot as plt\n",
    "import seaborn as sns\n",
    "import tensorflow as tf\n",
    "from tensorflow import keras\n",
    "from keras.models import Sequential\n",
    "from keras.layers import LSTM, GRU, Dense, Dropout\n",
    "from sklearn.preprocessing import StandardScaler\n",
    "from statsmodels.tsa.stattools import adfuller"
   ]
  },
  {
   "cell_type": "markdown",
   "metadata": {},
   "source": [
    "***\n",
    "### Step 2: Load and Preprocess Data\n",
    "- Loading the consolidated CSV file.\n",
    "- Handling missing values.\n",
    "- Normalizing the data for better model performance."
   ]
  },
  {
   "cell_type": "code",
   "execution_count": 5,
   "metadata": {},
   "outputs": [
    {
     "name": "stdout",
     "output_type": "stream",
     "text": [
      "First few rows of the dataset:\n",
      "             datetime  cooling_channel0  cooling_channel1  cooling_channel10  \\\n",
      "0 2023-08-31 00:00:30         15.596670         15.558330          15.542780   \n",
      "1 2023-08-31 00:01:00         15.594503         15.558330          15.538204   \n",
      "2 2023-08-31 00:01:30         15.592003         15.558330          15.532924   \n",
      "3 2023-08-31 00:02:00         15.590465         15.553758          15.537758   \n",
      "4 2023-08-31 00:02:30         15.589075         15.548483          15.544148   \n",
      "\n",
      "   cooling_channel11  maxigauge_channel1  maxigauge_channel2  \\\n",
      "0          15.555560                0.02            0.088700   \n",
      "1          15.546651                0.02            0.088713   \n",
      "2          15.536371                0.02            0.088762   \n",
      "3          15.549443                0.02            0.088800   \n",
      "4          15.566108                0.02            0.088800   \n",
      "\n",
      "   maxigauge_channel3  maxigauge_channel4  maxigauge_channel5  \\\n",
      "0           -1.480000               150.0               710.0   \n",
      "1           -1.474754               150.0               710.0   \n",
      "2           -1.455082               150.0               710.0   \n",
      "3           -1.440000               150.0               710.0   \n",
      "4           -1.440000               150.0               710.0   \n",
      "\n",
      "   maxigauge_channel6  temperature_channel1  temperature_channel2  \\\n",
      "0               998.0            293.079000            293.751000   \n",
      "1               998.0            293.079033            293.751017   \n",
      "2               998.0            293.080033            293.751517   \n",
      "3               998.0            293.080951            293.752148   \n",
      "4               998.0            293.079475            293.756574   \n",
      "\n",
      "   temperature_channel5  temperature_channel6  \n",
      "0            293.731000                   0.0  \n",
      "1            293.730633                   0.0  \n",
      "2            293.719633                   0.0  \n",
      "3            293.709721                   0.0  \n",
      "4            293.731361                   0.0  \n"
     ]
    }
   ],
   "source": [
    "# Load the dataset\n",
    "data = pd.read_csv(\"../databases/processed_data/cd230831.csv\")\n",
    "\n",
    "# Convert the datetime column to a proper datetime format if needed\n",
    "data['datetime'] = pd.to_datetime(data['datetime'])\n",
    "\n",
    "\n",
    "# Display the first few rows to inspect the structure\n",
    "print(\"First few rows of the dataset:\")\n",
    "print(data.head())"
   ]
  },
  {
   "cell_type": "code",
   "execution_count": 6,
   "metadata": {},
   "outputs": [
    {
     "name": "stdout",
     "output_type": "stream",
     "text": [
      "\n",
      "Summary Statistics after Standardization:\n",
      "                            datetime  cooling_channel0  cooling_channel1  \\\n",
      "count                          69112      6.911200e+04      6.911200e+04   \n",
      "mean   2023-09-11 23:58:15.000000256      8.159028e-16      1.158056e-15   \n",
      "min              2023-08-31 00:00:30     -3.214294e+00     -3.056965e+00   \n",
      "25%       2023-09-05 23:59:22.500000      2.029070e-02     -1.656629e-01   \n",
      "50%              2023-09-11 23:58:15      3.129120e-01      1.632958e-01   \n",
      "75%       2023-09-17 23:57:07.500000      4.129965e-01      5.470944e-01   \n",
      "max              2023-09-23 23:56:00      1.231259e+00      2.625233e+00   \n",
      "std                              NaN      1.000007e+00      1.000007e+00   \n",
      "\n",
      "       cooling_channel10  cooling_channel11  maxigauge_channel1  \\\n",
      "count       6.911200e+04       6.911200e+04        6.910900e+04   \n",
      "mean       -6.316667e-16      -3.053055e-15        2.673185e-18   \n",
      "min        -3.228404e+00      -3.096646e+00       -1.827294e-02   \n",
      "25%         4.953195e-02      -1.524480e-01       -1.827290e-02   \n",
      "50%         2.975924e-01       1.757423e-01       -1.827287e-02   \n",
      "75%         4.147461e-01       5.348474e-01       -1.827274e-02   \n",
      "max         1.225700e+00       2.565884e+00        6.798561e+01   \n",
      "std         1.000007e+00       1.000007e+00        1.000007e+00   \n",
      "\n",
      "       maxigauge_channel2  maxigauge_channel3  maxigauge_channel4  \\\n",
      "count        6.910900e+04        6.910900e+04        6.910900e+04   \n",
      "mean         1.316029e-17        1.974044e-16       -7.303963e-16   \n",
      "min         -5.083236e-02       -2.160196e+00       -3.484767e+00   \n",
      "25%         -4.940251e-02        3.835605e-01        3.024938e-01   \n",
      "50%         -4.938967e-02        4.221522e-01        3.512333e-01   \n",
      "75%         -4.937639e-02        4.512442e-01        3.952477e-01   \n",
      "max          3.389513e+01        4.805918e+00        3.717449e+00   \n",
      "std          1.000007e+00        1.000007e+00        1.000007e+00   \n",
      "\n",
      "       maxigauge_channel5  maxigauge_channel6  temperature_channel1  \\\n",
      "count        6.910900e+04        6.910900e+04          6.863900e+04   \n",
      "mean        -5.264117e-17        4.935110e-17          2.650081e-16   \n",
      "min         -4.589338e-01       -1.857450e-01         -3.399396e-01   \n",
      "25%         -4.587494e-01       -1.813242e-01         -3.358922e-01   \n",
      "50%         -4.586757e-01       -1.655594e-01         -3.282294e-01   \n",
      "75%         -4.585739e-01       -1.493681e-01         -3.219131e-01   \n",
      "max          2.240609e+00        6.126256e+00          3.608791e+00   \n",
      "std          1.000007e+00        1.000007e+00          1.000007e+00   \n",
      "\n",
      "       temperature_channel2  temperature_channel5  temperature_channel6  \n",
      "count          6.862600e+04          6.861100e+04          6.863000e+04  \n",
      "mean          -2.650583e-17         -2.651163e-17         -6.626072e-18  \n",
      "min           -3.335040e-01         -3.595782e-01         -1.873811e-01  \n",
      "25%           -3.328181e-01         -3.572178e-01         -1.866352e-01  \n",
      "50%           -3.327072e-01         -3.572137e-01         -1.865769e-01  \n",
      "75%           -3.323081e-01         -3.572084e-01         -1.864302e-01  \n",
      "max            3.889951e+00          3.760841e+00          8.145608e+00  \n",
      "std            1.000007e+00          1.000007e+00          1.000007e+00  \n",
      "\n",
      "Data standardization completed successfully. Saved as 'TimeGAN_data.csv'.\n"
     ]
    }
   ],
   "source": [
    "# Initialize StandardScaler\n",
    "scaler = StandardScaler()\n",
    "\n",
    "# Apply Z-score normalization (excluding the datetime column)\n",
    "scaled_data = scaler.fit_transform(data.iloc[:, 1:])\n",
    "\n",
    "# Convert back to DataFrame\n",
    "scaled_df = pd.DataFrame(scaled_data, columns=data.columns[1:])\n",
    "scaled_df.insert(0, 'datetime', data['datetime'])  # Reinsert datetime column\n",
    "\n",
    "# Display summary statistics after standardization\n",
    "print(\"\\nSummary Statistics after Standardization:\")\n",
    "print(scaled_df.describe())\n",
    "\n",
    "# Save the preprocessed data for future use\n",
    "# scaled_df.to_csv(\"../databases/processed_data/TimeGAN_data.csv\", index=False)\n",
    "print(\"\\nData standardization completed successfully. Saved as 'TimeGAN_data.csv'.\")"
   ]
  },
  {
   "cell_type": "code",
   "execution_count": 7,
   "metadata": {},
   "outputs": [
    {
     "data": {
      "text/html": [
       "<div>\n",
       "<style scoped>\n",
       "    .dataframe tbody tr th:only-of-type {\n",
       "        vertical-align: middle;\n",
       "    }\n",
       "\n",
       "    .dataframe tbody tr th {\n",
       "        vertical-align: top;\n",
       "    }\n",
       "\n",
       "    .dataframe thead th {\n",
       "        text-align: right;\n",
       "    }\n",
       "</style>\n",
       "<table border=\"1\" class=\"dataframe\">\n",
       "  <thead>\n",
       "    <tr style=\"text-align: right;\">\n",
       "      <th></th>\n",
       "      <th>datetime</th>\n",
       "      <th>cooling_channel0</th>\n",
       "      <th>cooling_channel1</th>\n",
       "      <th>cooling_channel10</th>\n",
       "      <th>cooling_channel11</th>\n",
       "      <th>maxigauge_channel1</th>\n",
       "      <th>maxigauge_channel2</th>\n",
       "      <th>maxigauge_channel3</th>\n",
       "      <th>maxigauge_channel4</th>\n",
       "      <th>maxigauge_channel5</th>\n",
       "      <th>maxigauge_channel6</th>\n",
       "      <th>temperature_channel1</th>\n",
       "      <th>temperature_channel2</th>\n",
       "      <th>temperature_channel5</th>\n",
       "      <th>temperature_channel6</th>\n",
       "    </tr>\n",
       "  </thead>\n",
       "  <tbody>\n",
       "    <tr>\n",
       "      <th>0</th>\n",
       "      <td>2023-08-31 00:00:30</td>\n",
       "      <td>-3.199849</td>\n",
       "      <td>-2.994182</td>\n",
       "      <td>-3.204761</td>\n",
       "      <td>-3.034381</td>\n",
       "      <td>-0.016913</td>\n",
       "      <td>-0.045074</td>\n",
       "      <td>-2.155074</td>\n",
       "      <td>-2.763639</td>\n",
       "      <td>2.137367</td>\n",
       "      <td>6.126256</td>\n",
       "      <td>3.608761</td>\n",
       "      <td>3.889064</td>\n",
       "      <td>3.756615</td>\n",
       "      <td>-0.187381</td>\n",
       "    </tr>\n",
       "    <tr>\n",
       "      <th>1</th>\n",
       "      <td>2023-08-31 00:01:00</td>\n",
       "      <td>-3.200409</td>\n",
       "      <td>-2.994182</td>\n",
       "      <td>-3.206055</td>\n",
       "      <td>-3.042871</td>\n",
       "      <td>-0.016913</td>\n",
       "      <td>-0.045073</td>\n",
       "      <td>-2.155055</td>\n",
       "      <td>-2.763639</td>\n",
       "      <td>2.137367</td>\n",
       "      <td>6.126256</td>\n",
       "      <td>3.608762</td>\n",
       "      <td>3.889064</td>\n",
       "      <td>3.756610</td>\n",
       "      <td>-0.187381</td>\n",
       "    </tr>\n",
       "    <tr>\n",
       "      <th>2</th>\n",
       "      <td>2023-08-31 00:01:30</td>\n",
       "      <td>-3.201056</td>\n",
       "      <td>-2.994182</td>\n",
       "      <td>-3.207548</td>\n",
       "      <td>-3.052668</td>\n",
       "      <td>-0.016913</td>\n",
       "      <td>-0.045070</td>\n",
       "      <td>-2.154981</td>\n",
       "      <td>-2.763639</td>\n",
       "      <td>2.137367</td>\n",
       "      <td>6.126256</td>\n",
       "      <td>3.608777</td>\n",
       "      <td>3.889071</td>\n",
       "      <td>3.756455</td>\n",
       "      <td>-0.187381</td>\n",
       "    </tr>\n",
       "    <tr>\n",
       "      <th>3</th>\n",
       "      <td>2023-08-31 00:02:00</td>\n",
       "      <td>-3.201453</td>\n",
       "      <td>-2.998553</td>\n",
       "      <td>-3.206181</td>\n",
       "      <td>-3.040210</td>\n",
       "      <td>-0.016913</td>\n",
       "      <td>-0.045067</td>\n",
       "      <td>-2.154925</td>\n",
       "      <td>-2.763639</td>\n",
       "      <td>2.137367</td>\n",
       "      <td>6.126256</td>\n",
       "      <td>3.608791</td>\n",
       "      <td>3.889081</td>\n",
       "      <td>3.756316</td>\n",
       "      <td>-0.187381</td>\n",
       "    </tr>\n",
       "    <tr>\n",
       "      <th>4</th>\n",
       "      <td>2023-08-31 00:02:30</td>\n",
       "      <td>-3.201812</td>\n",
       "      <td>-3.003597</td>\n",
       "      <td>-3.204374</td>\n",
       "      <td>-3.024329</td>\n",
       "      <td>-0.016913</td>\n",
       "      <td>-0.045067</td>\n",
       "      <td>-2.154925</td>\n",
       "      <td>-2.763639</td>\n",
       "      <td>2.137367</td>\n",
       "      <td>6.126256</td>\n",
       "      <td>3.608769</td>\n",
       "      <td>3.889145</td>\n",
       "      <td>3.756620</td>\n",
       "      <td>-0.187381</td>\n",
       "    </tr>\n",
       "  </tbody>\n",
       "</table>\n",
       "</div>"
      ],
      "text/plain": [
       "             datetime  cooling_channel0  cooling_channel1  cooling_channel10  \\\n",
       "0 2023-08-31 00:00:30         -3.199849         -2.994182          -3.204761   \n",
       "1 2023-08-31 00:01:00         -3.200409         -2.994182          -3.206055   \n",
       "2 2023-08-31 00:01:30         -3.201056         -2.994182          -3.207548   \n",
       "3 2023-08-31 00:02:00         -3.201453         -2.998553          -3.206181   \n",
       "4 2023-08-31 00:02:30         -3.201812         -3.003597          -3.204374   \n",
       "\n",
       "   cooling_channel11  maxigauge_channel1  maxigauge_channel2  \\\n",
       "0          -3.034381           -0.016913           -0.045074   \n",
       "1          -3.042871           -0.016913           -0.045073   \n",
       "2          -3.052668           -0.016913           -0.045070   \n",
       "3          -3.040210           -0.016913           -0.045067   \n",
       "4          -3.024329           -0.016913           -0.045067   \n",
       "\n",
       "   maxigauge_channel3  maxigauge_channel4  maxigauge_channel5  \\\n",
       "0           -2.155074           -2.763639            2.137367   \n",
       "1           -2.155055           -2.763639            2.137367   \n",
       "2           -2.154981           -2.763639            2.137367   \n",
       "3           -2.154925           -2.763639            2.137367   \n",
       "4           -2.154925           -2.763639            2.137367   \n",
       "\n",
       "   maxigauge_channel6  temperature_channel1  temperature_channel2  \\\n",
       "0            6.126256              3.608761              3.889064   \n",
       "1            6.126256              3.608762              3.889064   \n",
       "2            6.126256              3.608777              3.889071   \n",
       "3            6.126256              3.608791              3.889081   \n",
       "4            6.126256              3.608769              3.889145   \n",
       "\n",
       "   temperature_channel5  temperature_channel6  \n",
       "0              3.756615             -0.187381  \n",
       "1              3.756610             -0.187381  \n",
       "2              3.756455             -0.187381  \n",
       "3              3.756316             -0.187381  \n",
       "4              3.756620             -0.187381  "
      ]
     },
     "execution_count": 7,
     "metadata": {},
     "output_type": "execute_result"
    }
   ],
   "source": [
    "scaled_df.head()"
   ]
  },
  {
   "cell_type": "markdown",
   "metadata": {},
   "source": [
    "### Step 3: Data Visualization\n",
    "- Plot time-series trends for cooling, maxigauge, and temperature sensors.\n",
    "- Identify any existing patterns or outliers in the dataset.\n",
    "- Check if the standardization process was correctly applied."
   ]
  },
  {
   "cell_type": "code",
   "execution_count": 8,
   "metadata": {},
   "outputs": [
    {
     "data": {
      "image/png": "[encoded data removed]",
      "text/plain": [
       "<Figure size 1200x600 with 1 Axes>"
      ]
     },
     "metadata": {},
     "output_type": "display_data"
    }
   ],
   "source": [
    "# Load the preprocessed dataset\n",
    "data = pd.read_csv(\"../databases/processed_data/TimeGAN_data.csv\")\n",
    "\n",
    "# Convert datetime column to proper format\n",
    "data['datetime'] = pd.to_datetime(data['datetime'])\n",
    "\n",
    "# Select the chosen sensor channels\n",
    "selected_columns = ['datetime', 'cooling_channel10', 'temperature_channel1', 'maxigauge_channel3']\n",
    "subset_data = data[selected_columns]\n",
    "\n",
    "# Downsample data (take one point every 10 minutes)\n",
    "subset_downsampled = subset_data.iloc[::20, :]  # Select every 20th row (~10 min interval)\n",
    "\n",
    "# Set the figure size\n",
    "plt.figure(figsize=(12, 6))\n",
    "\n",
    "# Plot the selected sensor data over time\n",
    "sns.lineplot(x=subset_downsampled['datetime'], y=subset_downsampled['cooling_channel10'], label='Cooling Ch10')\n",
    "sns.lineplot(x=subset_downsampled['datetime'], y=subset_downsampled['temperature_channel1'], label='Temperature Ch1')\n",
    "sns.lineplot(x=subset_downsampled['datetime'], y=subset_downsampled['maxigauge_channel3'], label='Maxigauge Ch3')\n",
    "\n",
    "# Formatting the plot\n",
    "plt.xlabel(\"Datetime\")\n",
    "plt.ylabel(\"Standardized Values\")\n",
    "plt.title(\"Time-Series Trends of Selected Sensors\")\n",
    "plt.xticks(rotation=45)\n",
    "plt.legend()\n",
    "plt.grid(True)\n",
    "\n",
    "# Show the plot\n",
    "plt.show()"
   ]
  },
  {
   "cell_type": "markdown",
   "metadata": {},
   "source": [
    "### Step 4: Feature Extraction\n",
    "extract key statistical features from the dataset."
   ]
  },
  {
   "cell_type": "code",
   "execution_count": 9,
   "metadata": {},
   "outputs": [
    {
     "data": {
      "text/plain": [
       "'# Replace Inf values with NaN\\ndata.replace([np.inf, -np.inf], np.nan, inplace=True)\\n\\n# Fill NaN values using forward-fill (or use mean imputation)\\ndata.fillna(method=\\'ffill\\', inplace=True)  # Forward-fill\\ndata.fillna(method=\\'bfill\\', inplace=True)  # Backward-fill (if needed)\\n\\n# Drop any remaining NaN rows\\ndata.dropna(inplace=True)\\n\\n# Save the cleaned dataset (optional)\\ndata.to_csv(\"../databases/processed_data/TimeGAN_data_cleaned.csv\", index=False)\\n\\nprint(\"\\n Data cleaned successfully. No NaN or Inf values remain.\")'"
      ]
     },
     "execution_count": 9,
     "metadata": {},
     "output_type": "execute_result"
    }
   ],
   "source": [
    "'''# Replace Inf values with NaN\n",
    "data.replace([np.inf, -np.inf], np.nan, inplace=True)\n",
    "\n",
    "# Fill NaN values using forward-fill (or use mean imputation)\n",
    "data.fillna(method='ffill', inplace=True)  # Forward-fill\n",
    "data.fillna(method='bfill', inplace=True)  # Backward-fill (if needed)\n",
    "\n",
    "# Drop any remaining NaN rows\n",
    "data.dropna(inplace=True)\n",
    "\n",
    "# Save the cleaned dataset (optional)\n",
    "data.to_csv(\"../databases/processed_data/TimeGAN_data_cleaned.csv\", index=False)\n",
    "\n",
    "print(\"\\n Data cleaned successfully. No NaN or Inf values remain.\")'''"
   ]
  },
  {
   "cell_type": "code",
   "execution_count": 10,
   "metadata": {},
   "outputs": [
    {
     "name": "stderr",
     "output_type": "stream",
     "text": [
      "C:\\Users\\Administrator\\AppData\\Local\\Temp\\ipykernel_6468\\1340927989.py:14: SettingWithCopyWarning: \n",
      "A value is trying to be set on a copy of a slice from a DataFrame\n",
      "\n",
      "See the caveats in the documentation: https://pandas.pydata.org/pandas-docs/stable/user_guide/indexing.html#returning-a-view-versus-a-copy\n",
      "  sensor_data.replace([np.inf, -np.inf], np.nan, inplace=True)\n",
      "C:\\Users\\Administrator\\AppData\\Local\\Temp\\ipykernel_6468\\1340927989.py:15: FutureWarning: DataFrame.fillna with 'method' is deprecated and will raise in a future version. Use obj.ffill() or obj.bfill() instead.\n",
      "  sensor_data.fillna(method='ffill', inplace=True)  # Forward-fill missing values\n",
      "C:\\Users\\Administrator\\AppData\\Local\\Temp\\ipykernel_6468\\1340927989.py:15: SettingWithCopyWarning: \n",
      "A value is trying to be set on a copy of a slice from a DataFrame\n",
      "\n",
      "See the caveats in the documentation: https://pandas.pydata.org/pandas-docs/stable/user_guide/indexing.html#returning-a-view-versus-a-copy\n",
      "  sensor_data.fillna(method='ffill', inplace=True)  # Forward-fill missing values\n",
      "C:\\Users\\Administrator\\AppData\\Local\\Temp\\ipykernel_6468\\1340927989.py:16: FutureWarning: DataFrame.fillna with 'method' is deprecated and will raise in a future version. Use obj.ffill() or obj.bfill() instead.\n",
      "  sensor_data.fillna(method='bfill', inplace=True)  # Backward-fill if needed\n",
      "C:\\Users\\Administrator\\AppData\\Local\\Temp\\ipykernel_6468\\1340927989.py:16: SettingWithCopyWarning: \n",
      "A value is trying to be set on a copy of a slice from a DataFrame\n",
      "\n",
      "See the caveats in the documentation: https://pandas.pydata.org/pandas-docs/stable/user_guide/indexing.html#returning-a-view-versus-a-copy\n",
      "  sensor_data.fillna(method='bfill', inplace=True)  # Backward-fill if needed\n",
      "C:\\Users\\Administrator\\AppData\\Local\\Temp\\ipykernel_6468\\1340927989.py:17: SettingWithCopyWarning: \n",
      "A value is trying to be set on a copy of a slice from a DataFrame\n",
      "\n",
      "See the caveats in the documentation: https://pandas.pydata.org/pandas-docs/stable/user_guide/indexing.html#returning-a-view-versus-a-copy\n",
      "  sensor_data.dropna(inplace=True)  # Drop any remaining NaN values\n"
     ]
    },
    {
     "name": "stdout",
     "output_type": "stream",
     "text": [
      "\n",
      "Augmented Dickey-Fuller (ADF) Test Results for Selected Sensors:\n",
      "                      ADF Statistic   p-value\n",
      "cooling_channel10         -2.762297  0.063865\n",
      "temperature_channel1      -2.635902  0.085802\n",
      "maxigauge_channel3        -3.553566  0.006713\n"
     ]
    }
   ],
   "source": [
    "from statsmodels.tsa.stattools import adfuller\n",
    "\n",
    "# Load the dataset\n",
    "data = pd.read_csv(\"../databases/processed_data/TimeGAN_data.csv\")\n",
    "\n",
    "# Convert datetime column to proper format\n",
    "data['datetime'] = pd.to_datetime(data['datetime'])\n",
    "\n",
    "# Select only the relevant sensor columns\n",
    "selected_columns = ['cooling_channel10', 'temperature_channel1', 'maxigauge_channel3']\n",
    "sensor_data = data[selected_columns]\n",
    "\n",
    "# Check for NaN and Inf values before ADF test\n",
    "sensor_data.replace([np.inf, -np.inf], np.nan, inplace=True)\n",
    "sensor_data.fillna(method='ffill', inplace=True)  # Forward-fill missing values\n",
    "sensor_data.fillna(method='bfill', inplace=True)  # Backward-fill if needed\n",
    "sensor_data.dropna(inplace=True)  # Drop any remaining NaN values\n",
    "\n",
    "# Perform ADF test for selected sensors\n",
    "adf_results = {}\n",
    "for column in sensor_data.columns:\n",
    "    adf_test = adfuller(sensor_data[column])\n",
    "    adf_results[column] = {'ADF Statistic': adf_test[0], 'p-value': adf_test[1]}\n",
    "\n",
    "# Convert ADF results to a DataFrame\n",
    "adf_df = pd.DataFrame.from_dict(adf_results, orient='index')\n",
    "\n",
    "# Display ADF test results\n",
    "print(\"\\nAugmented Dickey-Fuller (ADF) Test Results for Selected Sensors:\")\n",
    "print(adf_df)\n"
   ]
  },
  {
   "cell_type": "markdown",
   "metadata": {},
   "source": [
    "### Step 5: Prepare Training Data for TimeGAN\n",
    "- Select 'cooling_channel10', 'temperature_channel1', and 'maxigauge_channel3' for training.\n",
    "- Convert the dataset into sequences that TimeGAN can process.\n",
    "- Define the time window (sequence length) for training."
   ]
  },
  {
   "cell_type": "code",
   "execution_count": 11,
   "metadata": {},
   "outputs": [
    {
     "name": "stdout",
     "output_type": "stream",
     "text": [
      "\n",
      "✅ Training & Testing Data Split Completed!\n",
      "Training Data Shape: (55193, 120, 3)\n",
      "Testing Data Shape: (13799, 120, 3)\n",
      "\n",
      "✅ Training data prepared successfully!\n",
      "Training data shape: (55193, 120, 3)\n"
     ]
    }
   ],
   "source": [
    "import numpy as np\n",
    "import pandas as pd\n",
    "import tensorflow as tf\n",
    "from tensorflow.keras.models import Model, Sequential\n",
    "from tensorflow.keras.layers import Input, LSTM, GRU, Dense, TimeDistributed\n",
    "from sklearn.model_selection import train_test_split\n",
    "from sklearn.preprocessing import MinMaxScaler\n",
    "\n",
    "# Load dataset\n",
    "data = pd.read_csv(\"../databases/processed_data/TimeGAN_data.csv\")\n",
    "\n",
    "# Convert datetime column to proper format\n",
    "data['datetime'] = pd.to_datetime(data['datetime'])\n",
    "\n",
    "# Select relevant sensor columns for training\n",
    "selected_columns = ['cooling_channel10', 'temperature_channel1', 'maxigauge_channel3']\n",
    "sensor_data = data[selected_columns].values  # Convert to numpy array\n",
    "\n",
    "# 归一化到[-1, 1]范围\n",
    "scaler = MinMaxScaler(feature_range=(-1, 1))\n",
    "sensor_data_normalized = scaler.fit_transform(sensor_data)\n",
    "\n",
    "# Define sequence length (e.g., 60 time steps = 30 minutes)\n",
    "sequence_length = 120\n",
    "\n",
    "# Function to create overlapping sequences for TimeGAN training\n",
    "def create_sequences(data, seq_length):\n",
    "    sequences = []\n",
    "    for i in range(len(data) - seq_length):\n",
    "        sequences.append(data[i: i + seq_length])\n",
    "    return np.array(sequences)\n",
    "\n",
    "# 创建训练序列\n",
    "train_data = create_sequences(sensor_data_normalized, sequence_length)\n",
    "# 80% 训练集，20% 测试集\n",
    "train_data, test_data = train_test_split(train_data, test_size=0.2, random_state=42, shuffle=False)\n",
    "\n",
    "# 检查划分后的数据形状\n",
    "print(\"\\n✅ Training & Testing Data Split Completed!\")\n",
    "print(f\"Training Data Shape: {train_data.shape}\")  # 预期: (80% of total, 60, 3)\n",
    "print(f\"Testing Data Shape: {test_data.shape}\")  # 预期: (20% of total, 60, 3)\n",
    "\n",
    "# Check the shape of the prepared training data\n",
    "print(\"\\n✅ Training data prepared successfully!\")\n",
    "print(f\"Training data shape: {train_data.shape}\")  # Expected output: (num_samples, sequence_length, num_features)\n",
    "\n",
    "# Define batch size and training epochs\n",
    "batch_size = 32\n",
    "epochs = 10"
   ]
  },
  {
   "cell_type": "code",
   "execution_count": 12,
   "metadata": {},
   "outputs": [],
   "source": [
    "\n",
    "# ================== 添加监督损失组件 ==================\n",
    "class TimeGAN(Model):\n",
    "    def __init__(self, generator, discriminator, supervisor, **kwargs):\n",
    "        super().__init__(**kwargs)\n",
    "        self.generator = generator\n",
    "        self.discriminator = discriminator\n",
    "        self.supervisor = supervisor\n",
    "        \n",
    "        # 定义独立的指标跟踪器\n",
    "        self.gen_loss_tracker = tf.keras.metrics.Mean(name=\"gen_loss\")\n",
    "        self.sup_loss_tracker = tf.keras.metrics.Mean(name=\"sup_loss\")\n",
    "\n",
    "    def compile(self, gen_optimizer, disc_optimizer, sup_optimizer, \n",
    "              gen_loss_fn, disc_loss_fn, sup_loss_fn):\n",
    "        super().compile()\n",
    "        self.gen_optimizer = gen_optimizer\n",
    "        self.disc_optimizer = disc_optimizer\n",
    "        self.sup_optimizer = sup_optimizer\n",
    "        self.gen_loss_fn = gen_loss_fn\n",
    "        self.disc_loss_fn = disc_loss_fn\n",
    "        self.sup_loss_fn = sup_loss_fn\n",
    "\n",
    "    def train_step(self, real_sequences):\n",
    "        # 训练判别器\n",
    "        with tf.GradientTape() as disc_tape:\n",
    "            # 生成假数据\n",
    "            fake_sequences = self.generator(real_sequences, training=True)\n",
    "            \n",
    "            # 获取判别结果\n",
    "            real_output = self.discriminator(real_sequences, training=True)\n",
    "            fake_output = self.discriminator(fake_sequences, training=True)\n",
    "            \n",
    "            # 计算判别器损失\n",
    "            disc_loss_real = self.disc_loss_fn(tf.ones_like(real_output), real_output)\n",
    "            disc_loss_fake = self.disc_loss_fn(tf.zeros_like(fake_output), fake_output)\n",
    "            disc_loss = (disc_loss_real + disc_loss_fake) / 2\n",
    "\n",
    "        # 更新判别器\n",
    "        disc_grads = disc_tape.gradient(disc_loss, self.discriminator.trainable_weights)\n",
    "        self.disc_optimizer.apply_gradients(zip(disc_grads, self.discriminator.trainable_weights))\n",
    "\n",
    "        # 训练生成器（含监督损失）\n",
    "        with tf.GradientTape() as gen_tape, tf.GradientTape() as sup_tape:\n",
    "            fake_sequences = self.generator(real_sequences, training=True)\n",
    "            \n",
    "            # 监督损失：预测下一个时间步\n",
    "            pred_next_step = self.supervisor(fake_sequences[:, :-1, :])  # 使用前119步预测最后一步\n",
    "            sup_loss = self.sup_loss_fn(fake_sequences[:, 1:, :], pred_next_step)\n",
    "            \n",
    "            # 对抗损失\n",
    "            fake_output = self.discriminator(fake_sequences, training=False)\n",
    "            gen_loss = self.gen_loss_fn(tf.ones_like(fake_output), fake_output)\n",
    "\n",
    "            # 总损失组合\n",
    "            total_gen_loss = gen_loss + 0.5 * sup_loss  # 权重可调\n",
    "\n",
    "        # 更新生成器\n",
    "        gen_grads = gen_tape.gradient(total_gen_loss, self.generator.trainable_weights)\n",
    "        self.gen_optimizer.apply_gradients(zip(gen_grads, self.generator.trainable_weights))\n",
    "        \n",
    "        # 更新监督器\n",
    "        sup_grads = sup_tape.gradient(sup_loss, self.supervisor.trainable_weights)\n",
    "        self.sup_optimizer.apply_gradients(zip(sup_grads, self.supervisor.trainable_weights))\n",
    "\n",
    "        # 更新指标\n",
    "        self.gen_loss_tracker.update_state(total_gen_loss)\n",
    "        self.sup_loss_tracker.update_state(sup_loss)\n",
    "        return {\n",
    "            \"gen_loss\": self.gen_loss_tracker.result(),\n",
    "            \"sup_loss\": self.sup_loss_tracker.result(),\n",
    "        }\n",
    "\n",
    "# 构建监督模型\n",
    "def build_supervisor():\n",
    "    inputs = Input(shape=(120, 3))\n",
    "    x = LSTM(64, return_sequences=True)(inputs)\n",
    "    x = LSTM(32, return_sequences=True)(x)\n",
    "    outputs = TimeDistributed(Dense(3))(x)  # 预测下一时间步\n",
    "    return Model(inputs, outputs, name=\"Supervisor\")"
   ]
  },
  {
   "cell_type": "markdown",
   "metadata": {},
   "source": [
    "### Step 6: Implement TimeGAN (LSTM Generator + RNN Discriminator)\n",
    "- LSTM-based Generator\n",
    "- RNN-based Discriminator\n",
    "- Embedding & Recovery Networks"
   ]
  },
  {
   "cell_type": "code",
   "execution_count": 13,
   "metadata": {},
   "outputs": [],
   "source": [
    "def build_generator():\n",
    "    inputs = Input(shape=(120, 3))  # 调整为120时间步\n",
    "    x = LSTM(128, return_sequences=True)(inputs)  # 增加容量\n",
    "    x = LSTM(64, return_sequences=True)(x)\n",
    "    outputs = Dense(3, activation='tanh')(x)\n",
    "    return Model(inputs, outputs, name=\"Generator\")"
   ]
  },
  {
   "cell_type": "code",
   "execution_count": 14,
   "metadata": {},
   "outputs": [
    {
     "name": "stdout",
     "output_type": "stream",
     "text": [
      "\n",
      "✅ Discriminator Model Summary:\n"
     ]
    },
    {
     "data": {
      "text/html": [
       "<pre style=\"white-space:pre;overflow-x:auto;line-height:normal;font-family:Menlo,'DejaVu Sans Mono',consolas,'Courier New',monospace\"><span style=\"font-weight: bold\">Model: \"Discriminator\"</span>\n",
       "</pre>\n"
      ],
      "text/plain": [
       "\u001b[1mModel: \"Discriminator\"\u001b[0m\n"
      ]
     },
     "metadata": {},
     "output_type": "display_data"
    },
    {
     "data": {
      "text/html": [
       "<pre style=\"white-space:pre;overflow-x:auto;line-height:normal;font-family:Menlo,'DejaVu Sans Mono',consolas,'Courier New',monospace\">┏━━━━━━━━━━━━━━━━━━━━━━━━━━━━━━━━━┳━━━━━━━━━━━━━━━━━━━━━━━━┳━━━━━━━━━━━━━━━┓\n",
       "┃<span style=\"font-weight: bold\"> Layer (type)                    </span>┃<span style=\"font-weight: bold\"> Output Shape           </span>┃<span style=\"font-weight: bold\">       Param # </span>┃\n",
       "┡━━━━━━━━━━━━━━━━━━━━━━━━━━━━━━━━━╇━━━━━━━━━━━━━━━━━━━━━━━━╇━━━━━━━━━━━━━━━┩\n",
       "│ input_layer (<span style=\"color: #0087ff; text-decoration-color: #0087ff\">InputLayer</span>)        │ (<span style=\"color: #00d7ff; text-decoration-color: #00d7ff\">None</span>, <span style=\"color: #00af00; text-decoration-color: #00af00\">120</span>, <span style=\"color: #00af00; text-decoration-color: #00af00\">3</span>)         │             <span style=\"color: #00af00; text-decoration-color: #00af00\">0</span> │\n",
       "├─────────────────────────────────┼────────────────────────┼───────────────┤\n",
       "│ gru (<span style=\"color: #0087ff; text-decoration-color: #0087ff\">GRU</span>)                       │ (<span style=\"color: #00d7ff; text-decoration-color: #00d7ff\">None</span>, <span style=\"color: #00af00; text-decoration-color: #00af00\">120</span>, <span style=\"color: #00af00; text-decoration-color: #00af00\">128</span>)       │        <span style=\"color: #00af00; text-decoration-color: #00af00\">51,072</span> │\n",
       "├─────────────────────────────────┼────────────────────────┼───────────────┤\n",
       "│ gru_1 (<span style=\"color: #0087ff; text-decoration-color: #0087ff\">GRU</span>)                     │ (<span style=\"color: #00d7ff; text-decoration-color: #00d7ff\">None</span>, <span style=\"color: #00af00; text-decoration-color: #00af00\">64</span>)             │        <span style=\"color: #00af00; text-decoration-color: #00af00\">37,248</span> │\n",
       "├─────────────────────────────────┼────────────────────────┼───────────────┤\n",
       "│ dense (<span style=\"color: #0087ff; text-decoration-color: #0087ff\">Dense</span>)                   │ (<span style=\"color: #00d7ff; text-decoration-color: #00d7ff\">None</span>, <span style=\"color: #00af00; text-decoration-color: #00af00\">1</span>)              │            <span style=\"color: #00af00; text-decoration-color: #00af00\">65</span> │\n",
       "└─────────────────────────────────┴────────────────────────┴───────────────┘\n",
       "</pre>\n"
      ],
      "text/plain": [
       "┏━━━━━━━━━━━━━━━━━━━━━━━━━━━━━━━━━┳━━━━━━━━━━━━━━━━━━━━━━━━┳━━━━━━━━━━━━━━━┓\n",
       "┃\u001b[1m \u001b[0m\u001b[1mLayer (type)                   \u001b[0m\u001b[1m \u001b[0m┃\u001b[1m \u001b[0m\u001b[1mOutput Shape          \u001b[0m\u001b[1m \u001b[0m┃\u001b[1m \u001b[0m\u001b[1m      Param #\u001b[0m\u001b[1m \u001b[0m┃\n",
       "┡━━━━━━━━━━━━━━━━━━━━━━━━━━━━━━━━━╇━━━━━━━━━━━━━━━━━━━━━━━━╇━━━━━━━━━━━━━━━┩\n",
       "│ input_layer (\u001b[38;5;33mInputLayer\u001b[0m)        │ (\u001b[38;5;45mNone\u001b[0m, \u001b[38;5;34m120\u001b[0m, \u001b[38;5;34m3\u001b[0m)         │             \u001b[38;5;34m0\u001b[0m │\n",
       "├─────────────────────────────────┼────────────────────────┼───────────────┤\n",
       "│ gru (\u001b[38;5;33mGRU\u001b[0m)                       │ (\u001b[38;5;45mNone\u001b[0m, \u001b[38;5;34m120\u001b[0m, \u001b[38;5;34m128\u001b[0m)       │        \u001b[38;5;34m51,072\u001b[0m │\n",
       "├─────────────────────────────────┼────────────────────────┼───────────────┤\n",
       "│ gru_1 (\u001b[38;5;33mGRU\u001b[0m)                     │ (\u001b[38;5;45mNone\u001b[0m, \u001b[38;5;34m64\u001b[0m)             │        \u001b[38;5;34m37,248\u001b[0m │\n",
       "├─────────────────────────────────┼────────────────────────┼───────────────┤\n",
       "│ dense (\u001b[38;5;33mDense\u001b[0m)                   │ (\u001b[38;5;45mNone\u001b[0m, \u001b[38;5;34m1\u001b[0m)              │            \u001b[38;5;34m65\u001b[0m │\n",
       "└─────────────────────────────────┴────────────────────────┴───────────────┘\n"
      ]
     },
     "metadata": {},
     "output_type": "display_data"
    },
    {
     "data": {
      "text/html": [
       "<pre style=\"white-space:pre;overflow-x:auto;line-height:normal;font-family:Menlo,'DejaVu Sans Mono',consolas,'Courier New',monospace\"><span style=\"font-weight: bold\"> Total params: </span><span style=\"color: #00af00; text-decoration-color: #00af00\">88,385</span> (345.25 KB)\n",
       "</pre>\n"
      ],
      "text/plain": [
       "\u001b[1m Total params: \u001b[0m\u001b[38;5;34m88,385\u001b[0m (345.25 KB)\n"
      ]
     },
     "metadata": {},
     "output_type": "display_data"
    },
    {
     "data": {
      "text/html": [
       "<pre style=\"white-space:pre;overflow-x:auto;line-height:normal;font-family:Menlo,'DejaVu Sans Mono',consolas,'Courier New',monospace\"><span style=\"font-weight: bold\"> Trainable params: </span><span style=\"color: #00af00; text-decoration-color: #00af00\">88,385</span> (345.25 KB)\n",
       "</pre>\n"
      ],
      "text/plain": [
       "\u001b[1m Trainable params: \u001b[0m\u001b[38;5;34m88,385\u001b[0m (345.25 KB)\n"
      ]
     },
     "metadata": {},
     "output_type": "display_data"
    },
    {
     "data": {
      "text/html": [
       "<pre style=\"white-space:pre;overflow-x:auto;line-height:normal;font-family:Menlo,'DejaVu Sans Mono',consolas,'Courier New',monospace\"><span style=\"font-weight: bold\"> Non-trainable params: </span><span style=\"color: #00af00; text-decoration-color: #00af00\">0</span> (0.00 B)\n",
       "</pre>\n"
      ],
      "text/plain": [
       "\u001b[1m Non-trainable params: \u001b[0m\u001b[38;5;34m0\u001b[0m (0.00 B)\n"
      ]
     },
     "metadata": {},
     "output_type": "display_data"
    }
   ],
   "source": [
    "from tensorflow.keras.models import Model\n",
    "from tensorflow.keras.layers import Input, GRU, Dense, Flatten\n",
    "\n",
    "def build_discriminator():\n",
    "    inputs = Input(shape=(120, 3))\n",
    "    x = GRU(128, return_sequences=True)(inputs)\n",
    "    x = GRU(64, return_sequences=False)(x)\n",
    "    outputs = Dense(1, activation='sigmoid')(x)\n",
    "    return Model(inputs, outputs, name=\"Discriminator\")\n",
    "\n",
    "discriminator = build_discriminator()\n",
    "print(\"\\n✅ Discriminator Model Summary:\")\n",
    "discriminator.summary()"
   ]
  },
  {
   "cell_type": "code",
   "execution_count": 15,
   "metadata": {},
   "outputs": [
    {
     "data": {
      "text/plain": [
       "\"# 定义优化器\\ngen_optimizer = tf.keras.optimizers.Adam(learning_rate=0.001)\\ndisc_optimizer = tf.keras.optimizers.Adam(learning_rate=0.001)\\n\\n# 编译 Generator 和 Discriminator\\ngenerator.compile(loss='binary_crossentropy', optimizer=gen_optimizer)\\ndiscriminator.compile(loss='binary_crossentropy', optimizer=disc_optimizer)\""
      ]
     },
     "execution_count": 15,
     "metadata": {},
     "output_type": "execute_result"
    }
   ],
   "source": [
    "'''# 定义优化器\n",
    "gen_optimizer = tf.keras.optimizers.Adam(learning_rate=0.001)\n",
    "disc_optimizer = tf.keras.optimizers.Adam(learning_rate=0.001)\n",
    "\n",
    "# 编译 Generator 和 Discriminator\n",
    "generator.compile(loss='binary_crossentropy', optimizer=gen_optimizer)\n",
    "discriminator.compile(loss='binary_crossentropy', optimizer=disc_optimizer)'''"
   ]
  },
  {
   "cell_type": "code",
   "execution_count": 17,
   "metadata": {},
   "outputs": [],
   "source": [
    "\n",
    "# ==================  异常注入函数 ==================\n",
    "def inject_anomalies(synthetic_data, anomaly_ratio=0.05):\n",
    "    \"\"\"\n",
    "    注入两种类型的异常：\n",
    "    1. 突然尖峰（Spike）\n",
    "    2. 持续偏移（Drift）\n",
    "    \"\"\"\n",
    "    num_sequences, seq_len, num_features = synthetic_data.shape\n",
    "    num_anomalies = int(num_sequences * anomaly_ratio)\n",
    "    \n",
    "    # 随机选择要注入异常的序列\n",
    "    anomaly_indices = np.random.choice(num_sequences, num_anomalies, replace=False)\n",
    "    \n",
    "    for idx in anomaly_indices:\n",
    "        # 随机选择异常类型\n",
    "        if np.random.rand() > 0.5:\n",
    "            # 类型1：突然尖峰（持续1-3个时间步）\n",
    "            spike_length = np.random.randint(1, 4)\n",
    "            spike_position = np.random.randint(0, seq_len - spike_length)\n",
    "            feature_idx = np.random.randint(0, num_features)\n",
    "            synthetic_data[idx, spike_position:spike_position+spike_length, feature_idx] *= 5\n",
    "        else:\n",
    "            # 类型2：持续偏移（持续10-30个时间步）\n",
    "            drift_length = np.random.randint(10, 31)\n",
    "            drift_position = np.random.randint(0, seq_len - drift_length)\n",
    "            feature_idx = np.random.randint(0, num_features)\n",
    "            drift_value = np.random.uniform(2.0, 4.0)  # 偏移幅度\n",
    "            synthetic_data[idx, drift_position:drift_position+drift_length, feature_idx] *= drift_value\n",
    "    \n",
    "    return synthetic_data\n",
    "\n"
   ]
  },
  {
   "cell_type": "code",
   "execution_count": 18,
   "metadata": {},
   "outputs": [
    {
     "name": "stdout",
     "output_type": "stream",
     "text": [
      "\u001b[1m1/1\u001b[0m \u001b[32m━━━━━━━━━━━━━━━━━━━━\u001b[0m\u001b[37m\u001b[0m \u001b[1m0s\u001b[0m 241ms/step\n",
      "\n",
      "✅ 生成数据形状: (32, 120, 3)\n",
      "✅ 包含异常的数据示例:\n",
      "[-0.5487251  -0.54879254 -0.5488528  -0.5489047  -0.54894775]\n"
     ]
    }
   ],
   "source": [
    "# ================== 初始化所有组件 ==================\n",
    "generator = build_generator()\n",
    "discriminator = build_discriminator()\n",
    "supervisor = build_supervisor()\n",
    "\n",
    "# 编译TimeGAN\n",
    "timegan = TimeGAN(\n",
    "    generator=generator,\n",
    "    discriminator=discriminator,\n",
    "    supervisor=supervisor\n",
    ")\n",
    "\n",
    "# 定义损失函数和优化器\n",
    "timegan.compile(\n",
    "    gen_optimizer=tf.keras.optimizers.Adam(1e-4),\n",
    "    disc_optimizer=tf.keras.optimizers.Adam(1e-4),\n",
    "    sup_optimizer=tf.keras.optimizers.Adam(1e-4),\n",
    "    gen_loss_fn=tf.keras.losses.BinaryCrossentropy(),\n",
    "    disc_loss_fn=tf.keras.losses.BinaryCrossentropy(),\n",
    "    sup_loss_fn=tf.keras.losses.MeanSquaredError()\n",
    ")\n",
    "\n",
    "# ================== 训练后生成与异常注入 ==================\n",
    "# 训练完成后生成数据（示例）\n",
    "synthetic_data = generator.predict(train_data[:32])  # 使用真实数据作为输入种子\n",
    "\n",
    "# 逆归一化\n",
    "synthetic_data_denorm = scaler.inverse_transform(\n",
    "    synthetic_data.reshape(-1, 3)\n",
    ").reshape(synthetic_data.shape)\n",
    "\n",
    "# 注入异常\n",
    "synthetic_data_with_anomalies = inject_anomalies(synthetic_data_denorm)\n",
    "\n",
    "print(\"\\n✅ 生成数据形状:\", synthetic_data_denorm.shape)  # (batch_size, 120, 3)\n",
    "print(\"✅ 包含异常的数据示例:\")\n",
    "print(synthetic_data_with_anomalies[0, 50:55, 0])  # 查看第0个序列的50-54时间步的第0个特征"
   ]
  },
  {
   "cell_type": "markdown",
   "metadata": {},
   "source": [
    "### Step 7: Train TimeGAN (Small Training Setup)"
   ]
  },
  {
   "cell_type": "code",
   "execution_count": 19,
   "metadata": {},
   "outputs": [
    {
     "data": {
      "text/plain": [
       "'import numpy as np\\nimport pandas as pd\\nimport tensorflow as tf\\nfrom tensorflow.keras.models import Model\\nfrom tensorflow.keras.layers import Input, LSTM, GRU, Dense\\nfrom tqdm import tqdm  # 导入 tqdm 进度条\\n\\n# 定义优化器\\ngen_optimizer = tf.keras.optimizers.Adam(learning_rate=0.0005, clipnorm=1.0)\\ndisc_optimizer = tf.keras.optimizers.Adam(learning_rate=0.0005, clipnorm=1.0)\\n\\n# 准备标签\\nreal_labels = np.ones((batch_size, 1), dtype=np.float32)\\nfake_labels = np.zeros((batch_size, 1), dtype=np.float32)\\n\\n# 训练循环（增加 tqdm 进度条）\\nfor epoch in range(1, epochs + 1):\\n    print(f\"\\n🚀 Epoch {epoch}/{epochs} 开始训练 ...\")\\n\\n    # 创建进度条\\n    progress_bar = tqdm(range(0, len(train_data) - batch_size, batch_size), desc=f\"Epoch {epoch}\")\\n\\n    for i in progress_bar:\\n        real_sequences = train_data[i:i + batch_size]\\n\\n        # 训练判别器\\n        with tf.GradientTape() as disc_tape:\\n            fake_sequences = generator(real_sequences, training=False)\\n            d_real = discriminator(real_sequences, training=True)\\n            d_fake = discriminator(fake_sequences, training=True)\\n\\n            d_loss_real = tf.keras.losses.binary_crossentropy(real_labels, d_real)\\n            d_loss_fake = tf.keras.losses.binary_crossentropy(fake_labels, d_fake)\\n            d_loss_total = 0.5 * (tf.reduce_mean(d_loss_real) + tf.reduce_mean(d_loss_fake))\\n\\n        disc_grads = disc_tape.gradient(d_loss_total, discriminator.trainable_variables)\\n        disc_optimizer.apply_gradients(zip(disc_grads, discriminator.trainable_variables))\\n\\n        # 训练生成器\\n        with tf.GradientTape() as gen_tape:\\n            fake_sequences = generator(real_sequences, training=True)\\n            d_fake = discriminator(fake_sequences, training=False)\\n\\n            g_loss = tf.keras.losses.binary_crossentropy(real_labels, d_fake)\\n            g_loss = tf.reduce_mean(g_loss)\\n\\n        gen_grads = gen_tape.gradient(g_loss, generator.trainable_variables)\\n        gen_optimizer.apply_gradients(zip(gen_grads, generator.trainable_variables))\\n\\n        # 更新进度条信息\\n        progress_bar.set_postfix({\"D Loss\": f\"{d_loss_total.numpy():.4f}\", \"G Loss\": f\"{g_loss.numpy():.4f}\"})\\n\\n    print(f\"✅ Epoch {epoch} 结束 - D Loss: {d_loss_total:.4f} | G Loss: {g_loss:.4f}\")\\n\\nprint(\"\\n🎉 训练完成！\")'"
      ]
     },
     "execution_count": 19,
     "metadata": {},
     "output_type": "execute_result"
    }
   ],
   "source": [
    "'''import numpy as np\n",
    "import pandas as pd\n",
    "import tensorflow as tf\n",
    "from tensorflow.keras.models import Model\n",
    "from tensorflow.keras.layers import Input, LSTM, GRU, Dense\n",
    "from tqdm import tqdm  # 导入 tqdm 进度条\n",
    "\n",
    "# 定义优化器\n",
    "gen_optimizer = tf.keras.optimizers.Adam(learning_rate=0.0005, clipnorm=1.0)\n",
    "disc_optimizer = tf.keras.optimizers.Adam(learning_rate=0.0005, clipnorm=1.0)\n",
    "\n",
    "# 准备标签\n",
    "real_labels = np.ones((batch_size, 1), dtype=np.float32)\n",
    "fake_labels = np.zeros((batch_size, 1), dtype=np.float32)\n",
    "\n",
    "# 训练循环（增加 tqdm 进度条）\n",
    "for epoch in range(1, epochs + 1):\n",
    "    print(f\"\\n🚀 Epoch {epoch}/{epochs} 开始训练 ...\")\n",
    "    \n",
    "    # 创建进度条\n",
    "    progress_bar = tqdm(range(0, len(train_data) - batch_size, batch_size), desc=f\"Epoch {epoch}\")\n",
    "\n",
    "    for i in progress_bar:\n",
    "        real_sequences = train_data[i:i + batch_size]\n",
    "        \n",
    "        # 训练判别器\n",
    "        with tf.GradientTape() as disc_tape:\n",
    "            fake_sequences = generator(real_sequences, training=False)\n",
    "            d_real = discriminator(real_sequences, training=True)\n",
    "            d_fake = discriminator(fake_sequences, training=True)\n",
    "            \n",
    "            d_loss_real = tf.keras.losses.binary_crossentropy(real_labels, d_real)\n",
    "            d_loss_fake = tf.keras.losses.binary_crossentropy(fake_labels, d_fake)\n",
    "            d_loss_total = 0.5 * (tf.reduce_mean(d_loss_real) + tf.reduce_mean(d_loss_fake))\n",
    "        \n",
    "        disc_grads = disc_tape.gradient(d_loss_total, discriminator.trainable_variables)\n",
    "        disc_optimizer.apply_gradients(zip(disc_grads, discriminator.trainable_variables))\n",
    "        \n",
    "        # 训练生成器\n",
    "        with tf.GradientTape() as gen_tape:\n",
    "            fake_sequences = generator(real_sequences, training=True)\n",
    "            d_fake = discriminator(fake_sequences, training=False)\n",
    "            \n",
    "            g_loss = tf.keras.losses.binary_crossentropy(real_labels, d_fake)\n",
    "            g_loss = tf.reduce_mean(g_loss)\n",
    "        \n",
    "        gen_grads = gen_tape.gradient(g_loss, generator.trainable_variables)\n",
    "        gen_optimizer.apply_gradients(zip(gen_grads, generator.trainable_variables))\n",
    "\n",
    "        # 更新进度条信息\n",
    "        progress_bar.set_postfix({\"D Loss\": f\"{d_loss_total.numpy():.4f}\", \"G Loss\": f\"{g_loss.numpy():.4f}\"})\n",
    "\n",
    "    print(f\"✅ Epoch {epoch} 结束 - D Loss: {d_loss_total:.4f} | G Loss: {g_loss:.4f}\")\n",
    "\n",
    "print(\"\\n🎉 训练完成！\")'''"
   ]
  },
  {
   "cell_type": "code",
   "execution_count": 20,
   "metadata": {},
   "outputs": [
    {
     "name": "stdout",
     "output_type": "stream",
     "text": [
      "\n",
      "🚀 Epoch 1/10\n"
     ]
    },
    {
     "name": "stderr",
     "output_type": "stream",
     "text": [
      "Training Progress: 100%|██████████| 1724/1724 [2:16:14<00:00,  4.74s/it, Gen Loss=nan, Sup Loss=nan, Disc Loss=nan]       \n"
     ]
    },
    {
     "name": "stdout",
     "output_type": "stream",
     "text": [
      "✅ Epoch 1 结束 - Gen Loss: nan | Sup Loss: nan | Disc Loss: nan\n",
      "\n",
      "🚀 Epoch 2/10\n"
     ]
    },
    {
     "name": "stderr",
     "output_type": "stream",
     "text": [
      "Training Progress: 100%|██████████| 1724/1724 [1:53:09<00:00,  3.94s/it, Gen Loss=nan, Sup Loss=nan, Disc Loss=nan]\n"
     ]
    },
    {
     "name": "stdout",
     "output_type": "stream",
     "text": [
      "✅ Epoch 2 结束 - Gen Loss: nan | Sup Loss: nan | Disc Loss: nan\n",
      "\n",
      "🚀 Epoch 3/10\n"
     ]
    },
    {
     "name": "stderr",
     "output_type": "stream",
     "text": [
      "Training Progress: 100%|██████████| 1724/1724 [2:03:30<00:00,  4.30s/it, Gen Loss=nan, Sup Loss=nan, Disc Loss=nan] \n"
     ]
    },
    {
     "name": "stdout",
     "output_type": "stream",
     "text": [
      "✅ Epoch 3 结束 - Gen Loss: nan | Sup Loss: nan | Disc Loss: nan\n",
      "\n",
      "🚀 Epoch 4/10\n"
     ]
    },
    {
     "name": "stderr",
     "output_type": "stream",
     "text": [
      "Training Progress: 100%|██████████| 1724/1724 [2:03:36<00:00,  4.30s/it, Gen Loss=nan, Sup Loss=nan, Disc Loss=nan] \n"
     ]
    },
    {
     "name": "stdout",
     "output_type": "stream",
     "text": [
      "✅ Epoch 4 结束 - Gen Loss: nan | Sup Loss: nan | Disc Loss: nan\n",
      "\n",
      "🚀 Epoch 5/10\n"
     ]
    },
    {
     "name": "stderr",
     "output_type": "stream",
     "text": [
      "Training Progress: 100%|██████████| 1724/1724 [1:57:23<00:00,  4.09s/it, Gen Loss=nan, Sup Loss=nan, Disc Loss=nan]\n"
     ]
    },
    {
     "name": "stdout",
     "output_type": "stream",
     "text": [
      "✅ Epoch 5 结束 - Gen Loss: nan | Sup Loss: nan | Disc Loss: nan\n",
      "\n",
      "🚀 Epoch 6/10\n"
     ]
    },
    {
     "name": "stderr",
     "output_type": "stream",
     "text": [
      "Training Progress: 100%|██████████| 1724/1724 [1:55:56<00:00,  4.04s/it, Gen Loss=nan, Sup Loss=nan, Disc Loss=nan]\n"
     ]
    },
    {
     "name": "stdout",
     "output_type": "stream",
     "text": [
      "✅ Epoch 6 结束 - Gen Loss: nan | Sup Loss: nan | Disc Loss: nan\n",
      "\n",
      "🚀 Epoch 7/10\n"
     ]
    },
    {
     "name": "stderr",
     "output_type": "stream",
     "text": [
      "Training Progress: 100%|██████████| 1724/1724 [1:55:59<00:00,  4.04s/it, Gen Loss=nan, Sup Loss=nan, Disc Loss=nan]\n"
     ]
    },
    {
     "name": "stdout",
     "output_type": "stream",
     "text": [
      "✅ Epoch 7 结束 - Gen Loss: nan | Sup Loss: nan | Disc Loss: nan\n",
      "\n",
      "🚀 Epoch 8/10\n"
     ]
    },
    {
     "name": "stderr",
     "output_type": "stream",
     "text": [
      "Training Progress: 100%|██████████| 1724/1724 [1:56:27<00:00,  4.05s/it, Gen Loss=nan, Sup Loss=nan, Disc Loss=nan]\n"
     ]
    },
    {
     "name": "stdout",
     "output_type": "stream",
     "text": [
      "✅ Epoch 8 结束 - Gen Loss: nan | Sup Loss: nan | Disc Loss: nan\n",
      "\n",
      "🚀 Epoch 9/10\n"
     ]
    },
    {
     "name": "stderr",
     "output_type": "stream",
     "text": [
      "Training Progress: 100%|██████████| 1724/1724 [1:56:33<00:00,  4.06s/it, Gen Loss=nan, Sup Loss=nan, Disc Loss=nan]\n"
     ]
    },
    {
     "name": "stdout",
     "output_type": "stream",
     "text": [
      "✅ Epoch 9 结束 - Gen Loss: nan | Sup Loss: nan | Disc Loss: nan\n",
      "\n",
      "🚀 Epoch 10/10\n"
     ]
    },
    {
     "name": "stderr",
     "output_type": "stream",
     "text": [
      "Training Progress: 100%|██████████| 1724/1724 [1:56:47<00:00,  4.06s/it, Gen Loss=nan, Sup Loss=nan, Disc Loss=nan]"
     ]
    },
    {
     "name": "stdout",
     "output_type": "stream",
     "text": [
      "✅ Epoch 10 结束 - Gen Loss: nan | Sup Loss: nan | Disc Loss: nan\n",
      "\n",
      "🎉 训练完成！\n"
     ]
    },
    {
     "name": "stderr",
     "output_type": "stream",
     "text": [
      "\n"
     ]
    }
   ],
   "source": [
    "import numpy as np\n",
    "import tensorflow as tf\n",
    "from tqdm import tqdm\n",
    "\n",
    "# ================== 使用预定义的 TimeGAN 类 ==================\n",
    "# 定义优化器参数（符合 TimeGAN 训练特点）\n",
    "timegan.compile(\n",
    "    gen_optimizer=tf.keras.optimizers.Adam(learning_rate=1e-4, clipnorm=1.0),\n",
    "    disc_optimizer=tf.keras.optimizers.Adam(learning_rate=1e-4, clipnorm=1.0),\n",
    "    sup_optimizer=tf.keras.optimizers.Adam(learning_rate=1e-4, clipnorm=1.0),\n",
    "    gen_loss_fn=tf.keras.losses.BinaryCrossentropy(),\n",
    "    disc_loss_fn=tf.keras.losses.BinaryCrossentropy(),\n",
    "    sup_loss_fn=tf.keras.losses.MeanSquaredError()\n",
    ")\n",
    "\n",
    "# ================== 改进训练流程 ==================\n",
    "epochs = 10\n",
    "batch_size = 32\n",
    "sequence_length = 120  # 每个时间序列的长度\n",
    "\n",
    "# 处理数据批次，避免打乱时间顺序\n",
    "train_dataset = tf.data.Dataset.from_tensor_slices(train_data)\n",
    "train_dataset = train_dataset.batch(batch_size, drop_remainder=True).shuffle(buffer_size=5, reshuffle_each_iteration=True)\n",
    "\n",
    "# 训练循环\n",
    "for epoch in range(1, epochs + 1):\n",
    "    print(f\"\\n🚀 Epoch {epoch}/{epochs}\")\n",
    "    progress_bar = tqdm(train_dataset, desc=\"Training Progress\")\n",
    "    \n",
    "    total_gen_loss = 0.0\n",
    "    total_disc_loss = 0.0\n",
    "    total_sup_loss = 0.0\n",
    "    \n",
    "    for batch in progress_bar:\n",
    "        with tf.GradientTape() as gen_tape, tf.GradientTape() as sup_tape, tf.GradientTape() as disc_tape:\n",
    "            # 生成假数据\n",
    "            fake_sequences = timegan.generator(batch, training=True)\n",
    "\n",
    "            # **修正 Supervisor 输入形状**\n",
    "            fake_sequences_padded = tf.pad(fake_sequences[:, :-1, :], [[0, 0], [0, 1], [0, 0]], mode='CONSTANT')\n",
    "            \n",
    "            # 监督损失（预测未来时间步）\n",
    "            pred_next_step = timegan.supervisor(fake_sequences_padded, training=True)  \n",
    "            sup_loss = timegan.sup_loss_fn(fake_sequences[:, 1:, :], pred_next_step[:, :-1, :])\n",
    "\n",
    "            # 判别器损失\n",
    "            d_real = timegan.discriminator(batch, training=True)\n",
    "            d_fake = timegan.discriminator(fake_sequences, training=True)\n",
    "\n",
    "            real_labels = tf.ones_like(d_real)\n",
    "            fake_labels = tf.zeros_like(d_fake)\n",
    "\n",
    "            d_loss_real = tf.reduce_mean(tf.keras.losses.binary_crossentropy(real_labels, d_real))\n",
    "            d_loss_fake = tf.reduce_mean(tf.keras.losses.binary_crossentropy(fake_labels, d_fake))\n",
    "            d_loss_total = 0.5 * (d_loss_real + d_loss_fake)\n",
    "\n",
    "            # 生成器损失\n",
    "            g_loss = tf.reduce_mean(tf.keras.losses.binary_crossentropy(real_labels, d_fake))\n",
    "\n",
    "            # 总生成器损失（包含监督损失）\n",
    "            total_gen_loss = g_loss + 0.5 * sup_loss\n",
    "\n",
    "        # 计算梯度并更新判别器\n",
    "        disc_grads = disc_tape.gradient(d_loss_total, timegan.discriminator.trainable_variables)\n",
    "        timegan.disc_optimizer.apply_gradients(zip(disc_grads, timegan.discriminator.trainable_variables))\n",
    "\n",
    "        # 计算梯度并更新生成器\n",
    "        gen_grads = gen_tape.gradient(total_gen_loss, timegan.generator.trainable_variables)\n",
    "        timegan.gen_optimizer.apply_gradients(zip(gen_grads, timegan.generator.trainable_variables))\n",
    "\n",
    "        # 计算梯度并更新监督器\n",
    "        sup_grads = sup_tape.gradient(sup_loss, timegan.supervisor.trainable_variables)\n",
    "        timegan.sup_optimizer.apply_gradients(zip(sup_grads, timegan.supervisor.trainable_variables))\n",
    "\n",
    "        # 记录损失\n",
    "        total_gen_loss += total_gen_loss.numpy()\n",
    "        total_sup_loss += sup_loss.numpy()\n",
    "        total_disc_loss += d_loss_total.numpy()\n",
    "        \n",
    "        # 更新进度条\n",
    "        progress_bar.set_postfix({\n",
    "            \"Gen Loss\": f\"{g_loss.numpy():.4f}\",\n",
    "            \"Sup Loss\": f\"{sup_loss.numpy():.4f}\",\n",
    "            \"Disc Loss\": f\"{d_loss_total.numpy():.4f}\"\n",
    "        })\n",
    "    \n",
    "    # 计算平均损失\n",
    "    avg_gen_loss = total_gen_loss / len(train_dataset)\n",
    "    avg_sup_loss = total_sup_loss / len(train_dataset)\n",
    "    avg_disc_loss = total_disc_loss / len(train_dataset)\n",
    "\n",
    "    print(f\"✅ Epoch {epoch} 结束 - Gen Loss: {avg_gen_loss:.4f} | Sup Loss: {avg_sup_loss:.4f} | Disc Loss: {avg_disc_loss:.4f}\")\n",
    "\n",
    "print(\"\\n🎉 训练完成！\")\n"
   ]
  },
  {
   "cell_type": "markdown",
   "metadata": {},
   "source": [
    "### step 8"
   ]
  },
  {
   "cell_type": "code",
   "execution_count": 27,
   "metadata": {},
   "outputs": [
    {
     "data": {
      "text/plain": [
       "'# ================== 生成数据并注入异常 ==================\\n# 生成数据时使用噪声，而非真实数据\\nnoise = np.random.normal(size=(batch_size, sequence_length, 3))\\nsynthetic_data = generator.predict(noise)\\n\\n# 逆归一化并注入更平滑的异常\\nsynthetic_data_denorm = scaler.inverse_transform(\\n    synthetic_data.reshape(-1, 3)\\n).reshape(synthetic_data.shape)\\n\\nsynthetic_data_with_anomalies = inject_anomalies(synthetic_data_denorm * np.random.uniform(0.9, 1.1))\\n\\nprint(\"\\n生成数据示例（含异常）:\")\\nprint(synthetic_data_with_anomalies[0, 50:55, 0])  # 查看异常数据'"
      ]
     },
     "execution_count": 27,
     "metadata": {},
     "output_type": "execute_result"
    }
   ],
   "source": [
    "'''# ================== 生成数据并注入异常 ==================\n",
    "# 生成数据时使用噪声，而非真实数据\n",
    "noise = np.random.normal(size=(batch_size, sequence_length, 3))\n",
    "synthetic_data = generator.predict(noise)\n",
    "\n",
    "# 逆归一化并注入更平滑的异常\n",
    "synthetic_data_denorm = scaler.inverse_transform(\n",
    "    synthetic_data.reshape(-1, 3)\n",
    ").reshape(synthetic_data.shape)\n",
    "\n",
    "synthetic_data_with_anomalies = inject_anomalies(synthetic_data_denorm * np.random.uniform(0.9, 1.1))\n",
    "\n",
    "print(\"\\n生成数据示例（含异常）:\")\n",
    "print(synthetic_data_with_anomalies[0, 50:55, 0])  # 查看异常数据'''"
   ]
  },
  {
   "cell_type": "code",
   "execution_count": 28,
   "metadata": {},
   "outputs": [
    {
     "name": "stdout",
     "output_type": "stream",
     "text": [
      "\u001b[1m1/1\u001b[0m \u001b[32m━━━━━━━━━━━━━━━━━━━━\u001b[0m\u001b[37m\u001b[0m \u001b[1m0s\u001b[0m 47ms/step\n",
      "\n",
      "✅ 生成数据示例（含异常）:\n",
      "[nan nan nan nan nan]\n"
     ]
    }
   ],
   "source": [
    "import numpy as np\n",
    "import pandas as pd\n",
    "import matplotlib.pyplot as plt\n",
    "import tensorflow as tf\n",
    "\n",
    "# ================== 🚀 Step 1: 生成数据 ==================\n",
    "# 生成数据时使用噪声，而非真实数据\n",
    "batch_size = 32\n",
    "sequence_length = 120  # 1小时数据\n",
    "num_features = 3  # 3个传感器\n",
    "\n",
    "# 生成噪声\n",
    "noise = np.random.normal(size=(batch_size, sequence_length, num_features))\n",
    "synthetic_data = generator.predict(noise)\n",
    "\n",
    "# 逆归一化数据\n",
    "synthetic_data_denorm = scaler.inverse_transform(\n",
    "    synthetic_data.reshape(-1, num_features)\n",
    ").reshape(synthetic_data.shape)\n",
    "\n",
    "# 注入更平滑的异常\n",
    "synthetic_data_with_anomalies = inject_anomalies(synthetic_data_denorm * np.random.uniform(0.9, 1.1))\n",
    "\n",
    "print(\"\\n✅ 生成数据示例（含异常）:\")\n",
    "print(synthetic_data_with_anomalies[0, 50:55, 0])  # 查看异常数据\n",
    "\n"
   ]
  },
  {
   "cell_type": "code",
   "execution_count": 29,
   "metadata": {},
   "outputs": [
    {
     "data": {
      "image/png": "[encoded data removed]",
      "text/plain": [
       "<Figure size 1200x600 with 1 Axes>"
      ]
     },
     "metadata": {},
     "output_type": "display_data"
    },
    {
     "name": "stdout",
     "output_type": "stream",
     "text": [
      "\n",
      "✅ 可视化图像已保存: ../databases/synthetic_time_series.png\n"
     ]
    }
   ],
   "source": [
    "import numpy as np\n",
    "import pandas as pd\n",
    "import matplotlib.pyplot as plt\n",
    "import tensorflow as tf\n",
    "# ================== 🚀 Step 2: 可视化真实 vs 生成数据 ==================\n",
    "# 选择一个样本进行可视化 (batch 中的第一个)\n",
    "sample_idx = 0\n",
    "sample_data = synthetic_data_with_anomalies[sample_idx]  # Shape: (120, 3)\n",
    "time_steps = np.arange(sequence_length)  # 时间步\n",
    "\n",
    "# 绘制 3 个特征的时间序列\n",
    "plt.figure(figsize=(12, 6))\n",
    "plt.plot(time_steps, sample_data[:, 0], label=\"Cooling Channel 10\", linestyle='-', marker='o', markersize=3)\n",
    "plt.plot(time_steps, sample_data[:, 1], label=\"Temperature Channel 1\", linestyle='--', marker='s', markersize=3)\n",
    "plt.plot(time_steps, sample_data[:, 2], label=\"Maxigauge Channel 3\", linestyle='-.', marker='d', markersize=3)\n",
    "\n",
    "# 图像美化\n",
    "plt.xlabel(\"Time Steps (1-hour duration)\")\n",
    "plt.ylabel(\"Sensor Values\")\n",
    "plt.title(\"Synthetic Time Series Data Generated by TimeGAN\")\n",
    "plt.legend()\n",
    "plt.grid(True)\n",
    "\n",
    "# 保存可视化结果\n",
    "plot_filename = \"../databases/synthetic_time_series.png\"\n",
    "plt.savefig(plot_filename)\n",
    "plt.show()\n",
    "\n",
    "print(f\"\\n✅ 可视化图像已保存: {plot_filename}\")"
   ]
  },
  {
   "cell_type": "code",
   "execution_count": 30,
   "metadata": {},
   "outputs": [
    {
     "name": "stdout",
     "output_type": "stream",
     "text": [
      "[[[nan nan nan]\n",
      "  [nan nan nan]\n",
      "  [nan nan nan]\n",
      "  ...\n",
      "  [nan nan nan]\n",
      "  [nan nan nan]\n",
      "  [nan nan nan]]\n",
      "\n",
      " [[nan nan nan]\n",
      "  [nan nan nan]\n",
      "  [nan nan nan]\n",
      "  ...\n",
      "  [nan nan nan]\n",
      "  [nan nan nan]\n",
      "  [nan nan nan]]\n",
      "\n",
      " [[nan nan nan]\n",
      "  [nan nan nan]\n",
      "  [nan nan nan]\n",
      "  ...\n",
      "  [nan nan nan]\n",
      "  [nan nan nan]\n",
      "  [nan nan nan]]\n",
      "\n",
      " ...\n",
      "\n",
      " [[nan nan nan]\n",
      "  [nan nan nan]\n",
      "  [nan nan nan]\n",
      "  ...\n",
      "  [nan nan nan]\n",
      "  [nan nan nan]\n",
      "  [nan nan nan]]\n",
      "\n",
      " [[nan nan nan]\n",
      "  [nan nan nan]\n",
      "  [nan nan nan]\n",
      "  ...\n",
      "  [nan nan nan]\n",
      "  [nan nan nan]\n",
      "  [nan nan nan]]\n",
      "\n",
      " [[nan nan nan]\n",
      "  [nan nan nan]\n",
      "  [nan nan nan]\n",
      "  ...\n",
      "  [nan nan nan]\n",
      "  [nan nan nan]\n",
      "  [nan nan nan]]]\n"
     ]
    }
   ],
   "source": [
    "print(synthetic_data_with_anomalies)"
   ]
  },
  {
   "cell_type": "code",
   "execution_count": 33,
   "metadata": {},
   "outputs": [
    {
     "name": "stdout",
     "output_type": "stream",
     "text": [
      "\n",
      "✅ 生成数据已保存: ../databases/simulated_TimeGAN_output.csv\n"
     ]
    }
   ],
   "source": [
    "import numpy as np\n",
    "import pandas as pd\n",
    "import matplotlib.pyplot as plt\n",
    "import tensorflow as tf\n",
    "# ================== 🚀 Step 3: 保存生成数据到 CSV ==================\n",
    "# 转换为 Pandas DataFrame\n",
    "columns = [\"Cooling Channel 10\", \"Temperature Channel 1\", \"Maxigauge Channel 3\"]\n",
    "simulated_df = pd.DataFrame(\n",
    "    synthetic_data_with_anomalies.reshape(-1, num_features),\n",
    "    columns=columns\n",
    ")\n",
    "\n",
    "# 保存 CSV 文件\n",
    "csv_filename = \"../databases/simulated_TimeGAN_output.csv\"\n",
    "simulated_df.to_csv(csv_filename, index=False)\n",
    "\n",
    "print(f\"\\n✅ 生成数据已保存: {csv_filename}\")"
   ]
  },
  {
   "cell_type": "code",
   "execution_count": 35,
   "metadata": {},
   "outputs": [
    {
     "data": {
      "text/plain": [
       "'import matplotlib.pyplot as plt\\n\\n# 选择一个 batch 的第 1 组时间序列\\nreal_sample = test_sequences[0]  # 真实数据\\ngenerated_sample = generated_sequences[0]  # 生成数据\\n\\nplt.figure(figsize=(12, 6))\\n\\n# 可视化 cooling_channel10\\nplt.subplot(3, 1, 1)\\nplt.plot(real_sample[:, 0], label=\"Real Cooling Channel\", linestyle=\\'dotted\\')\\nplt.plot(generated_sample[:, 0], label=\"Generated Cooling Channel\")\\nplt.legend()\\n\\n# 可视化 temperature_channel1\\nplt.subplot(3, 1, 2)\\nplt.plot(real_sample[:, 1], label=\"Real Temperature Channel\", linestyle=\\'dotted\\')\\nplt.plot(generated_sample[:, 1], label=\"Generated Temperature Channel\")\\nplt.legend()\\n\\n# 可视化 maxigauge_channel3\\nplt.subplot(3, 1, 3)\\nplt.plot(real_sample[:, 2], label=\"Real Maxigauge Channel\", linestyle=\\'dotted\\')\\nplt.plot(generated_sample[:, 2], label=\"Generated Maxigauge Channel\")\\nplt.legend()\\n\\nplt.tight_layout()\\nplt.show()\\n'"
      ]
     },
     "execution_count": 35,
     "metadata": {},
     "output_type": "execute_result"
    }
   ],
   "source": [
    "'''import matplotlib.pyplot as plt\n",
    "\n",
    "# 选择一个 batch 的第 1 组时间序列\n",
    "real_sample = test_sequences[0]  # 真实数据\n",
    "generated_sample = generated_sequences[0]  # 生成数据\n",
    "\n",
    "plt.figure(figsize=(12, 6))\n",
    "\n",
    "# 可视化 cooling_channel10\n",
    "plt.subplot(3, 1, 1)\n",
    "plt.plot(real_sample[:, 0], label=\"Real Cooling Channel\", linestyle='dotted')\n",
    "plt.plot(generated_sample[:, 0], label=\"Generated Cooling Channel\")\n",
    "plt.legend()\n",
    "\n",
    "# 可视化 temperature_channel1\n",
    "plt.subplot(3, 1, 2)\n",
    "plt.plot(real_sample[:, 1], label=\"Real Temperature Channel\", linestyle='dotted')\n",
    "plt.plot(generated_sample[:, 1], label=\"Generated Temperature Channel\")\n",
    "plt.legend()\n",
    "\n",
    "# 可视化 maxigauge_channel3\n",
    "plt.subplot(3, 1, 3)\n",
    "plt.plot(real_sample[:, 2], label=\"Real Maxigauge Channel\", linestyle='dotted')\n",
    "plt.plot(generated_sample[:, 2], label=\"Generated Maxigauge Channel\")\n",
    "plt.legend()\n",
    "\n",
    "plt.tight_layout()\n",
    "plt.show()\n",
    "'''"
   ]
  }
 ],
 "metadata": {
  "kernelspec": {
   "display_name": "Gerrycapstone",
   "language": "python",
   "name": "python3"
  },
  "language_info": {
   "codemirror_mode": {
    "name": "ipython",
    "version": 3
   },
   "file_extension": ".py",
   "mimetype": "text/x-python",
   "name": "python",
   "nbconvert_exporter": "python",
   "pygments_lexer": "ipython3",
   "version": "3.12.3"
  }
 },
 "nbformat": 4,
 "nbformat_minor": 2
}
